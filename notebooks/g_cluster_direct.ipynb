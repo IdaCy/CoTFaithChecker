{
 "cells": [
  {
   "cell_type": "markdown",
   "id": "6db6428b",
   "metadata": {},
   "source": [
    "# Chain‑of‑Thought Faithfulness Experiments"
   ]
  },
  {
   "cell_type": "code",
   "execution_count": 1,
   "id": "2b9e9afc",
   "metadata": {},
   "outputs": [
    {
     "name": "stdout",
     "output_type": "stream",
     "text": [
      "/root/CoTFaithChecker\n",
      "cwd -> /root/CoTFaithChecker\n",
      "file exists? -> True\n"
     ]
    },
    {
     "name": "stderr",
     "output_type": "stream",
     "text": [
      "/usr/local/lib/python3.10/dist-packages/IPython/core/magics/osm.py:417: UserWarning: This is now an optional IPython functionality, setting dhist requires you to install the `pickleshare` library.\n",
      "  self.shell.db['dhist'] = compress_dhist(dhist)[-100:]\n"
     ]
    }
   ],
   "source": [
    "import os, pathlib, sys\n",
    "%cd ..\n",
    "print(\"cwd ->\", os.getcwd())\n",
    "print(\"file exists? ->\", pathlib.Path('g_cot_cluster/outputs/mmlu/DeepSeek-R1-Distill-Llama-8B/segmented_completions_none.json').exists())"
   ]
  },
  {
   "cell_type": "markdown",
   "id": "21d9861e",
   "metadata": {},
   "source": [
    "Install dependencies if needed (`pip install transformers scikit-learn umap-learn cpca matplotlib`) and import helper modules."
   ]
  },
  {
   "cell_type": "code",
   "execution_count": 2,
   "id": "f97cdf32",
   "metadata": {},
   "outputs": [
    {
     "name": "stderr",
     "output_type": "stream",
     "text": [
      "/usr/local/lib/python3.10/dist-packages/tqdm/auto.py:21: TqdmWarning: IProgress not found. Please update jupyter and ipywidgets. See https://ipywidgets.readthedocs.io/en/stable/user_install.html\n",
      "  from .autonotebook import tqdm as notebook_tqdm\n"
     ]
    }
   ],
   "source": [
    "# needs:\n",
    "\"\"\"\n",
    "pip install umap\n",
    "pip install contrastive\n",
    "\"\"\"\n",
    "\n",
    "import os, sys, json, numpy as np\n",
    "from pathlib import Path\n",
    "import matplotlib.pyplot as plt\n",
    "%matplotlib inline\n",
    "\n",
    "# add project path\n",
    "sys.path.append(\"/mnt/data/cot_faithfulness\")\n",
    "\n",
    "from g_cot_cluster.cot_direct.data_loader import load_segmented_completions, iter_segments\n",
    "from g_cot_cluster.cot_direct.representations import RepresentationExtractor\n",
    "from g_cot_cluster.cot_direct.clustering import cluster_kmeans, embed_to_umap, plot_clusters_2d\n",
    "from g_cot_cluster.cot_direct.cpca_utils import run_cpca, plot_cpca_projection\n",
    "from g_cot_cluster.cot_direct.probes import layerwise_probe\n",
    "from g_cot_cluster.cot_direct.causal_edit import ActivationPatcher\n"
   ]
  },
  {
   "cell_type": "code",
   "execution_count": null,
   "id": "40db9ed3",
   "metadata": {},
   "outputs": [
    {
     "ename": "NameError",
     "evalue": "name 'tokenizer' is not defined",
     "output_type": "error",
     "traceback": [
      "\u001b[0;31m---------------------------------------------------------------------------\u001b[0m",
      "\u001b[0;31mNameError\u001b[0m                                 Traceback (most recent call last)",
      "Cell \u001b[0;32mIn[5], line 1\u001b[0m\n\u001b[0;32m----> 1\u001b[0m \u001b[38;5;28;01mdel\u001b[39;00m tokenizer\n",
      "\u001b[0;31mNameError\u001b[0m: name 'tokenizer' is not defined"
     ]
    }
   ],
   "source": [
    "DATA_DIR = Path(\"g_cot_cluster/outputs/mmlu/DeepSeek-R1-Distill-Llama-8B\")\n",
    "HINT_TYPES = [\"none\", \"sycophancy\", \"induced_urgency\", \"unethical_information\"]\n",
    "MODEL_NAME = \"deepseek-ai/DeepSeek-R1-Distill-Llama-8B\"\n",
    "\n",
    "extractor = RepresentationExtractor(MODEL_NAME)"
   ]
  },
  {
   "cell_type": "markdown",
   "id": "a889e047",
   "metadata": {},
   "source": [
    "## 2‑a. Clustering representations by category"
   ]
  },
  {
   "cell_type": "code",
   "execution_count": null,
   "id": "c9412bc4",
   "metadata": {},
   "outputs": [
    {
     "ename": "FileNotFoundError",
     "evalue": "[Errno 2] No such file or directory: '.cache/embeddings/9079943670916444799_L-1.npy'",
     "output_type": "error",
     "traceback": [
      "\u001b[0;31m---------------------------------------------------------------------------\u001b[0m",
      "\u001b[0;31mFileNotFoundError\u001b[0m                         Traceback (most recent call last)",
      "Cell \u001b[0;32mIn[8], line 9\u001b[0m\n\u001b[1;32m      7\u001b[0m texts \u001b[38;5;241m=\u001b[39m [s[\u001b[38;5;124m\"\u001b[39m\u001b[38;5;124mtext\u001b[39m\u001b[38;5;124m\"\u001b[39m] \u001b[38;5;28;01mfor\u001b[39;00m s \u001b[38;5;129;01min\u001b[39;00m segs]\n\u001b[1;32m      8\u001b[0m cats  \u001b[38;5;241m=\u001b[39m [s[\u001b[38;5;124m\"\u001b[39m\u001b[38;5;124mphrase_category\u001b[39m\u001b[38;5;124m\"\u001b[39m] \u001b[38;5;28;01mfor\u001b[39;00m s \u001b[38;5;129;01min\u001b[39;00m segs]\n\u001b[0;32m----> 9\u001b[0m emb   \u001b[38;5;241m=\u001b[39m \u001b[43mextractor\u001b[49m\u001b[38;5;241;43m.\u001b[39;49m\u001b[43mbulk_embed\u001b[49m\u001b[43m(\u001b[49m\u001b[43mtexts\u001b[49m\u001b[43m,\u001b[49m\u001b[43m \u001b[49m\u001b[43mlayer\u001b[49m\u001b[38;5;241;43m=\u001b[39;49m\u001b[38;5;241;43m-\u001b[39;49m\u001b[38;5;241;43m1\u001b[39;49m\u001b[43m)\u001b[49m\n\u001b[1;32m     10\u001b[0m labels, sil \u001b[38;5;241m=\u001b[39m cluster_kmeans(emb, n_clusters\u001b[38;5;241m=\u001b[39m\u001b[38;5;28mlen\u001b[39m(\u001b[38;5;28mset\u001b[39m(cats)))\n\u001b[1;32m     11\u001b[0m um2 \u001b[38;5;241m=\u001b[39m embed_to_umap(emb)\n",
      "File \u001b[0;32m~/CoTFaithChecker/g_cot_cluster/cot_direct/representations.py:37\u001b[0m, in \u001b[0;36mRepresentationExtractor.bulk_embed\u001b[0;34m(self, texts, layer)\u001b[0m\n\u001b[1;32m     36\u001b[0m \u001b[38;5;28;01mdef\u001b[39;00m\u001b[38;5;250m \u001b[39m\u001b[38;5;21mbulk_embed\u001b[39m(\u001b[38;5;28mself\u001b[39m, texts: List[\u001b[38;5;28mstr\u001b[39m], layer: \u001b[38;5;28mint\u001b[39m \u001b[38;5;241m=\u001b[39m \u001b[38;5;241m-\u001b[39m\u001b[38;5;241m1\u001b[39m):\n\u001b[0;32m---> 37\u001b[0m     \u001b[38;5;28;01mreturn\u001b[39;00m np\u001b[38;5;241m.\u001b[39mstack([\u001b[38;5;28mself\u001b[39m\u001b[38;5;241m.\u001b[39membed_segment(t, layer\u001b[38;5;241m=\u001b[39mlayer) \u001b[38;5;28;01mfor\u001b[39;00m t \u001b[38;5;129;01min\u001b[39;00m texts])\n",
      "File \u001b[0;32m~/CoTFaithChecker/g_cot_cluster/cot_direct/representations.py:37\u001b[0m, in \u001b[0;36m<listcomp>\u001b[0;34m(.0)\u001b[0m\n\u001b[1;32m     36\u001b[0m \u001b[38;5;28;01mdef\u001b[39;00m\u001b[38;5;250m \u001b[39m\u001b[38;5;21mbulk_embed\u001b[39m(\u001b[38;5;28mself\u001b[39m, texts: List[\u001b[38;5;28mstr\u001b[39m], layer: \u001b[38;5;28mint\u001b[39m \u001b[38;5;241m=\u001b[39m \u001b[38;5;241m-\u001b[39m\u001b[38;5;241m1\u001b[39m):\n\u001b[0;32m---> 37\u001b[0m     \u001b[38;5;28;01mreturn\u001b[39;00m np\u001b[38;5;241m.\u001b[39mstack([\u001b[38;5;28;43mself\u001b[39;49m\u001b[38;5;241;43m.\u001b[39;49m\u001b[43membed_segment\u001b[49m\u001b[43m(\u001b[49m\u001b[43mt\u001b[49m\u001b[43m,\u001b[49m\u001b[43m \u001b[49m\u001b[43mlayer\u001b[49m\u001b[38;5;241;43m=\u001b[39;49m\u001b[43mlayer\u001b[49m\u001b[43m)\u001b[49m \u001b[38;5;28;01mfor\u001b[39;00m t \u001b[38;5;129;01min\u001b[39;00m texts])\n",
      "File \u001b[0;32m~/CoTFaithChecker/g_cot_cluster/cot_direct/representations.py:33\u001b[0m, in \u001b[0;36mRepresentationExtractor.embed_segment\u001b[0;34m(self, text, layer)\u001b[0m\n\u001b[1;32m     31\u001b[0m     out \u001b[38;5;241m=\u001b[39m \u001b[38;5;28mself\u001b[39m\u001b[38;5;241m.\u001b[39mmodel(\u001b[38;5;241m*\u001b[39m\u001b[38;5;241m*\u001b[39minputs)\n\u001b[1;32m     32\u001b[0m vec \u001b[38;5;241m=\u001b[39m out\u001b[38;5;241m.\u001b[39mhidden_states[layer][\u001b[38;5;241m0\u001b[39m]\u001b[38;5;241m.\u001b[39mmean(dim\u001b[38;5;241m=\u001b[39m\u001b[38;5;241m0\u001b[39m)\u001b[38;5;241m.\u001b[39mcpu()\u001b[38;5;241m.\u001b[39mnumpy()\n\u001b[0;32m---> 33\u001b[0m \u001b[43mnp\u001b[49m\u001b[38;5;241;43m.\u001b[39;49m\u001b[43msave\u001b[49m\u001b[43m(\u001b[49m\u001b[43mcache_file\u001b[49m\u001b[43m,\u001b[49m\u001b[43m \u001b[49m\u001b[43mvec\u001b[49m\u001b[43m)\u001b[49m\n\u001b[1;32m     34\u001b[0m \u001b[38;5;28;01mreturn\u001b[39;00m vec\n",
      "File \u001b[0;32m/usr/local/lib/python3.10/dist-packages/numpy/lib/npyio.py:542\u001b[0m, in \u001b[0;36msave\u001b[0;34m(file, arr, allow_pickle, fix_imports)\u001b[0m\n\u001b[1;32m    540\u001b[0m     \u001b[38;5;28;01mif\u001b[39;00m \u001b[38;5;129;01mnot\u001b[39;00m file\u001b[38;5;241m.\u001b[39mendswith(\u001b[38;5;124m'\u001b[39m\u001b[38;5;124m.npy\u001b[39m\u001b[38;5;124m'\u001b[39m):\n\u001b[1;32m    541\u001b[0m         file \u001b[38;5;241m=\u001b[39m file \u001b[38;5;241m+\u001b[39m \u001b[38;5;124m'\u001b[39m\u001b[38;5;124m.npy\u001b[39m\u001b[38;5;124m'\u001b[39m\n\u001b[0;32m--> 542\u001b[0m     file_ctx \u001b[38;5;241m=\u001b[39m \u001b[38;5;28;43mopen\u001b[39;49m\u001b[43m(\u001b[49m\u001b[43mfile\u001b[49m\u001b[43m,\u001b[49m\u001b[43m \u001b[49m\u001b[38;5;124;43m\"\u001b[39;49m\u001b[38;5;124;43mwb\u001b[39;49m\u001b[38;5;124;43m\"\u001b[39;49m\u001b[43m)\u001b[49m\n\u001b[1;32m    544\u001b[0m \u001b[38;5;28;01mwith\u001b[39;00m file_ctx \u001b[38;5;28;01mas\u001b[39;00m fid:\n\u001b[1;32m    545\u001b[0m     arr \u001b[38;5;241m=\u001b[39m np\u001b[38;5;241m.\u001b[39masanyarray(arr)\n",
      "\u001b[0;31mFileNotFoundError\u001b[0m: [Errno 2] No such file or directory: '.cache/embeddings/9079943670916444799_L-1.npy'"
     ]
    }
   ],
   "source": [
    "import pandas as pd\n",
    "results = []\n",
    "for hint in HINT_TYPES:\n",
    "    file_path = DATA_DIR / f\"segmented_completions_{hint}.json\"\n",
    "    data = load_segmented_completions(file_path)\n",
    "    segs = list(iter_segments(data))\n",
    "    texts = [s[\"text\"] for s in segs]\n",
    "    cats  = [s[\"phrase_category\"] for s in segs]\n",
    "    emb   = extractor.bulk_embed(texts, layer=-1)\n",
    "    labels, sil = cluster_kmeans(emb, n_clusters=len(set(cats)))\n",
    "    um2 = embed_to_umap(emb)\n",
    "    fig = plot_clusters_2d(um2, [list(sorted(set(cats))).index(c) for c in cats],\n",
    "                           f\"UMAP projection by category – {hint}\")\n",
    "    plt.show()\n",
    "    results.append({\"hint\": hint, \"silhouette\": sil})\n",
    "pd.DataFrame(results).set_index(\"hint\").plot(kind=\"bar\", legend=False, title=\"Silhouette scores\")\n",
    "plt.show()\n"
   ]
  },
  {
   "cell_type": "markdown",
   "id": "8e5fb9c6",
   "metadata": {},
   "source": [
    "## 2‑b. Contrastive PCA"
   ]
  },
  {
   "cell_type": "code",
   "execution_count": null,
   "id": "af17f9f0",
   "metadata": {},
   "outputs": [],
   "source": [
    "\n",
    "bg_emb = extractor.bulk_embed(\n",
    "    [s[\"text\"] for s in iter_segments(load_segmented_completions(DATA_DIR / \"segmented_completions_none.json\"))]\n",
    ")\n",
    "for hint in HINT_TYPES[1:]:\n",
    "    tgt_emb = extractor.bulk_embed(\n",
    "        [s[\"text\"] for s in iter_segments(load_segmented_completions(DATA_DIR / f\"segmented_completions_{hint}.json\"))]\n",
    "    )\n",
    "    model = run_cpca(background=bg_emb, target=tgt_emb)\n",
    "    fig = plot_cpca_projection(model, bg_emb, tgt_emb, f\"cPCA – {hint} vs none\")\n",
    "    plt.show()\n"
   ]
  },
  {
   "cell_type": "markdown",
   "id": "98b9818c",
   "metadata": {},
   "source": [
    "## 2‑c. Probing predictability of categories"
   ]
  },
  {
   "cell_type": "code",
   "execution_count": null,
   "id": "1469239e",
   "metadata": {},
   "outputs": [],
   "source": [
    "\n",
    "data_none = load_segmented_completions(DATA_DIR / \"segmented_completions_none.json\")\n",
    "segs = list(iter_segments(data_none))\n",
    "texts = [s[\"text\"] for s in segs]\n",
    "cats = [s[\"phrase_category\"] for s in segs]\n",
    "label_map = {c:i for i,c in enumerate(sorted(set(cats)))}\n",
    "y = np.array([label_map[c] for c in cats])\n",
    "\n",
    "# Example: only last layer; extend to all layers as needed\n",
    "reps_last = extractor.bulk_embed(texts, layer=-1)\n",
    "layer_reps = reps_last[:, None, :]  # shape (n, 1, d)\n",
    "accs = layerwise_probe(layer_reps, y)\n",
    "print(\"Probe accuracy, last layer:\", accs[0])\n"
   ]
  },
  {
   "cell_type": "markdown",
   "id": "6cc0488a",
   "metadata": {},
   "source": [
    "## 2‑d. Activation patching demo"
   ]
  },
  {
   "cell_type": "code",
   "execution_count": null,
   "id": "36b3c4ad",
   "metadata": {},
   "outputs": [],
   "source": [
    "\n",
    "patcher = ActivationPatcher(MODEL_NAME)\n",
    "sample_src = segs[0][\"text\"]\n",
    "sample_donor = segs[1][\"text\"]\n",
    "logits = patcher.patch(sample_src, sample_donor, num_tokens=20, layer_idx=-1)\n",
    "print(\"Patched logits shape:\", logits.shape)\n"
   ]
  }
 ],
 "metadata": {
  "kernelspec": {
   "display_name": "Python 3",
   "language": "python",
   "name": "python3"
  },
  "language_info": {
   "codemirror_mode": {
    "name": "ipython",
    "version": 3
   },
   "file_extension": ".py",
   "mimetype": "text/x-python",
   "name": "python",
   "nbconvert_exporter": "python",
   "pygments_lexer": "ipython3",
   "version": "3.10.12"
  }
 },
 "nbformat": 4,
 "nbformat_minor": 5
}
