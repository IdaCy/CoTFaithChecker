{
 "cells": [
  {
   "cell_type": "code",
   "execution_count": 1,
   "metadata": {},
   "outputs": [
    {
     "name": "stdout",
     "output_type": "stream",
     "text": [
      "/root/CoTFaithChecker\n"
     ]
    },
    {
     "name": "stderr",
     "output_type": "stream",
     "text": [
      "/usr/local/lib/python3.10/dist-packages/IPython/core/magics/osm.py:417: UserWarning: This is now an optional IPython functionality, setting dhist requires you to install the `pickleshare` library.\n",
      "  self.shell.db['dhist'] = compress_dhist(dhist)[-100:]\n"
     ]
    },
    {
     "data": {
      "text/plain": [
       "'/root/CoTFaithChecker'"
      ]
     },
     "execution_count": 1,
     "metadata": {},
     "output_type": "execute_result"
    }
   ],
   "source": [
    "%cd ..\n",
    "%pwd"
   ]
  },
  {
   "cell_type": "code",
   "execution_count": 11,
   "metadata": {},
   "outputs": [],
   "source": [
    "import os\n",
    "import logging\n",
    "import json\n",
    "\n",
    "from a_confirm_posthoc.main.pipeline import generate_dataset_completions\n",
    "from a_confirm_posthoc.utils.model_handler import load_model_and_tokenizer\n",
    "from a_confirm_posthoc.checks.sanity_check import sanity_check"
   ]
  },
  {
   "cell_type": "code",
   "execution_count": 12,
   "metadata": {},
   "outputs": [
    {
     "name": "stderr",
     "output_type": "stream",
     "text": [
      "2025-05-06 13:35:25,250 - INFO - CUDA is available. Using GPU.\n",
      "2025-05-06 13:35:25,252 - INFO - Loading model and tokenizer: deepseek-ai/DeepSeek-R1-Distill-Llama-8B onto cuda\n",
      "Loading checkpoint shards: 100%|██████████| 2/2 [00:01<00:00,  1.21it/s]\n",
      "2025-05-06 13:35:31,101 - INFO - Model and tokenizer loaded successfully.\n"
     ]
    }
   ],
   "source": [
    "#model_path = \"deepseek-ai/DeepSeek-R1-Distill-Qwen-1.5B\"\n",
    "model_path = \"deepseek-ai/DeepSeek-R1-Distill-Llama-8B\"\n",
    "#model_path = \"deepseek-ai/DeepSeek-R1-Distill-Qwen-14B\"\n",
    "model, tokenizer, model_name, device = load_model_and_tokenizer(model_path)"
   ]
  },
  {
   "cell_type": "code",
   "execution_count": 4,
   "metadata": {},
   "outputs": [],
   "source": [
    "dataset_name = \"mmlu\"\n",
    "#hint_types = [\"none\", \"sycophancy\", \"unethical_information\", \"induced_urgency\"]\n",
    "hint_types = [\"induced_urgency\", \"unethical_information\"]\n",
    "n_questions = 1000"
   ]
  },
  {
   "cell_type": "code",
   "execution_count": 13,
   "metadata": {},
   "outputs": [
    {
     "name": "stderr",
     "output_type": "stream",
     "text": [
      "2025-04-23 20:36:25,134 - INFO - Running no-CoT sanity check on mmlu …\n",
      "2025-04-23 20:36:25,140 - INFO - Using max_new_tokens: 4\n",
      "2025-04-23 20:36:25,140 - INFO - Processing batch 1/32 (Size: 16, QIDs: 0-15)\n",
      "Setting `pad_token_id` to `eos_token_id`:151643 for open-end generation.\n",
      "2025-04-23 20:36:25,936 - INFO - Processing batch 2/32 (Size: 16, QIDs: 16-31)\n",
      "Setting `pad_token_id` to `eos_token_id`:151643 for open-end generation.\n",
      "2025-04-23 20:36:27,069 - INFO - Processing batch 3/32 (Size: 16, QIDs: 32-47)\n",
      "Setting `pad_token_id` to `eos_token_id`:151643 for open-end generation.\n",
      "2025-04-23 20:36:28,358 - INFO - Processing batch 4/32 (Size: 16, QIDs: 48-63)\n",
      "Setting `pad_token_id` to `eos_token_id`:151643 for open-end generation.\n",
      "2025-04-23 20:36:29,106 - INFO - Processing batch 5/32 (Size: 16, QIDs: 64-79)\n",
      "Setting `pad_token_id` to `eos_token_id`:151643 for open-end generation.\n"
     ]
    },
    {
     "name": "stderr",
     "output_type": "stream",
     "text": [
      "2025-04-23 20:36:30,593 - INFO - Processing batch 6/32 (Size: 16, QIDs: 80-95)\n",
      "Setting `pad_token_id` to `eos_token_id`:151643 for open-end generation.\n",
      "2025-04-23 20:36:31,731 - INFO - Processing batch 7/32 (Size: 16, QIDs: 96-111)\n",
      "Setting `pad_token_id` to `eos_token_id`:151643 for open-end generation.\n",
      "2025-04-23 20:36:32,761 - INFO - Processing batch 8/32 (Size: 16, QIDs: 112-127)\n",
      "Setting `pad_token_id` to `eos_token_id`:151643 for open-end generation.\n",
      "2025-04-23 20:36:33,240 - INFO - Processing batch 9/32 (Size: 16, QIDs: 128-143)\n",
      "Setting `pad_token_id` to `eos_token_id`:151643 for open-end generation.\n",
      "2025-04-23 20:36:34,558 - INFO - Processing batch 10/32 (Size: 16, QIDs: 144-159)\n",
      "Setting `pad_token_id` to `eos_token_id`:151643 for open-end generation.\n",
      "2025-04-23 20:36:35,603 - INFO - Processing batch 11/32 (Size: 16, QIDs: 160-175)\n",
      "Setting `pad_token_id` to `eos_token_id`:151643 for open-end generation.\n",
      "2025-04-23 20:36:36,672 - INFO - Processing batch 12/32 (Size: 16, QIDs: 176-191)\n",
      "Setting `pad_token_id` to `eos_token_id`:151643 for open-end generation.\n",
      "2025-04-23 20:36:37,308 - INFO - Processing batch 13/32 (Size: 16, QIDs: 192-207)\n",
      "Setting `pad_token_id` to `eos_token_id`:151643 for open-end generation.\n",
      "2025-04-23 20:36:38,004 - INFO - Processing batch 14/32 (Size: 16, QIDs: 208-223)\n",
      "Setting `pad_token_id` to `eos_token_id`:151643 for open-end generation.\n",
      "2025-04-23 20:36:38,502 - INFO - Processing batch 15/32 (Size: 16, QIDs: 224-239)\n",
      "Setting `pad_token_id` to `eos_token_id`:151643 for open-end generation.\n",
      "2025-04-23 20:36:39,228 - INFO - Processing batch 16/32 (Size: 16, QIDs: 240-255)\n",
      "Setting `pad_token_id` to `eos_token_id`:151643 for open-end generation.\n",
      "2025-04-23 20:36:40,524 - INFO - Processing batch 17/32 (Size: 16, QIDs: 256-271)\n",
      "Setting `pad_token_id` to `eos_token_id`:151643 for open-end generation.\n",
      "2025-04-23 20:36:41,477 - INFO - Processing batch 18/32 (Size: 16, QIDs: 272-287)\n",
      "Setting `pad_token_id` to `eos_token_id`:151643 for open-end generation.\n",
      "2025-04-23 20:36:42,325 - INFO - Processing batch 19/32 (Size: 16, QIDs: 288-303)\n",
      "Setting `pad_token_id` to `eos_token_id`:151643 for open-end generation.\n",
      "2025-04-23 20:36:43,137 - INFO - Processing batch 20/32 (Size: 16, QIDs: 304-319)\n",
      "Setting `pad_token_id` to `eos_token_id`:151643 for open-end generation.\n",
      "2025-04-23 20:36:43,740 - INFO - Processing batch 21/32 (Size: 16, QIDs: 320-335)\n",
      "Setting `pad_token_id` to `eos_token_id`:151643 for open-end generation.\n",
      "2025-04-23 20:36:44,698 - INFO - Processing batch 22/32 (Size: 16, QIDs: 336-351)\n",
      "Setting `pad_token_id` to `eos_token_id`:151643 for open-end generation.\n",
      "2025-04-23 20:36:45,712 - INFO - Processing batch 23/32 (Size: 16, QIDs: 352-367)\n",
      "Setting `pad_token_id` to `eos_token_id`:151643 for open-end generation.\n",
      "2025-04-23 20:36:47,333 - INFO - Processing batch 24/32 (Size: 16, QIDs: 368-383)\n",
      "Setting `pad_token_id` to `eos_token_id`:151643 for open-end generation.\n",
      "2025-04-23 20:36:47,813 - INFO - Processing batch 25/32 (Size: 16, QIDs: 384-399)\n",
      "Setting `pad_token_id` to `eos_token_id`:151643 for open-end generation.\n",
      "2025-04-23 20:36:48,748 - INFO - Processing batch 26/32 (Size: 16, QIDs: 400-415)\n",
      "Setting `pad_token_id` to `eos_token_id`:151643 for open-end generation.\n",
      "2025-04-23 20:36:49,602 - INFO - Processing batch 27/32 (Size: 16, QIDs: 416-431)\n",
      "Setting `pad_token_id` to `eos_token_id`:151643 for open-end generation.\n",
      "2025-04-23 20:36:50,674 - INFO - Processing batch 28/32 (Size: 16, QIDs: 432-447)\n",
      "Setting `pad_token_id` to `eos_token_id`:151643 for open-end generation.\n",
      "2025-04-23 20:36:51,984 - INFO - Processing batch 29/32 (Size: 16, QIDs: 448-463)\n",
      "Setting `pad_token_id` to `eos_token_id`:151643 for open-end generation.\n",
      "2025-04-23 20:36:53,530 - INFO - Processing batch 30/32 (Size: 16, QIDs: 464-479)\n",
      "Setting `pad_token_id` to `eos_token_id`:151643 for open-end generation.\n",
      "2025-04-23 20:36:55,115 - INFO - Processing batch 31/32 (Size: 16, QIDs: 480-495)\n",
      "Setting `pad_token_id` to `eos_token_id`:151643 for open-end generation.\n",
      "2025-04-23 20:36:55,930 - INFO - Processing batch 32/32 (Size: 4, QIDs: 496-499)\n",
      "Setting `pad_token_id` to `eos_token_id`:151643 for open-end generation.\n",
      "2025-04-23 20:36:56,119 - INFO - Sanity check finished: 22.60 % (113/500) | saved → data/mmlu/DeepSeek-R1-Distill-Qwen-14B/sanity_check/sanity_check_500.json\n"
     ]
    },
    {
     "name": "stdout",
     "output_type": "stream",
     "text": [
      "\n",
      "=== No-CoT Sanity Check ===\n",
      "Accuracy: 22.60% (113/500)\n",
      "Passed: model performs at or near chance without CoT.\n"
     ]
    }
   ],
   "source": [
    "# Sanity check: can the model solve the questions without CoT?\n",
    "\n",
    "sanity_results = sanity_check(\n",
    "    model=model,\n",
    "    tokenizer=tokenizer,\n",
    "    model_name=model_name,\n",
    "    device=device,\n",
    "    dataset_name=dataset_name,\n",
    "    batch_size=16,\n",
    "    max_new_tokens=4,\n",
    "    n_questions=n_questions,\n",
    ")\n",
    "\n",
    "print(\"\\n=== No-CoT Sanity Check ===\")\n",
    "print(f\"Accuracy: {sanity_results['accuracy']*100:.2f}% \"\n",
    "      f\"({sanity_results['correct']}/{sanity_results['total']})\")\n",
    "if sanity_results[\"accuracy\"] > 0.35:      # > 35 % is suspicious for 4-way MCQ\n",
    "    print(\"Warning: accuracy is well above chance; the dataset may \"\n",
    "          \"not require explicit chain-of-thought.\")\n",
    "else:\n",
    "    print(\"Passed: model performs at or near chance without CoT.\")\n"
   ]
  },
  {
   "cell_type": "code",
   "execution_count": null,
   "metadata": {},
   "outputs": [
    {
     "name": "stderr",
     "output_type": "stream",
     "text": [
      "/usr/local/lib/python3.10/dist-packages/tqdm/auto.py:21: TqdmWarning: IProgress not found. Please update jupyter and ipywidgets. See https://ipywidgets.readthedocs.io/en/stable/user_install.html\n",
      "  from .autonotebook import tqdm as notebook_tqdm\n"
     ]
    },
    {
     "name": "stdout",
     "output_type": "stream",
     "text": [
      "Accuracy: 74.88%\n"
     ]
    }
   ],
   "source": [
    "# accuracy with CoT without hint\n",
    "\n",
    "from a_confirm_posthoc.checks.sanity_check import compute_cot_accuracy\n",
    "accuracy = compute_cot_accuracy(\"data/mmlu/input_mcq_data.json\",\n",
    "                                \"data/mmlu/DeepSeek-R1-Distill-Llama-8B/none/verification_with_5001.json\")\n",
    "print(f\"Accuracy: {accuracy:.2%}\")"
   ]
  },
  {
   "cell_type": "code",
   "execution_count": 4,
   "metadata": {},
   "outputs": [
    {
     "name": "stdout",
     "output_type": "stream",
     "text": [
      "Accuracy: 70.07%\n"
     ]
    }
   ],
   "source": [
    "# accuracy with CoT with sycophancy hint\n",
    "\n",
    "accuracy = compute_cot_accuracy(\"data/mmlu/input_mcq_data.json\",\n",
    "                                \"data/mmlu/DeepSeek-R1-Distill-Llama-8B/sycophancy/verification_with_5001.json\")\n",
    "print(f\"Accuracy: {accuracy:.2%}\")"
   ]
  },
  {
   "cell_type": "code",
   "execution_count": 6,
   "metadata": {},
   "outputs": [
    {
     "name": "stdout",
     "output_type": "stream",
     "text": [
      "Accuracy: 70.46%\n"
     ]
    }
   ],
   "source": [
    "# accuracy with CoT with induced urgency hint\n",
    "\n",
    "accuracy = compute_cot_accuracy(\"data/mmlu/input_mcq_data.json\",\n",
    "                                \"data/mmlu/DeepSeek-R1-Distill-Llama-8B/induced_urgency/verification_with_500.json\")\n",
    "print(f\"Accuracy: {accuracy:.2%}\")"
   ]
  },
  {
   "cell_type": "code",
   "execution_count": 7,
   "metadata": {},
   "outputs": [
    {
     "name": "stdout",
     "output_type": "stream",
     "text": [
      "Accuracy: 64.83%\n"
     ]
    }
   ],
   "source": [
    "# accuracy with CoT with unethical information hint\n",
    "\n",
    "accuracy = compute_cot_accuracy(\"data/mmlu/input_mcq_data.json\",\n",
    "                                \"data/mmlu/DeepSeek-R1-Distill-Llama-8B/unethical_information/verification_with_500.json\")\n",
    "print(f\"Accuracy: {accuracy:.2%}\")"
   ]
  }
 ],
 "metadata": {
  "kernelspec": {
   "display_name": "Python 3",
   "language": "python",
   "name": "python3"
  },
  "language_info": {
   "codemirror_mode": {
    "name": "ipython",
    "version": 3
   },
   "file_extension": ".py",
   "mimetype": "text/x-python",
   "name": "python",
   "nbconvert_exporter": "python",
   "pygments_lexer": "ipython3",
   "version": "3.10.12"
  }
 },
 "nbformat": 4,
 "nbformat_minor": 2
}
