{
 "cells": [
  {
   "cell_type": "code",
   "execution_count": 1,
   "metadata": {},
   "outputs": [
    {
     "name": "stdout",
     "output_type": "stream",
     "text": [
      "/root/CoTFaithChecker\n"
     ]
    },
    {
     "name": "stderr",
     "output_type": "stream",
     "text": [
      "/usr/local/lib/python3.10/dist-packages/IPython/core/magics/osm.py:417: UserWarning: This is now an optional IPython functionality, setting dhist requires you to install the `pickleshare` library.\n",
      "  self.shell.db['dhist'] = compress_dhist(dhist)[-100:]\n"
     ]
    },
    {
     "data": {
      "text/plain": [
       "'/root/CoTFaithChecker'"
      ]
     },
     "execution_count": 1,
     "metadata": {},
     "output_type": "execute_result"
    }
   ],
   "source": [
    "%cd ..\n",
    "%pwd"
   ]
  },
  {
   "cell_type": "code",
   "execution_count": 2,
   "metadata": {},
   "outputs": [
    {
     "name": "stderr",
     "output_type": "stream",
     "text": [
      "/usr/local/lib/python3.10/dist-packages/tqdm/auto.py:21: TqdmWarning: IProgress not found. Please update jupyter and ipywidgets. See https://ipywidgets.readthedocs.io/en/stable/user_install.html\n",
      "  from .autonotebook import tqdm as notebook_tqdm\n"
     ]
    }
   ],
   "source": [
    "import os\n",
    "import logging\n",
    "import json\n",
    "\n",
    "from a_confirm_posthoc.main.pipeline import generate_dataset_completions\n",
    "from a_confirm_posthoc.utils.model_handler import load_model_and_tokenizer\n",
    "from a_confirm_posthoc.eval.llm_verificator import run_verification\n",
    "from a_confirm_posthoc.checks.switch_check import run_switch_check\n",
    "from a_confirm_posthoc.eval.llm_hint_verificator import run_hint_verification"
   ]
  },
  {
   "cell_type": "code",
   "execution_count": null,
   "metadata": {},
   "outputs": [],
   "source": []
  },
  {
   "cell_type": "code",
   "execution_count": 3,
   "metadata": {},
   "outputs": [
    {
     "name": "stderr",
     "output_type": "stream",
     "text": [
      "2025-04-24 17:36:22,132 - INFO - CUDA is available. Using GPU.\n",
      "2025-04-24 17:36:22,135 - INFO - Loading model and tokenizer: deepseek-ai/DeepSeek-R1-Distill-Llama-8B onto cuda\n",
      "Fetching 2 files: 100%|██████████| 2/2 [02:19<00:00, 69.86s/it] \n",
      "Loading checkpoint shards: 100%|██████████| 2/2 [00:02<00:00,  1.14s/it]\n",
      "2025-04-24 17:38:49,775 - INFO - Model and tokenizer loaded successfully.\n"
     ]
    }
   ],
   "source": [
    "#model_path = \"deepseek-ai/DeepSeek-R1-Distill-Qwen-1.5B\"\n",
    "model_path = \"deepseek-ai/DeepSeek-R1-Distill-Llama-8B\"\n",
    "#model_path = \"deepseek-ai/DeepSeek-R1-Distill-Qwen-14B\"\n",
    "model, tokenizer, model_name, device = load_model_and_tokenizer(model_path)"
   ]
  },
  {
   "cell_type": "code",
   "execution_count": 4,
   "metadata": {},
   "outputs": [],
   "source": [
    "dataset_name = \"mmlu\"\n",
    "#hint_types = [\"none\", \"sycophancy\", \"unethical_information\", \"induced_urgency\"]\n",
    "hint_types = [\"induced_urgency\", \"unethical_information\"]\n",
    "n_questions = 1000"
   ]
  },
  {
   "cell_type": "code",
   "execution_count": 10,
   "metadata": {},
   "outputs": [],
   "source": [
    "from a_confirm_posthoc.checks.faithfulness_metric import run_faithfulness_metric\n",
    "base_dir = \"data/mmlu/DeepSeek-R1-Distill-Llama-8B/\""
   ]
  },
  {
   "cell_type": "code",
   "execution_count": 11,
   "metadata": {},
   "outputs": [
    {
     "name": "stdout",
     "output_type": "stream",
     "text": [
      "=== Faithfulness Results ===\n",
      "Raw faithfulness:        0.7142857142857143\n",
      "Corrected faithfulness:  0.7142857142857143\n",
      "Alpha:                   1.0\n",
      "p (switch-to-hint):      1.0\n",
      "q (switch-other):        0.0\n"
     ]
    }
   ],
   "source": [
    "# sycophancy\n",
    "base_path = base_dir + \"sycophancy/\"\n",
    "\n",
    "hint_verification_path = base_path + \"hint_verification_with_500.json\"\n",
    "switch_analysis_path = base_path + \"switch_analysis_with_500.json\"\n",
    "\n",
    "results = run_faithfulness_metric(\n",
    "    hint_verification_path=hint_verification_path,\n",
    "    switch_analysis_path=switch_analysis_path,\n",
    "    out_filename=base_path+\"/faithfulness_results.json\"\n",
    ")\n",
    "\n",
    "print(\"=== Faithfulness Results ===\")\n",
    "print(\"Raw faithfulness:       \", results[\"raw_faithfulness\"])\n",
    "print(\"Corrected faithfulness: \", results[\"corrected_faithfulness\"])\n",
    "print(\"Alpha:                  \", results[\"alpha\"])\n",
    "print(\"p (switch-to-hint):     \", results[\"p\"])\n",
    "print(\"q (switch-other):       \", results[\"q\"])"
   ]
  },
  {
   "cell_type": "code",
   "execution_count": 12,
   "metadata": {},
   "outputs": [
    {
     "name": "stdout",
     "output_type": "stream",
     "text": [
      "=== Faithfulness Results ===\n",
      "Raw faithfulness:        0.819047619047619\n",
      "Corrected faithfulness:  0.819047619047619\n",
      "Alpha:                   1.0\n",
      "p (switch-to-hint):      1.0\n",
      "q (switch-other):        0.0\n"
     ]
    }
   ],
   "source": [
    "# unethical_information\n",
    "base_path = base_dir + \"unethical_information/\"\n",
    "\n",
    "hint_verification_path = base_path + \"hint_verification_with_500.json\"\n",
    "switch_analysis_path = base_path + \"switch_analysis_with_500.json\"\n",
    "\n",
    "results = run_faithfulness_metric(\n",
    "    hint_verification_path=hint_verification_path,\n",
    "    switch_analysis_path=switch_analysis_path,\n",
    "    out_filename=base_path+\"/faithfulness_results.json\"\n",
    ")\n",
    "\n",
    "print(\"=== Faithfulness Results ===\")\n",
    "print(\"Raw faithfulness:       \", results[\"raw_faithfulness\"])\n",
    "print(\"Corrected faithfulness: \", results[\"corrected_faithfulness\"])\n",
    "print(\"Alpha:                  \", results[\"alpha\"])\n",
    "print(\"p (switch-to-hint):     \", results[\"p\"])\n",
    "print(\"q (switch-other):       \", results[\"q\"])"
   ]
  }
 ],
 "metadata": {
  "kernelspec": {
   "display_name": "Python 3",
   "language": "python",
   "name": "python3"
  },
  "language_info": {
   "codemirror_mode": {
    "name": "ipython",
    "version": 3
   },
   "file_extension": ".py",
   "mimetype": "text/x-python",
   "name": "python",
   "nbconvert_exporter": "python",
   "pygments_lexer": "ipython3",
   "version": "3.10.12"
  }
 },
 "nbformat": 4,
 "nbformat_minor": 2
}
