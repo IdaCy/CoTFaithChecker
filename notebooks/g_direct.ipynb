{
 "cells": [
  {
   "cell_type": "markdown",
   "id": "8c08e4ca",
   "metadata": {},
   "source": [
    "# Chain‑of‑Thought Faithfulness Experiments\n",
    "\n",
    "This notebook replicates and extends the four analyses described in the project prompt.\n",
    "Set the JSON paths below to your **segmented_completions_*.json** files, then run each section."
   ]
  },
  {
   "cell_type": "code",
   "execution_count": null,
   "id": "f51e7c29",
   "metadata": {},
   "outputs": [],
   "source": [
    "\n",
    "from pathlib import Path\n",
    "import pandas as pd\n",
    "import cot_analysis as ca\n",
    "\n",
    "# ==== Update these paths ====\n",
    "files = {\n",
    "    'induced_urgency':  '/mnt/data/segmented_completions_induced_urgency.json',\n",
    "    'none':             '/mnt/data/segmented_completions_none.json',\n",
    "    'sycophancy':       '/mnt/data/segmented_completions_sycophancy.json',\n",
    "    'unethical_info':   '/mnt/data/segmented_completions_unethical_information.json'\n",
    "}\n",
    "# Optional accuracy CSV mapping (question_id,is_correct) – replace if available\n",
    "accuracy_csv = None  # e.g. '/mnt/data/mmlu_accuracy.csv'\n"
   ]
  },
  {
   "cell_type": "code",
   "execution_count": null,
   "id": "6e5cef36",
   "metadata": {},
   "outputs": [],
   "source": [
    "\n",
    "df = ca.load_segmented_jsons(files)\n",
    "if accuracy_csv:\n",
    "    acc = pd.read_csv(accuracy_csv)\n",
    "    df = df.merge(acc, on='question_id', how='left')\n",
    "else:\n",
    "    df['is_correct'] = pd.NA  # placeholder\n",
    "categories = [\n",
    "    \"problem_restating\",\"knowledge_recall\",\"concept_definition\",\n",
    "    \"quantitative_calculation\",\"logical_deduction\",\"option_elimination\",\n",
    "    \"assumption_validation\",\"uncertainty_expression\",\"self_questioning\",\n",
    "    \"backtracking_revision\",\"decision_confirmation\",\"answer_reporting\"\n",
    "]\n",
    "df['category_sequence'] = df['category_sequence'].apply(tuple)\n",
    "df.head()\n"
   ]
  },
  {
   "cell_type": "markdown",
   "id": "5f111894",
   "metadata": {},
   "source": [
    "## 1. Category frequency & transition patterns"
   ]
  },
  {
   "cell_type": "code",
   "execution_count": null,
   "id": "799849c3",
   "metadata": {},
   "outputs": [],
   "source": [
    "\n",
    "import matplotlib.pyplot as plt\n",
    "for hint, sub in df.groupby('hint_type'):\n",
    "    freq = ca.category_frequencies(sub, categories)\n",
    "    ca.plot_category_bars(freq, f'Category counts – {hint}')\n",
    "    plt.show()\n",
    "\n",
    "# Transition matrices\n",
    "import seaborn as sns, numpy as np\n",
    "for hint, sub in df.groupby('hint_type'):\n",
    "    mat = ca.transition_matrix(sub, categories)\n",
    "    ca.plot_transition_heatmap(mat, f'Transitions – {hint}')\n",
    "    plt.show()\n"
   ]
  },
  {
   "cell_type": "markdown",
   "id": "fe9c0509",
   "metadata": {},
   "source": [
    "## 2. Length & entropy metrics"
   ]
  },
  {
   "cell_type": "code",
   "execution_count": null,
   "id": "e8043be4",
   "metadata": {},
   "outputs": [],
   "source": [
    "\n",
    "lengths = df['category_sequence'].apply(len)\n",
    "entropies = df['category_sequence'].apply(ca.compute_entropy)\n",
    "ca.plot_length_entropy_scatter(lengths, entropies, 'Length vs entropy (all hints)')\n",
    "plt.show()\n"
   ]
  },
  {
   "cell_type": "markdown",
   "id": "e3d4abf3",
   "metadata": {},
   "source": [
    "## 3. Self‑consistency & backtracking"
   ]
  },
  {
   "cell_type": "code",
   "execution_count": null,
   "id": "87acd311",
   "metadata": {},
   "outputs": [],
   "source": [
    "\n",
    "df['backtracked'] = df['category_sequence'].apply(lambda s: 'backtracking_revision' in s)\n",
    "if df['is_correct'].notna().any():\n",
    "    r, p = ca.backtracking_correlation(df)\n",
    "    print(f'Point‑biserial r={r:.3f}, p={p:.4g}')\n",
    "ca.plot_backtracking_accuracy(df.dropna(subset=['is_correct']), title='Backtracking vs accuracy')\n",
    "plt.show()\n"
   ]
  },
  {
   "cell_type": "markdown",
   "id": "f61b5ea3",
   "metadata": {},
   "source": [
    "## 4. Explain‑then‑Predict (XTP) classification"
   ]
  },
  {
   "cell_type": "code",
   "execution_count": null,
   "id": "9ca02324",
   "metadata": {},
   "outputs": [],
   "source": [
    "\n",
    "if df['is_correct'].notna().any():\n",
    "    auc, fpr, tpr = ca.xtp_train_test(df)\n",
    "    ca.plot_xtp_roc(fpr, tpr, auc)\n",
    "    plt.show()\n",
    "else:\n",
    "    print(\"Accuracy labels missing – skip XTP.\")\n"
   ]
  }
 ],
 "metadata": {},
 "nbformat": 4,
 "nbformat_minor": 5
}
