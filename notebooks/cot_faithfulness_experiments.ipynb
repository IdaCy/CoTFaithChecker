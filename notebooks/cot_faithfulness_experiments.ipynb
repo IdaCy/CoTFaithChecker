{
 "cells": [
  {
   "cell_type": "markdown",
   "id": "0b080db1",
   "metadata": {},
   "source": [
    "# Chain‑of‑Thought Faithfulness Experiments\n",
    "This notebook reproduces the four planned analyses:\n",
    "1. Category frequency & sequence patterns  \n",
    "2. Length & entropy metrics  \n",
    "3. Self‑consistency & backtracking correlation  \n",
    "4. Explain‑then‑predict (XTP) classification  \n",
    "\n",
    "Run the notebook top‑to‑bottom after placing the **cot_analysis** package and the segmented JSON data directory in the expected locations."
   ]
  },
  {
   "cell_type": "markdown",
   "id": "f15b7c66",
   "metadata": {},
   "source": [
    "## Install dependencies"
   ]
  },
  {
   "cell_type": "code",
   "execution_count": null,
   "id": "135ccf50",
   "metadata": {},
   "outputs": [],
   "source": [
    "!pip install -q pandas numpy seaborn matplotlib scikit-learn nltk textstat tqdm"
   ]
  },
  {
   "cell_type": "markdown",
   "id": "00ec0253",
   "metadata": {},
   "source": [
    "## Imports & data loading"
   ]
  },
  {
   "cell_type": "code",
   "execution_count": null,
   "id": "90a7a45e",
   "metadata": {},
   "outputs": [],
   "source": [
    "from pathlib import Path\n",
    "import pandas as pd, numpy as np, matplotlib.pyplot as plt, seaborn as sns\n",
    "\n",
    "from cot_analysis import (\n",
    "    data_utils, metrics_utils as met, visualization_utils as viz, model_utils as mod\n",
    ")\n",
    "\n",
    "sns.set_theme(style='whitegrid')\n",
    "data_dir = Path('g_cot_cluster/outputs/mmlu/DeepSeek-R1-Distill-Llama-8B')\n",
    "df = data_utils.load_segmented_directory(data_dir)\n",
    "seq_df = data_utils.sequence_dataframe(df)\n",
    "print(f'Loaded {len(df):,} segments from {seq_df.question_id.nunique():,} questions.')"
   ]
  },
  {
   "cell_type": "markdown",
   "id": "f737aa8b",
   "metadata": {},
   "source": [
    "## 1  · Category frequency & sequence patterns"
   ]
  },
  {
   "cell_type": "code",
   "execution_count": null,
   "id": "69326207",
   "metadata": {},
   "outputs": [],
   "source": [
    "# Category frequencies\n",
    "freq_df = met.category_frequencies(seq_df)\n",
    "viz.bar_category_freq(freq_df);\n"
   ]
  },
  {
   "cell_type": "code",
   "execution_count": null,
   "id": "31121b15",
   "metadata": {},
   "outputs": [],
   "source": [
    "# First‑order transition matrices\n",
    "mats = met.markov_transition_matrix(seq_df, data_utils.CATEGORY_ORDER)\n",
    "for hint, mat in mats.items():\n",
    "    viz.heatmap_transition(mat, f'Transition probabilities — {hint}');\n"
   ]
  },
  {
   "cell_type": "code",
   "execution_count": null,
   "id": "be6cada8",
   "metadata": {},
   "outputs": [],
   "source": [
    "# Jensen–Shannon divergence between bigram distributions\n",
    "bigram_counts = met.bigram_distributions(seq_df)\n",
    "js_mat = met.js_divergence_matrix(bigram_counts, data_utils.CATEGORY_ORDER)\n",
    "viz.heatmap_js(js_mat);"
   ]
  },
  {
   "cell_type": "markdown",
   "id": "a5982f48",
   "metadata": {},
   "source": [
    "## 2  · Length & entropy metrics"
   ]
  },
  {
   "cell_type": "code",
   "execution_count": null,
   "id": "788aa90a",
   "metadata": {},
   "outputs": [],
   "source": [
    "metrics_df = met.length_entropy_metrics(seq_df)\n",
    "viz.dist_length(metrics_df);"
   ]
  },
  {
   "cell_type": "markdown",
   "id": "fda80527",
   "metadata": {},
   "source": [
    "## 3  · Self‑consistency & backtracking"
   ]
  },
  {
   "cell_type": "markdown",
   "id": "d6a39398",
   "metadata": {},
   "source": [
    "Upload a CSV called **accuracy.csv** with columns `question_id` (int) and `accuracy` (0/1). This section correlates backtracking with final answer correctness."
   ]
  },
  {
   "cell_type": "code",
   "execution_count": null,
   "id": "c178883c",
   "metadata": {},
   "outputs": [],
   "source": [
    "acc_path = Path('accuracy.csv')\n",
    "if acc_path.exists():\n",
    "    accuracy = pd.read_csv(acc_path).set_index('question_id')['accuracy']\n",
    "    r, p = met.backtracking_accuracy_correlation(metrics_df, accuracy)\n",
    "    print(f'Point‑biserial r = {r:.3f}   p‑value = {p:.4g}')\n",
    "    viz.scatter_backtracking(metrics_df, accuracy);\n",
    "else:\n",
    "    print('accuracy.csv not found — skipping correlation analysis.')"
   ]
  },
  {
   "cell_type": "markdown",
   "id": "caca80eb",
   "metadata": {},
   "source": [
    "## 4  · Explain‑then‑predict (XTP)"
   ]
  },
  {
   "cell_type": "code",
   "execution_count": null,
   "id": "e94b2b82",
   "metadata": {},
   "outputs": [],
   "source": [
    "if 'accuracy' in locals():\n",
    "    X, y = mod.prepare_xy(seq_df, accuracy)\n",
    "    clf, fpr, tpr, auc_val = mod.train_xtp_logreg(X, y)\n",
    "    viz.plot_roc(fpr, tpr, f'LogReg  AUC={auc_val:.3f}');\n",
    "else:\n",
    "    print('accuracy labels unavailable — skipping XTP experiment.')"
   ]
  },
  {
   "cell_type": "markdown",
   "id": "07d03c70",
   "metadata": {},
   "source": [
    "## Summary & next steps\n",
    "- **Visualise** differences between hint conditions to spot CoT shortening or shifts.\n",
    "- **Entropy metrics** complement raw length: shorter chains are not necessarily less informative.\n",
    "- **Backtracking signal** can point to uncertainty: check if r ≈ 0 implies neutral effect.\n",
    "- A high **XTP AUC** would suggest the CoT structure alone predicts correctness, a useful faithfulness cue."
   ]
  }
 ],
 "metadata": {},
 "nbformat": 4,
 "nbformat_minor": 5
}
