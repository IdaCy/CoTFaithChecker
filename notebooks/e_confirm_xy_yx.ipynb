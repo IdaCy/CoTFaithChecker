{
 "cells": [
  {
   "cell_type": "code",
   "execution_count": 1,
   "metadata": {},
   "outputs": [
    {
     "name": "stderr",
     "output_type": "stream",
     "text": [
      "/usr/local/lib/python3.10/dist-packages/IPython/core/magics/osm.py:417: UserWarning: This is now an optional IPython functionality, setting dhist requires you to install the `pickleshare` library.\n",
      "  self.shell.db['dhist'] = compress_dhist(dhist)[-100:]\n"
     ]
    },
    {
     "name": "stdout",
     "output_type": "stream",
     "text": [
      "/root/CoTFaithChecker\n"
     ]
    },
    {
     "name": "stderr",
     "output_type": "stream",
     "text": [
      "/usr/local/lib/python3.10/dist-packages/tqdm/auto.py:21: TqdmWarning: IProgress not found. Please update jupyter and ipywidgets. See https://ipywidgets.readthedocs.io/en/stable/user_install.html\n",
      "  from .autonotebook import tqdm as notebook_tqdm\n",
      "2025-04-26 12:44:48,921 - INFO - CUDA is available. Using GPU.\n",
      "2025-04-26 12:44:48,923 - INFO - Loading model and tokenizer: deepseek-ai/DeepSeek-R1-Distill-Llama-8B onto cuda\n",
      "Loading checkpoint shards: 100%|██████████| 2/2 [00:03<00:00,  1.86s/it]\n",
      "2025-04-26 12:44:59,395 - INFO - Model and tokenizer loaded successfully.\n"
     ]
    },
    {
     "data": {
      "text/plain": [
       "LlamaForCausalLM(\n",
       "  (model): LlamaModel(\n",
       "    (embed_tokens): Embedding(128256, 4096)\n",
       "    (layers): ModuleList(\n",
       "      (0-31): 32 x LlamaDecoderLayer(\n",
       "        (self_attn): LlamaAttention(\n",
       "          (q_proj): Linear(in_features=4096, out_features=4096, bias=False)\n",
       "          (k_proj): Linear(in_features=4096, out_features=1024, bias=False)\n",
       "          (v_proj): Linear(in_features=4096, out_features=1024, bias=False)\n",
       "          (o_proj): Linear(in_features=4096, out_features=4096, bias=False)\n",
       "        )\n",
       "        (mlp): LlamaMLP(\n",
       "          (gate_proj): Linear(in_features=4096, out_features=14336, bias=False)\n",
       "          (up_proj): Linear(in_features=4096, out_features=14336, bias=False)\n",
       "          (down_proj): Linear(in_features=14336, out_features=4096, bias=False)\n",
       "          (act_fn): SiLU()\n",
       "        )\n",
       "        (input_layernorm): LlamaRMSNorm((4096,), eps=1e-05)\n",
       "        (post_attention_layernorm): LlamaRMSNorm((4096,), eps=1e-05)\n",
       "      )\n",
       "    )\n",
       "    (norm): LlamaRMSNorm((4096,), eps=1e-05)\n",
       "    (rotary_emb): LlamaRotaryEmbedding()\n",
       "  )\n",
       "  (lm_head): Linear(in_features=4096, out_features=128256, bias=False)\n",
       ")"
      ]
     },
     "execution_count": 1,
     "metadata": {},
     "output_type": "execute_result"
    }
   ],
   "source": [
    "# ───────────────────────────────────────────────\n",
    "# 0. Manual configuration\n",
    "# ───────────────────────────────────────────────\n",
    "%cd ..\n",
    "%pwd\n",
    "from pathlib import Path\n",
    "import torch\n",
    "\n",
    "DATA_ROOT = Path(\"data/chainscope/questions_json\")\n",
    "TEMPLATE_PATH = Path(\"data/chainscope/templates/instructions.json\")\n",
    "LOG_DIR = Path(\"logs\")\n",
    "OUT_DIR = Path(\"e_confirm_xy_yx/outputs\")          # completions, verification, matches\n",
    "MODEL_PATH = \"deepseek-ai/DeepSeek-R1-Distill-Llama-8B\"\n",
    "\n",
    "# choose folder subsets\n",
    "DATASETS = [\"gt_NO_1\", \"gt_YES_1\"]\n",
    "\n",
    "BATCH_SIZE = 64\n",
    "MAX_NEW_TOKENS = None\n",
    "\n",
    "# ─── multi-run & sampling ────────────────────────────────────────\n",
    "N_RUNS      = 10      # generate 10 reasoning chains per question\n",
    "TEMPERATURE = 0.7     # sampling temperature\n",
    "TOP_P       = 0.9     # nucleus-sampling top-p\n",
    "# ──────────────────────────────────────────────────────────────────────\n",
    "\n",
    "SAVE_HIDDEN, SAVE_ATTN = False, False\n",
    "HIDDEN_LAYERS, ATTN_LAYERS = [0, -1], [0, -1]   # ignored unless above switches True\n",
    "N_VERIFY = 0   # 0 == verify all\n",
    "\n",
    "device = torch.device(\"cuda\" if torch.cuda.is_available() else \"cpu\")\n",
    "\n",
    "# ───────────────────────────────────────────────\n",
    "# 1. Load model & tokenizer  (your helper)\n",
    "# ───────────────────────────────────────────────\n",
    "from a_confirm_posthoc.utils.model_handler import load_model_and_tokenizer\n",
    "\n",
    "model, tokenizer, model_name, device = load_model_and_tokenizer(MODEL_PATH)\n",
    "model.to(device)\n"
   ]
  },
  {
   "cell_type": "code",
   "execution_count": 2,
   "metadata": {},
   "outputs": [
    {
     "name": "stderr",
     "output_type": "stream",
     "text": [
      "data_loader — INFO — Logger initialised; log file = /root/CoTFaithChecker/logs/data_loader_20250426_124459.log\n",
      "2025-04-26 12:44:59,426 - INFO - Logger initialised; log file = /root/CoTFaithChecker/logs/data_loader_20250426_124459.log\n",
      "data_loader — INFO — → kept 9 after cluster filter ['world']\n",
      "2025-04-26 12:44:59,430 - INFO - → kept 9 after cluster filter ['world']\n",
      "data_loader — INFO — Found 9 files in data/chainscope/questions_json/gt_NO_1\n",
      "2025-04-26 12:44:59,432 - INFO - Found 9 files in data/chainscope/questions_json/gt_NO_1\n",
      "data_loader — INFO — → kept 9 after cluster filter ['world']\n",
      "2025-04-26 12:44:59,435 - INFO - → kept 9 after cluster filter ['world']\n",
      "data_loader — INFO — Found 9 files in data/chainscope/questions_json/gt_YES_1\n",
      "2025-04-26 12:44:59,436 - INFO - Found 9 files in data/chainscope/questions_json/gt_YES_1\n",
      "data_loader — INFO — Total files collected: 18\n",
      "2025-04-26 12:44:59,438 - INFO - Total files collected: 18\n"
     ]
    }
   ],
   "source": [
    "from e_confirm_xy_yx.main.data_loader import get_dataset_files\n",
    "\n",
    "# 0. Extra toggle\n",
    "CLUSTERS = [\"world\"]   # no \"no_wm\"\n",
    "\n",
    "# 2. Collect dataset files\n",
    "dataset_files = get_dataset_files(\n",
    "    DATA_ROOT,\n",
    "    DATASETS,\n",
    "    clusters=CLUSTERS,          # ← NEW ARG\n",
    ")\n",
    "\n",
    "# 5. Verify – point to aggregated cluster outputs\n",
    "completion_files = sorted(\n",
    "    (OUT_DIR / \"completions\" / \"clusters\").glob(\"*_completions.json\")\n",
    ")\n",
    "\n",
    "# 6. Match YES vs NO on cluster files\n",
    "verified_files = sorted((OUT_DIR / \"verified\").glob(\"*_verified.json\"))\n",
    "\n",
    "pairs = [\n",
    "    (vf, vf.parent / vf.name.replace(\"_NO_\", \"_YES_\"))\n",
    "    for vf in verified_files\n",
    "    if \"_NO_\" in vf.name\n",
    "    and (vf.parent / vf.name.replace(\"_NO_\", \"_YES_\")).exists()\n",
    "]\n"
   ]
  },
  {
   "cell_type": "code",
   "execution_count": 3,
   "metadata": {},
   "outputs": [
    {
     "name": "stderr",
     "output_type": "stream",
     "text": [
      "prompt_builder — INFO — Logger initialised; log file = /root/CoTFaithChecker/logs/prompt_builder_20250426_124459.log\n",
      "2025-04-26 12:44:59,452 - INFO - Logger initialised; log file = /root/CoTFaithChecker/logs/prompt_builder_20250426_124459.log\n",
      "prompt_builder — INFO — PromptBuilder initialised with style=instr-v0, mode=cot\n",
      "2025-04-26 12:44:59,455 - INFO - PromptBuilder initialised with style=instr-v0, mode=cot\n",
      "inference — INFO — Logger initialised; log file = /root/CoTFaithChecker/logs/inference_20250426_124459.log\n",
      "2025-04-26 12:44:59,458 - INFO - Logger initialised; log file = /root/CoTFaithChecker/logs/inference_20250426_124459.log\n",
      "inference — INFO — Processing wm-world-natural-area_gt_NO_1_9e073217.json\n",
      "2025-04-26 12:44:59,461 - INFO - Processing wm-world-natural-area_gt_NO_1_9e073217.json\n",
      "2025-04-26 12:44:59,462 - DEBUG - Loading data/chainscope/questions_json/gt_NO_1/wm-world-natural-area_gt_NO_1_9e073217.json\n",
      "Setting `pad_token_id` to `eos_token_id`:128001 for open-end generation.\n"
     ]
    }
   ],
   "source": [
    "\n",
    "# ───────────────────────────────────────────────\n",
    "# 2. Collect dataset files\n",
    "# ───────────────────────────────────────────────\n",
    "#from e_confirm_xy_yx.main.data_loader import get_dataset_files\n",
    "#dataset_files = get_dataset_files(DATA_ROOT, DATASETS)\n",
    "\n",
    "# ───────────────────────────────────────────────\n",
    "# 3. Prepare prompt builder\n",
    "# ───────────────────────────────────────────────\n",
    "from e_confirm_xy_yx.main.prompt_builder import PromptBuilder\n",
    "pb = PromptBuilder(template_path=TEMPLATE_PATH, style=\"instr-v0\", mode=\"cot\")\n",
    "\n",
    "# ───────────────────────────────────────────────\n",
    "# 4. Run inference\n",
    "# ───────────────────────────────────────────────\n",
    "from e_confirm_xy_yx.main.inference import run_inference\n",
    "\n",
    "run_inference(\n",
    "    dataset_files=dataset_files,\n",
    "    prompt_builder=pb,\n",
    "    model=model,\n",
    "    tokenizer=tokenizer,\n",
    "    model_name=model_name,\n",
    "    device=device,\n",
    "    batch_size=BATCH_SIZE,\n",
    "    max_new_tokens=MAX_NEW_TOKENS,\n",
    "    save_hidden=SAVE_HIDDEN,\n",
    "    hidden_layers=HIDDEN_LAYERS,\n",
    "    save_attention=SAVE_ATTN,\n",
    "    attn_layers=ATTN_LAYERS,\n",
    "    output_dir=OUT_DIR / \"completions\",\n",
    "    n_runs=N_RUNS,\n",
    "    temperature=TEMPERATURE,\n",
    "    top_p=TOP_P,\n",
    ")\n"
   ]
  },
  {
   "cell_type": "code",
   "execution_count": 4,
   "metadata": {},
   "outputs": [
    {
     "data": {
      "text/plain": [
       "'\\n# ───────────────────────────────────────────────\\n# 5. Verify model answers\\n# ───────────────────────────────────────────────\\nfrom e_confirm_xy_yx.main.verifier import run_verification\\ncompletion_files = sorted((OUT_DIR / \"completions\").glob(\"*_completions.json\"))\\n\\nrun_verification(\\n    completion_files=completion_files,\\n    n_questions=N_VERIFY,\\n    output_dir=OUT_DIR / \"verified\",\\n)\\n'"
      ]
     },
     "execution_count": 4,
     "metadata": {},
     "output_type": "execute_result"
    }
   ],
   "source": [
    "\"\"\"\n",
    "# ───────────────────────────────────────────────\n",
    "# 5. Verify model answers\n",
    "# ───────────────────────────────────────────────\n",
    "from e_confirm_xy_yx.main.verifier import run_verification\n",
    "completion_files = sorted((OUT_DIR / \"completions\").glob(\"*_completions.json\"))\n",
    "\n",
    "run_verification(\n",
    "    completion_files=completion_files,\n",
    "    n_questions=N_VERIFY,\n",
    "    output_dir=OUT_DIR / \"verified\",\n",
    ")\n",
    "\"\"\""
   ]
  },
  {
   "cell_type": "code",
   "execution_count": 5,
   "metadata": {},
   "outputs": [
    {
     "data": {
      "text/plain": [
       "'\\n# ───────────────────────────────────────────────\\n# 6. Cross-match YES vs NO answers\\n# ───────────────────────────────────────────────\\nfrom e_confirm_xy_yx.main.match_checker import check_matches\\nverified_files = sorted((OUT_DIR / \"verified\").glob(\"*_verified.json\"))\\n\\n# pair them: every gt_NO_X file with its matching gt_YES_X (adapt if lt)\\npairs = [\\n    (\\n        vf,\\n        vf.parent\\n        / vf.name.replace(\"gt_NO\", \"gt_YES\")\\n    )\\n    for vf in verified_files\\n    if \"_NO_\" in vf.name\\n]\\n\\nfor no_file, yes_file in pairs:\\n    out_match = (\\n        OUT_DIR\\n        / \"matches\"\\n        / f\"{no_file.stem.replace(\\'_verified\\',\\'\\')}_match.json\"\\n    )\\n    out_match.parent.mkdir(parents=True, exist_ok=True)\\n    check_matches(no_file, yes_file, out_match)\\n'"
      ]
     },
     "execution_count": 5,
     "metadata": {},
     "output_type": "execute_result"
    }
   ],
   "source": [
    "\n",
    "\"\"\"\n",
    "# ───────────────────────────────────────────────\n",
    "# 6. Cross-match YES vs NO answers\n",
    "# ───────────────────────────────────────────────\n",
    "from e_confirm_xy_yx.main.match_checker import check_matches\n",
    "verified_files = sorted((OUT_DIR / \"verified\").glob(\"*_verified.json\"))\n",
    "\n",
    "# pair them: every gt_NO_X file with its matching gt_YES_X (adapt if lt)\n",
    "pairs = [\n",
    "    (\n",
    "        vf,\n",
    "        vf.parent\n",
    "        / vf.name.replace(\"gt_NO\", \"gt_YES\")\n",
    "    )\n",
    "    for vf in verified_files\n",
    "    if \"_NO_\" in vf.name\n",
    "]\n",
    "\n",
    "for no_file, yes_file in pairs:\n",
    "    out_match = (\n",
    "        OUT_DIR\n",
    "        / \"matches\"\n",
    "        / f\"{no_file.stem.replace('_verified','')}_match.json\"\n",
    "    )\n",
    "    out_match.parent.mkdir(parents=True, exist_ok=True)\n",
    "    check_matches(no_file, yes_file, out_match)\n",
    "\"\"\"\n"
   ]
  }
 ],
 "metadata": {
  "kernelspec": {
   "display_name": "Python 3",
   "language": "python",
   "name": "python3"
  },
  "language_info": {
   "codemirror_mode": {
    "name": "ipython",
    "version": 3
   },
   "file_extension": ".py",
   "mimetype": "text/x-python",
   "name": "python",
   "nbconvert_exporter": "python",
   "pygments_lexer": "ipython3",
   "version": "3.10.12"
  }
 },
 "nbformat": 4,
 "nbformat_minor": 2
}
