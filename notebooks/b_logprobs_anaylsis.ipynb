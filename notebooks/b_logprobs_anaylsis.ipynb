{
 "cells": [
  {
   "cell_type": "code",
   "execution_count": 2,
   "metadata": {},
   "outputs": [
    {
     "name": "stdout",
     "output_type": "stream",
     "text": [
      "/home/ubuntu/CoTFaithChecker\n"
     ]
    },
    {
     "name": "stderr",
     "output_type": "stream",
     "text": [
      "/home/ubuntu/CoTFaithChecker/.venv/lib/python3.10/site-packages/IPython/core/magics/osm.py:417: UserWarning: This is now an optional IPython functionality, setting dhist requires you to install the `pickleshare` library.\n",
      "  self.shell.db['dhist'] = compress_dhist(dhist)[-100:]\n"
     ]
    }
   ],
   "source": [
    "%cd ..\n",
    "%pwd\n",
    "import os\n",
    "import json\n",
    "import logging\n",
    "import sys\n",
    "\n",
    "logging.basicConfig(level=logging.DEBUG, format='%(asctime)s - %(levelname)s - %(message)s')\n",
    "\n",
    "# Add src to path\n",
    "sys.path.append(os.path.abspath(os.path.join(os.getcwd(), 'src')))\n",
    "\n",
    "# %% \n",
    "# Configuration\n",
    "\n",
    "# --- Core Parameters for a Single Run --- \n",
    "MODEL_NAME = \"DeepSeek-R1-Distill-Qwen-1.5B\"\n",
    "MODEL_PATH = f\"deepseek-ai/{MODEL_NAME}\"\n",
    "DATASET = \"mmlu\"\n",
    "\n",
    "# --- Parameters for the Logprobs Experiment --- \n",
    "HINT_TYPES_TO_ANALYZE = [\"sycophancy\"] # List of hints to compare against baseline\n",
    "INTERVENTION_TYPES = [\"dots\", \"dots_eot\"] # Types of intervention prompts\n",
    "PERCENTAGE_STEPS = list(range(10, 101, 10)) # Analyze at 10%, 20%, ..., 100%\n",
    "\n",
    "# --- Run Control & File Parameters --- \n",
    "N_QUESTIONS = 150 # Number of questions used to generate source files (e.g., completions_with_500.json)\n",
    "DEMO_MODE_N = 5 # Set to None to run on all relevant questions, or integer N for first N\n",
    "DATA_DIR = \"./data\"\n",
    "OUT_DIR = \"b_logprobs_analysis/outputs\""
   ]
  },
  {
   "cell_type": "code",
   "execution_count": 3,
   "metadata": {},
   "outputs": [
    {
     "name": "stderr",
     "output_type": "stream",
     "text": [
      "/home/ubuntu/CoTFaithChecker/.venv/lib/python3.10/site-packages/tqdm/auto.py:21: TqdmWarning: IProgress not found. Please update jupyter and ipywidgets. See https://ipywidgets.readthedocs.io/en/stable/user_install.html\n",
      "  from .autonotebook import tqdm as notebook_tqdm\n",
      "2025-04-25 13:54:31,661 - INFO - Loading model and tokenizer: deepseek-ai/DeepSeek-R1-Distill-Qwen-1.5B\n",
      "2025-04-25 13:54:31,742 - INFO - CUDA is available. Using GPU.\n",
      "2025-04-25 13:54:31,743 - INFO - Loading model and tokenizer: deepseek-ai/DeepSeek-R1-Distill-Qwen-1.5B onto cuda\n",
      "2025-04-25 13:54:31,745 - DEBUG - Starting new HTTPS connection (1): huggingface.co:443\n",
      "2025-04-25 13:54:31,777 - DEBUG - https://huggingface.co:443 \"HEAD /deepseek-ai/DeepSeek-R1-Distill-Qwen-1.5B/resolve/main/tokenizer_config.json HTTP/1.1\" 200 0\n",
      "2025-04-25 13:54:32,179 - DEBUG - https://huggingface.co:443 \"HEAD /deepseek-ai/DeepSeek-R1-Distill-Qwen-1.5B/resolve/main/config.json HTTP/1.1\" 200 0\n",
      "Sliding Window Attention is enabled but not implemented for `sdpa`; unexpected results may be encountered.\n",
      "2025-04-25 13:54:33,553 - DEBUG - https://huggingface.co:443 \"HEAD /deepseek-ai/DeepSeek-R1-Distill-Qwen-1.5B/resolve/main/generation_config.json HTTP/1.1\" 200 0\n",
      "2025-04-25 13:54:34,395 - INFO - Model and tokenizer loaded successfully.\n",
      "2025-04-25 13:54:34,396 - INFO - Model loaded successfully on device: cuda\n"
     ]
    }
   ],
   "source": [
    "from a_confirm_posthoc.utils.model_handler import load_model_and_tokenizer\n",
    "\n",
    "logging.info(f\"Loading model and tokenizer: {MODEL_PATH}\")\n",
    "try:\n",
    "    model, tokenizer, model_name_from_load, device = load_model_and_tokenizer(MODEL_PATH)\n",
    "    logging.info(f\"Model loaded successfully on device: {device}\")\n",
    "    # Derive model_name for directory paths (consistent with other scripts)\n",
    "    model_name = MODEL_NAME\n",
    "except Exception as e:\n",
    "    logging.error(f\"Failed to load model or tokenizer: {e}\", exc_info=True)\n",
    "    # Exit or handle error appropriately - maybe raise SystemExit?\n",
    "    raise SystemExit(\"Model/Tokenizer loading failed.\")"
   ]
  },
  {
   "cell_type": "code",
   "execution_count": 5,
   "metadata": {},
   "outputs": [
    {
     "ename": "ImportError",
     "evalue": "cannot import name 'load_switch_analysis_data' from 'b_logprobs_analysis.main.io' (/home/ubuntu/CoTFaithChecker/b_logprobs_analysis/main/io.py)",
     "output_type": "error",
     "traceback": [
      "\u001b[0;31m---------------------------------------------------------------------------\u001b[0m",
      "\u001b[0;31mImportError\u001b[0m                               Traceback (most recent call last)",
      "Cell \u001b[0;32mIn[5], line 3\u001b[0m\n\u001b[1;32m      1\u001b[0m \u001b[38;5;66;03m# Run Logprobs Analysis Pipeline\u001b[39;00m\n\u001b[0;32m----> 3\u001b[0m \u001b[38;5;28;01mfrom\u001b[39;00m\u001b[38;5;250m \u001b[39m\u001b[38;5;21;01mb_logprobs_analysis\u001b[39;00m\u001b[38;5;21;01m.\u001b[39;00m\u001b[38;5;21;01mmain\u001b[39;00m\u001b[38;5;21;01m.\u001b[39;00m\u001b[38;5;21;01mpipeline\u001b[39;00m\u001b[38;5;250m \u001b[39m\u001b[38;5;28;01mimport\u001b[39;00m run_logprobs_analysis_for_hint_types\n\u001b[1;32m      6\u001b[0m \u001b[38;5;28;01mif\u001b[39;00m model \u001b[38;5;129;01mand\u001b[39;00m tokenizer:\n\u001b[1;32m      7\u001b[0m     \u001b[38;5;66;03m# Define base output directory for this model/dataset\u001b[39;00m\n\u001b[1;32m      8\u001b[0m     output_dir_base \u001b[38;5;241m=\u001b[39m os\u001b[38;5;241m.\u001b[39mpath\u001b[38;5;241m.\u001b[39mjoin(OUT_DIR, DATASET, MODEL_NAME)\n",
      "File \u001b[0;32m~/CoTFaithChecker/b_logprobs_analysis/main/pipeline.py:8\u001b[0m\n\u001b[1;32m      5\u001b[0m \u001b[38;5;28;01mimport\u001b[39;00m\u001b[38;5;250m \u001b[39m\u001b[38;5;21;01mlogging\u001b[39;00m\n\u001b[1;32m      6\u001b[0m \u001b[38;5;28;01mfrom\u001b[39;00m\u001b[38;5;250m \u001b[39m\u001b[38;5;21;01mtqdm\u001b[39;00m\u001b[38;5;250m \u001b[39m\u001b[38;5;28;01mimport\u001b[39;00m tqdm\n\u001b[0;32m----> 8\u001b[0m \u001b[38;5;28;01mfrom\u001b[39;00m\u001b[38;5;250m \u001b[39m\u001b[38;5;21;01m.\u001b[39;00m\u001b[38;5;21;01mio\u001b[39;00m\u001b[38;5;250m \u001b[39m\u001b[38;5;28;01mimport\u001b[39;00m load_hint_verification_data, load_mcq_data, load_completion, load_switch_analysis_data, load_verification_data\n\u001b[1;32m      9\u001b[0m \u001b[38;5;28;01mfrom\u001b[39;00m\u001b[38;5;250m \u001b[39m\u001b[38;5;21;01m.\u001b[39;00m\u001b[38;5;21;01mlogit_extraction\u001b[39;00m\u001b[38;5;250m \u001b[39m\u001b[38;5;28;01mimport\u001b[39;00m get_option_token_ids, find_reasoning_end, extract_logprobs_sequence, find_reasoning_start\n\u001b[1;32m     10\u001b[0m \u001b[38;5;28;01mfrom\u001b[39;00m\u001b[38;5;250m \u001b[39m\u001b[38;5;21;01m.\u001b[39;00m\u001b[38;5;21;01mutils\u001b[39;00m\u001b[38;5;250m \u001b[39m\u001b[38;5;28;01mimport\u001b[39;00m get_intervention_prompt\n",
      "\u001b[0;31mImportError\u001b[0m: cannot import name 'load_switch_analysis_data' from 'b_logprobs_analysis.main.io' (/home/ubuntu/CoTFaithChecker/b_logprobs_analysis/main/io.py)"
     ]
    }
   ],
   "source": [
    "# Run Logprobs Analysis Pipeline\n",
    "\n",
    "from b_logprobs_analysis.main.pipeline import run_logprobs_analysis_for_hint_types\n",
    "\n",
    "\n",
    "if model and tokenizer:\n",
    "    # Define base output directory for this model/dataset\n",
    "    output_dir_base = os.path.join(OUT_DIR, DATASET, MODEL_NAME)\n",
    "\n",
    "    run_logprobs_analysis_for_hint_types(\n",
    "        model=model,\n",
    "        tokenizer=tokenizer,\n",
    "        device=device,\n",
    "        model_name=model_name, # Use derived name for path consistency\n",
    "        dataset=DATASET,\n",
    "        data_dir=DATA_DIR,\n",
    "        hint_types_to_analyze=HINT_TYPES_TO_ANALYZE,\n",
    "        intervention_types=INTERVENTION_TYPES,\n",
    "        percentage_steps=PERCENTAGE_STEPS,\n",
    "        n_questions=N_QUESTIONS,\n",
    "        demo_mode_n=DEMO_MODE_N,\n",
    "        output_dir_base=output_dir_base\n",
    "    )\n",
    "else:\n",
    "    logging.error(\"Pipeline execution skipped due to model/tokenizer loading failure.\")\n"
   ]
  },
  {
   "cell_type": "code",
   "execution_count": null,
   "metadata": {},
   "outputs": [],
   "source": []
  },
  {
   "cell_type": "code",
   "execution_count": null,
   "metadata": {},
   "outputs": [],
   "source": []
  }
 ],
 "metadata": {
  "kernelspec": {
   "display_name": ".venv",
   "language": "python",
   "name": "python3"
  },
  "language_info": {
   "codemirror_mode": {
    "name": "ipython",
    "version": 3
   },
   "file_extension": ".py",
   "mimetype": "text/x-python",
   "name": "python",
   "nbconvert_exporter": "python",
   "pygments_lexer": "ipython3",
   "version": "3.10.12"
  }
 },
 "nbformat": 4,
 "nbformat_minor": 2
}
