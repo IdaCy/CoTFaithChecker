{
 "cells": [
  {
   "cell_type": "code",
   "execution_count": 1,
   "metadata": {},
   "outputs": [
    {
     "name": "stdout",
     "output_type": "stream",
     "text": [
      "/root/CoTFaithChecker\n"
     ]
    },
    {
     "name": "stderr",
     "output_type": "stream",
     "text": [
      "/usr/local/lib/python3.10/dist-packages/IPython/core/magics/osm.py:417: UserWarning: This is now an optional IPython functionality, setting dhist requires you to install the `pickleshare` library.\n",
      "  self.shell.db['dhist'] = compress_dhist(dhist)[-100:]\n"
     ]
    }
   ],
   "source": [
    "%cd ..\n",
    "%pwd\n",
    "import os\n",
    "import json\n",
    "import logging\n",
    "import sys\n",
    "\n",
    "logging.basicConfig(level=logging.DEBUG, format='%(asctime)s - %(levelname)s - %(message)s')\n",
    "\n",
    "# Add src to path\n",
    "sys.path.append(os.path.abspath(os.path.join(os.getcwd(), 'src')))\n",
    "\n",
    "# %% \n",
    "# Configuration\n",
    "\n",
    "# --- Core Parameters for a Single Run --- \n",
    "MODEL_PATH = \"deepseek-ai/DeepSeek-R1-Distill-Llama-8B\"\n",
    "DATASET = \"mmlu\"\n",
    "\n",
    "# --- Parameters for the Logprobs Experiment --- \n",
    "HINT_TYPES_TO_ANALYZE = [\"induced_urgency\", \"sycophancy\"] # List of hints to compare against baseline\n",
    "INTERVENTION_TYPES = [\"dots\", \"dots_eot\"] # Types of intervention prompts\n",
    "PERCENTAGE_STEPS = list(range(10, 101, 10)) # Analyze at 10%, 20%, ..., 100%\n",
    "\n",
    "# --- Run Control & File Parameters --- \n",
    "N_QUESTIONS = 500 # Number of questions used to generate source files (e.g., completions_with_500.json)\n",
    "DEMO_MODE_N = 5 # Set to None to run on all relevant questions, or integer N for first N\n",
    "DATA_DIR = \"./data\""
   ]
  },
  {
   "cell_type": "code",
   "execution_count": 2,
   "metadata": {},
   "outputs": [
    {
     "name": "stderr",
     "output_type": "stream",
     "text": [
      "/usr/local/lib/python3.10/dist-packages/tqdm/auto.py:21: TqdmWarning: IProgress not found. Please update jupyter and ipywidgets. See https://ipywidgets.readthedocs.io/en/stable/user_install.html\n",
      "  from .autonotebook import tqdm as notebook_tqdm\n",
      "2025-04-24 13:48:48,942 - INFO - Loading model and tokenizer: deepseek-ai/DeepSeek-R1-Distill-Llama-8B\n",
      "2025-04-24 13:48:48,982 - INFO - CUDA is available. Using GPU.\n",
      "2025-04-24 13:48:48,983 - INFO - Loading model and tokenizer: deepseek-ai/DeepSeek-R1-Distill-Llama-8B onto cuda\n",
      "2025-04-24 13:48:48,987 - DEBUG - Starting new HTTPS connection (1): huggingface.co:443\n",
      "2025-04-24 13:48:49,081 - DEBUG - https://huggingface.co:443 \"HEAD /deepseek-ai/DeepSeek-R1-Distill-Llama-8B/resolve/main/tokenizer_config.json HTTP/1.1\" 200 0\n",
      "2025-04-24 13:48:49,659 - DEBUG - https://huggingface.co:443 \"HEAD /deepseek-ai/DeepSeek-R1-Distill-Llama-8B/resolve/main/config.json HTTP/1.1\" 200 0\n",
      "Loading checkpoint shards: 100%|██████████| 2/2 [00:02<00:00,  1.15s/it]\n",
      "2025-04-24 13:48:52,545 - DEBUG - https://huggingface.co:443 \"HEAD /deepseek-ai/DeepSeek-R1-Distill-Llama-8B/resolve/main/generation_config.json HTTP/1.1\" 200 0\n",
      "2025-04-24 13:48:56,311 - INFO - Model and tokenizer loaded successfully.\n",
      "2025-04-24 13:48:56,315 - INFO - Model loaded successfully on device: cuda\n"
     ]
    }
   ],
   "source": [
    "from a_confirm_posthoc.src.utils.model_handler import load_model_and_tokenizer\n",
    "\n",
    "logging.info(f\"Loading model and tokenizer: {MODEL_PATH}\")\n",
    "try:\n",
    "    model, tokenizer, model_name_from_load, device = load_model_and_tokenizer(MODEL_PATH)\n",
    "    logging.info(f\"Model loaded successfully on device: {device}\")\n",
    "    # Derive model_name for directory paths (consistent with other scripts)\n",
    "    model_name = MODEL_PATH.split('/')[-1]\n",
    "except Exception as e:\n",
    "    logging.error(f\"Failed to load model or tokenizer: {e}\", exc_info=True)\n",
    "    # Exit or handle error appropriately - maybe raise SystemExit?\n",
    "    raise SystemExit(\"Model/Tokenizer loading failed.\")\n",
    "\n"
   ]
  },
  {
   "cell_type": "code",
   "execution_count": 3,
   "metadata": {},
   "outputs": [
    {
     "name": "stderr",
     "output_type": "stream",
     "text": [
      "2025-04-24 13:48:56,354 - INFO - --- Starting Logprobs Analysis --- \n",
      "2025-04-24 13:48:56,356 - INFO - Model: DeepSeek-R1-Distill-Llama-8B, Dataset: mmlu\n",
      "2025-04-24 13:48:56,356 - INFO - Analyzing Hint Types: ['induced_urgency', 'sycophancy']\n",
      "2025-04-24 13:48:56,357 - INFO - Intervention Types: ['dots', 'dots_eot']\n",
      "2025-04-24 13:48:56,376 - INFO - Loaded MCQ data for 5000 questions.\n",
      "2025-04-24 13:48:56,377 - INFO - Loading hint verification data for hint type: induced_urgency\n",
      "2025-04-24 13:48:56,379 - INFO -   Found 71 questions that switched to hint 'induced_urgency'.\n",
      "2025-04-24 13:48:56,380 - INFO - Loading hint verification data for hint type: sycophancy\n",
      "2025-04-24 13:48:56,382 - INFO -   Found 77 questions that switched to hint 'sycophancy'.\n",
      "2025-04-24 13:48:56,382 - INFO - Total relevant QIDs (switched to any analyzed hint): 109\n",
      "2025-04-24 13:48:56,383 - INFO - Determined standard options: ['A', 'B', 'C', 'D']\n",
      "2025-04-24 13:48:56,405 - INFO - Standard option token IDs: {'A': 362, 'B': 426, 'C': 356, 'D': 423}\n",
      "2025-04-24 13:48:56,406 - WARNING - Running in DEMO mode. Processing only 5 relevant questions.\n",
      "2025-04-24 13:48:56,407 - INFO - Processing baseline ('none') completions for 5 relevant questions...\n",
      "Processing Baseline:   0%|          | 0/5 [00:00<?, ?it/s]2025-04-24 13:48:56,419 - DEBUG - Found reasoning start marker 'assistant' at index 346.\n",
      "2025-04-24 13:48:56,419 - DEBUG - Found reasoning end marker '</think>' at index 2110.\n",
      "2025-04-24 13:48:56,426 - INFO - Analyzing 530 reasoning tokens across 10 steps.\n"
     ]
    },
    {
     "name": "stderr",
     "output_type": "stream",
     "text": [
      "2025-04-24 13:48:58,213 - INFO - Analyzing 530 reasoning tokens across 10 steps.\n",
      "Processing Baseline:  20%|██        | 1/5 [00:03<00:12,  3.01s/it]2025-04-24 13:48:59,427 - DEBUG - Found reasoning start marker 'assistant' at index 349.\n",
      "2025-04-24 13:48:59,428 - DEBUG - Found reasoning end marker '</think>' at index 2028.\n",
      "2025-04-24 13:48:59,434 - INFO - Analyzing 358 reasoning tokens across 10 steps.\n",
      "2025-04-24 13:49:00,490 - INFO - Analyzing 358 reasoning tokens across 10 steps.\n",
      "Processing Baseline:  40%|████      | 2/5 [00:05<00:07,  2.48s/it]2025-04-24 13:49:01,537 - DEBUG - Found reasoning start marker 'assistant' at index 259.\n",
      "2025-04-24 13:49:01,538 - DEBUG - Found reasoning end marker '</think>' at index 5151.\n",
      "2025-04-24 13:49:01,551 - INFO - Analyzing 1133 reasoning tokens across 10 steps.\n",
      "2025-04-24 13:49:03,447 - INFO - Analyzing 1133 reasoning tokens across 10 steps.\n",
      "Processing Baseline:  60%|██████    | 3/5 [00:08<00:06,  3.10s/it]2025-04-24 13:49:05,366 - DEBUG - Found reasoning start marker 'assistant' at index 597.\n",
      "2025-04-24 13:49:05,367 - DEBUG - Found reasoning end marker '</think>' at index 5398.\n",
      "2025-04-24 13:49:05,378 - INFO - Analyzing 990 reasoning tokens across 10 steps.\n",
      "2025-04-24 13:49:07,218 - INFO - Analyzing 990 reasoning tokens across 10 steps.\n",
      "Processing Baseline:  80%|████████  | 4/5 [00:12<00:03,  3.33s/it]2025-04-24 13:49:09,065 - DEBUG - Found reasoning start marker 'assistant' at index 372.\n",
      "2025-04-24 13:49:09,066 - DEBUG - Found reasoning end marker '</think>' at index 1844.\n",
      "2025-04-24 13:49:09,074 - INFO - Analyzing 298 reasoning tokens across 10 steps.\n",
      "2025-04-24 13:49:10,009 - INFO - Analyzing 298 reasoning tokens across 10 steps.\n",
      "Processing Baseline: 100%|██████████| 5/5 [00:14<00:00,  2.91s/it]\n",
      "2025-04-24 13:49:10,946 - INFO - Saving baseline logprobs results to ./data/mmlu/DeepSeek-R1-Distill-Llama-8B/logprobs_analysis/baseline_logprobs.json\n",
      "2025-04-24 13:49:10,951 - INFO - Baseline results saved.\n",
      "2025-04-24 13:49:10,952 - INFO - --- Processing Hint Type: induced_urgency ---\n",
      "2025-04-24 13:49:10,952 - INFO - Processing 3 questions for hint type: induced_urgency\n",
      "Processing induced_urgency:   0%|          | 0/3 [00:00<?, ?it/s]2025-04-24 13:49:10,964 - DEBUG - Found reasoning start marker 'assistant' at index 473.\n",
      "2025-04-24 13:49:10,965 - DEBUG - Found reasoning end marker '</think>' at index 2129.\n",
      "2025-04-24 13:49:10,972 - INFO - Analyzing 493 reasoning tokens across 10 steps.\n",
      "2025-04-24 13:49:12,183 - INFO - Analyzing 493 reasoning tokens across 10 steps.\n",
      "Processing induced_urgency:  33%|███▎      | 1/3 [00:02<00:04,  2.42s/it]2025-04-24 13:49:13,390 - DEBUG - Found reasoning start marker 'assistant' at index 413.\n",
      "2025-04-24 13:49:13,391 - DEBUG - Found reasoning end marker '</think>' at index 3263.\n",
      "2025-04-24 13:49:13,400 - INFO - Analyzing 688 reasoning tokens across 10 steps.\n",
      "2025-04-24 13:49:14,835 - INFO - Analyzing 688 reasoning tokens across 10 steps.\n",
      "Processing induced_urgency:  67%|██████▋   | 2/3 [00:05<00:02,  2.70s/it]2025-04-24 13:49:16,286 - DEBUG - Found reasoning start marker 'assistant' at index 498.\n",
      "2025-04-24 13:49:16,286 - DEBUG - Found reasoning end marker '</think>' at index 3069.\n",
      "2025-04-24 13:49:16,296 - INFO - Analyzing 511 reasoning tokens across 10 steps.\n",
      "2025-04-24 13:49:17,508 - INFO - Analyzing 511 reasoning tokens across 10 steps.\n",
      "Processing induced_urgency: 100%|██████████| 3/3 [00:07<00:00,  2.59s/it]\n",
      "2025-04-24 13:49:18,714 - INFO - Saving 'induced_urgency' logprobs results to ./data/mmlu/DeepSeek-R1-Distill-Llama-8B/logprobs_analysis/induced_urgency_logprobs.json\n",
      "2025-04-24 13:49:18,717 - INFO - 'induced_urgency' results saved.\n",
      "2025-04-24 13:49:18,718 - INFO - --- Processing Hint Type: sycophancy ---\n",
      "2025-04-24 13:49:18,719 - INFO - Processing 4 questions for hint type: sycophancy\n",
      "Processing sycophancy:   0%|          | 0/4 [00:00<?, ?it/s]2025-04-24 13:49:18,729 - DEBUG - Found reasoning start marker 'assistant' at index 462.\n",
      "2025-04-24 13:49:18,729 - DEBUG - Found reasoning end marker '</think>' at index 2626.\n",
      "2025-04-24 13:49:18,737 - INFO - Analyzing 458 reasoning tokens across 10 steps.\n",
      "2025-04-24 13:49:19,918 - INFO - Analyzing 458 reasoning tokens across 10 steps.\n",
      "Processing sycophancy:  25%|██▌       | 1/4 [00:02<00:07,  2.36s/it]2025-04-24 13:49:21,096 - DEBUG - Found reasoning start marker 'assistant' at index 2777.\n",
      "2025-04-24 13:49:21,097 - DEBUG - Found reasoning end marker '</think>' at index 2943.\n",
      "2025-04-24 13:49:21,107 - INFO - Analyzing 37 reasoning tokens across 10 steps.\n",
      "2025-04-24 13:49:22,960 - INFO - Analyzing 37 reasoning tokens across 10 steps.\n",
      "Processing sycophancy:  50%|█████     | 2/4 [00:06<00:06,  3.16s/it]2025-04-24 13:49:24,815 - DEBUG - Found reasoning start marker 'assistant' at index 846.\n",
      "2025-04-24 13:49:24,816 - DEBUG - Found reasoning end marker '</think>' at index 3662.\n",
      "2025-04-24 13:49:24,825 - INFO - Analyzing 582 reasoning tokens across 10 steps.\n",
      "2025-04-24 13:49:26,279 - INFO - Analyzing 582 reasoning tokens across 10 steps.\n",
      "Processing sycophancy:  75%|███████▌  | 3/4 [00:09<00:03,  3.06s/it]2025-04-24 13:49:27,742 - DEBUG - Found reasoning start marker 'assistant' at index 485.\n",
      "2025-04-24 13:49:27,743 - DEBUG - Found reasoning end marker '</think>' at index 2245.\n",
      "2025-04-24 13:49:27,751 - INFO - Analyzing 338 reasoning tokens across 10 steps.\n",
      "2025-04-24 13:49:28,804 - INFO - Analyzing 338 reasoning tokens across 10 steps.\n",
      "Processing sycophancy: 100%|██████████| 4/4 [00:11<00:00,  2.78s/it]\n",
      "2025-04-24 13:49:29,848 - INFO - Saving 'sycophancy' logprobs results to ./data/mmlu/DeepSeek-R1-Distill-Llama-8B/logprobs_analysis/sycophancy_logprobs.json\n",
      "2025-04-24 13:49:29,851 - INFO - 'sycophancy' results saved.\n",
      "2025-04-24 13:49:29,852 - INFO - --- Logprobs Analysis Finished --- \n"
     ]
    }
   ],
   "source": [
    "# Run Logprobs Analysis Pipeline\n",
    "\n",
    "from d_logprobs_analysis.src.main.pipeline import run_logprobs_analysis_for_hint_types\n",
    "\n",
    "\n",
    "if model and tokenizer:\n",
    "    # Define base output directory for this model/dataset\n",
    "    output_dir_base = os.path.join(DATA_DIR, DATASET, model_name)\n",
    "\n",
    "    run_logprobs_analysis_for_hint_types(\n",
    "        model=model,\n",
    "        tokenizer=tokenizer,\n",
    "        device=device,\n",
    "        model_name=model_name, # Use derived name for path consistency\n",
    "        dataset=DATASET,\n",
    "        data_dir=DATA_DIR,\n",
    "        hint_types_to_analyze=HINT_TYPES_TO_ANALYZE,\n",
    "        intervention_types=INTERVENTION_TYPES,\n",
    "        percentage_steps=PERCENTAGE_STEPS,\n",
    "        n_questions=N_QUESTIONS,\n",
    "        demo_mode_n=DEMO_MODE_N,\n",
    "        output_dir_base=output_dir_base\n",
    "    )\n",
    "else:\n",
    "    logging.error(\"Pipeline execution skipped due to model/tokenizer loading failure.\")\n"
   ]
  }
 ],
 "metadata": {
  "kernelspec": {
   "display_name": "Python 3",
   "language": "python",
   "name": "python3"
  },
  "language_info": {
   "codemirror_mode": {
    "name": "ipython",
    "version": 3
   },
   "file_extension": ".py",
   "mimetype": "text/x-python",
   "name": "python",
   "nbconvert_exporter": "python",
   "pygments_lexer": "ipython3",
   "version": "3.10.12"
  }
 },
 "nbformat": 4,
 "nbformat_minor": 2
}
