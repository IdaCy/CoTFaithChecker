{
 "cells": [
  {
   "cell_type": "code",
   "execution_count": 1,
   "metadata": {},
   "outputs": [
    {
     "name": "stdout",
     "output_type": "stream",
     "text": [
      "/root/CoTFaithChecker\n"
     ]
    },
    {
     "name": "stderr",
     "output_type": "stream",
     "text": [
      "/usr/local/lib/python3.10/dist-packages/IPython/core/magics/osm.py:417: UserWarning: This is now an optional IPython functionality, setting dhist requires you to install the `pickleshare` library.\n",
      "  self.shell.db['dhist'] = compress_dhist(dhist)[-100:]\n"
     ]
    },
    {
     "data": {
      "text/plain": [
       "'/root/CoTFaithChecker'"
      ]
     },
     "execution_count": 1,
     "metadata": {},
     "output_type": "execute_result"
    }
   ],
   "source": [
    "%cd ../..\n",
    "%pwd\n"
   ]
  },
  {
   "cell_type": "code",
   "execution_count": 3,
   "metadata": {},
   "outputs": [
    {
     "name": "stderr",
     "output_type": "stream",
     "text": [
      "/usr/local/lib/python3.10/dist-packages/tqdm/auto.py:21: TqdmWarning: IProgress not found. Please update jupyter and ipywidgets. See https://ipywidgets.readthedocs.io/en/stable/user_install.html\n",
      "  from .autonotebook import tqdm as notebook_tqdm\n"
     ]
    }
   ],
   "source": [
    "import sys, os, json\n",
    "sys.path.append(os.path.abspath(\"src\"))\n",
    "\n",
    "from c_cluster_analysis.logprobs.sentence_level_inference_quick import (\n",
    "    load_model_and_tokenizer, run_batch_from_files\n",
    ")"
   ]
  },
  {
   "cell_type": "code",
   "execution_count": 2,
   "metadata": {},
   "outputs": [
    {
     "ename": "SyntaxError",
     "evalue": "iterable argument unpacking follows keyword argument unpacking (2881370299.py, line 24)",
     "output_type": "error",
     "traceback": [
      "\u001b[0;36m  Cell \u001b[0;32mIn[2], line 24\u001b[0;36m\u001b[0m\n\u001b[0;31m    model,\u001b[0m\n\u001b[0m    ^\u001b[0m\n\u001b[0;31mSyntaxError\u001b[0m\u001b[0;31m:\u001b[0m iterable argument unpacking follows keyword argument unpacking\n"
     ]
    }
   ],
   "source": []
  },
  {
   "cell_type": "code",
   "execution_count": null,
   "metadata": {},
   "outputs": [],
   "source": [
    "\n",
    "# ──────────────────────────────────────────────────────────────────────────────\n",
    "#  0. Imports & configuration\n",
    "# ──────────────────────────────────────────────────────────────────────────────\n",
    "import json, numpy as np, torch, sklearn.linear_model as sklin\n",
    "from pathlib import Path\n",
    "CATEGORY_NAMES = [\n",
    "    \"problem_restating\", \"knowledge_augmentation\", \"assumption_validation\",\n",
    "    \"logical_deduction\", \"option_elimination\",\n",
    "    \"uncertainty_or_certainty_expression\", \"backtracking\", \"forward_planning\",\n",
    "    \"decision_confirmation\", \"answer_reporting\", \"option_restating\", \"other\"\n",
    "]\n",
    "HIDDEN_LAYER = \"layer_32\"\n",
    "\n",
    "# ──────────────────────────────────────────────────────────────────────────────\n",
    "#  1. Load annotation labels\n",
    "# ──────────────────────────────────────────────────────────────────────────────\n",
    "with open(\"annotations.json\", encoding=\"utf-8\") as f:\n",
    "    ann_raw = json.load(f)\n",
    "\n",
    "# build (qid, sid) → category-scores dict\n",
    "ann_map = {}\n",
    "for q in ann_raw:\n",
    "    qid = q[\"question_id\"]\n",
    "    for sent in q[\"annotations\"]:\n",
    "        ann_map[(qid, sent[\"sentence_id\"])] = sent\n",
    "\n",
    "# ──────────────────────────────────────────────────────────────────────────────\n",
    "#  2. Load hidden-state captures\n",
    "# ──────────────────────────────────────────────────────────────────────────────\n",
    "rows, labels = [], []\n",
    "with open(\"sentence_level_hidden.json\", encoding=\"utf-8\") as f:\n",
    "    data = json.load(f)\n",
    "\n",
    "for rec in data:\n",
    "    qid = rec[\"question_id\"]\n",
    "    for sent in rec[\"sentences\"]:\n",
    "        sid   = sent[\"sentence_id\"]\n",
    "        hs    = np.array(sent[\"pooled_hs\"][HIDDEN_LAYER], dtype=np.float32)\n",
    "        ann   = ann_map[(qid, sid)]\n",
    "        cat_idx = int(np.argmax([ann[c] for c in CATEGORY_NAMES]))\n",
    "        rows.append(hs)\n",
    "        labels.append(cat_idx)\n",
    "\n",
    "X = np.vstack(rows)\n",
    "y = np.array(labels)\n",
    "print(\"dataset shape:\", X.shape, \"labels:\", y.shape)\n",
    "\n",
    "# ──────────────────────────────────────────────────────────────────────────────\n",
    "#  3. Train logistic-regression probe\n",
    "# ──────────────────────────────────────────────────────────────────────────────\n",
    "from sklearn.model_selection import train_test_split\n",
    "X_train, X_dev, y_train, y_dev = train_test_split(X, y, test_size=0.1, random_state=42)\n",
    "\n",
    "probe = sklin.LogisticRegression(\n",
    "    max_iter=2000, multi_class=\"ovr\", solver=\"lbfgs\", n_jobs=-1)\n",
    "probe.fit(X_train, y_train)\n",
    "print(\"dev accuracy:\", probe.score(X_dev, y_dev))\n",
    "\n",
    "# keep coefficients – shape: (n_labels, hidden_size)\n",
    "coef = probe.coef_.astype(np.float32)\n",
    "\n",
    "# ──────────────────────────────────────────────────────────────────────────────\n",
    "#  4. Compute source→target steering direction\n",
    "# ──────────────────────────────────────────────────────────────────────────────\n",
    "SOURCE = CATEGORY_NAMES.index(\"backtracking\")\n",
    "TARGET = CATEGORY_NAMES.index(\"logical_deduction\")\n",
    "\n",
    "direction = coef[TARGET] - coef[SOURCE]\n",
    "direction = direction / np.linalg.norm(direction)\n",
    "direction_t = torch.tensor(direction, dtype=torch.float32)\n",
    "\n",
    "# save for later\n",
    "np.save(\"steer_direction.npy\", direction)\n",
    "\n",
    "# ──────────────────────────────────────────────────────────────────────────────\n",
    "#  5. Hook for residual-stream steering\n",
    "# ──────────────────────────────────────────────────────────────────────────────\n",
    "import transformers, types\n",
    "\n",
    "class ResidualSteerHook(torch.nn.Module):\n",
    "    def __init__(self, direction: torch.Tensor, scale: float = 1.0):\n",
    "        super().__init__()\n",
    "        self.register_buffer(\"d\", direction)\n",
    "        self.scale = scale\n",
    "    def forward(self, hidden, *rest, **kw):\n",
    "        # hidden: (batch, seq, hidden_size)\n",
    "        hidden = hidden + self.scale * self.d\n",
    "        return (hidden, *rest)\n",
    "\n",
    "def insert_steer_hook(model, layer_idx: int, direction: torch.Tensor, scale=1.0):\n",
    "    \"\"\"\n",
    "    Adds a forward hook to `model.model.layers[layer_idx]` that nudges the\n",
    "    residual stream towards `direction` by `scale`.\n",
    "    Returns a handle so you can .remove() it later.\n",
    "    \"\"\"\n",
    "    layer = model.model.layers[layer_idx]\n",
    "    return layer.register_forward_hook(\n",
    "        lambda mod, inp, out: ResidualSteerHook(direction, scale)(out[0], *out[1:])\n",
    "    )\n",
    "\n",
    "# ──────────────────────────────────────────────────────────────────────────────\n",
    "#  6. Quick manual test\n",
    "# ──────────────────────────────────────────────────────────────────────────────\n",
    "# from transformers import AutoModelForCausalLM, AutoTokenizer\n",
    "# m, t = AutoModelForCausalLM.from_pretrained(\"TheBloke/Llama-2-7B-chat-hf\",\n",
    "#                                             torch_dtype=torch.float16,\n",
    "#                                             device_map=\"auto\"), \\\n",
    "#        AutoTokenizer.from_pretrained(\"TheBloke/Llama-2-7B-chat-hf\")\n",
    "#\n",
    "# hook_handle = insert_steer_hook(m, layer_idx=31, direction=direction_t, scale=2.0)\n",
    "# out = m.generate(**t(\"Explain gravitational lensing.\", return_tensors=\"pt\" ).to(m.device),\n",
    "#                  max_new_tokens=128)\n",
    "# print(t.decode(out[0], skip_special_tokens=True))\n",
    "# hook_handle.remove()\n"
   ]
  }
 ],
 "metadata": {
  "kernelspec": {
   "display_name": "Python 3",
   "language": "python",
   "name": "python3"
  },
  "language_info": {
   "codemirror_mode": {
    "name": "ipython",
    "version": 3
   },
   "file_extension": ".py",
   "mimetype": "text/x-python",
   "name": "python",
   "nbconvert_exporter": "python",
   "pygments_lexer": "ipython3",
   "version": "3.10.12"
  }
 },
 "nbformat": 4,
 "nbformat_minor": 2
}
