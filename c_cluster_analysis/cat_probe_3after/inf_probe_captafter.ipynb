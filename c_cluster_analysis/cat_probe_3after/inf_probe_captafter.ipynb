{
 "cells": [
  {
   "cell_type": "code",
   "execution_count": null,
   "metadata": {
    "vscode": {
     "languageId": "plaintext"
    }
   },
   "outputs": [],
   "source": [
    "%cd ../..\n",
    "%pwd\n",
    "import sys, os, json\n",
    "sys.path.append(os.path.abspath(\"src\"))\n",
    "\n",
    "from c_cluster_analysis.cat_probe_3after.probe_captafter import (\n",
    "    load_model_and_tokenizer, run_probe_batch_from_files\n",
    ")\n",
    "\n",
    "input_int = 5001\n",
    "input_count = str(input_int)\n",
    "verbnonverb = \"unverb\"\n",
    "MODEL = \"deepseek-ai/DeepSeek-R1-Distill-Llama-8B\"\n",
    "model, tok, model_name, _ = load_model_and_tokenizer(MODEL)\n",
    "\n",
    "data_dir = \"data/mmlu\"\n",
    "output_dir = \"c_cluster_analysis/outputs/hints/mmlu/DeepSeek-R1-Distill-Llama-8B\"\n",
    "cat_probe_dir = output_dir + \"/cat_probe\"\n",
    "\n",
    "questions_file = data_dir + \"/input_mcq_data.json\"\n",
    "hints_file     = data_dir + \"/hints_sycophancy.json\" # can be None!\n",
    "whitelist_file = output_dir + \"/filter/\"+verbnonverb+\"_ids_\"+input_count+\"_sycophancy.json\""
   ]
  },
  {
   "cell_type": "code",
   "execution_count": null,
   "metadata": {
    "vscode": {
     "languageId": "plaintext"
    }
   },
   "outputs": [],
   "source": [
    "hins_file = None\n",
    "hint_type = \"none\"\n",
    "run_probe_batch_from_files(\n",
    "    model, tok,\n",
    "    questions_file=questions_file,\n",
    "    hints_file=hints_file,\n",
    "    full_cot_file  = data_dir + \"/\" + model_name + \"/\" + hint_type + \"/completions_with_\" + input_count + \".json\",\n",
    "    whitelist_file=whitelist_file,\n",
    "    output_file=cat_probe_dir+\"/\"+hint_type+\"_\"+verbnonverb+\"_\"+input_count+\".json\",\n",
    "    max_questions=input_int\n",
    ")\n",
    "\n",
    "print(\"Done\")"
   ]
  }
 ],
 "metadata": {
  "language_info": {
   "name": "python"
  }
 },
 "nbformat": 4,
 "nbformat_minor": 2
}
