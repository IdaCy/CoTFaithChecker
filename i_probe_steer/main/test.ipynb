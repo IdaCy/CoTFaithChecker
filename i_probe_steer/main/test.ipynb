{
 "cells": [
  {
   "cell_type": "code",
   "execution_count": 1,
   "metadata": {},
   "outputs": [
    {
     "name": "stderr",
     "output_type": "stream",
     "text": [
      "/usr/local/lib/python3.10/dist-packages/IPython/core/magics/osm.py:417: UserWarning: This is now an optional IPython functionality, setting dhist requires you to install the `pickleshare` library.\n",
      "  self.shell.db['dhist'] = compress_dhist(dhist)[-100:]\n"
     ]
    },
    {
     "name": "stdout",
     "output_type": "stream",
     "text": [
      "/root/CoTFaithChecker\n"
     ]
    }
   ],
   "source": [
    "%cd ../..\n",
    "%pwd\n",
    "import json\n",
    "import pathlib\n",
    "from collections import Counter, defaultdict\n",
    "import matplotlib.pyplot as plt\n",
    "import torch\n",
    "import numpy as np\n",
    "from sklearn.linear_model import LogisticRegression\n",
    "from sklearn.model_selection import train_test_split, cross_val_score\n",
    "from sklearn.preprocessing import StandardScaler\n",
    "from sklearn.pipeline import make_pipeline\n",
    "import joblib      # to save the best probe\n",
    "\n",
    "# Point these at *your* directories ------------------------------------------------\n",
    "COMPLETIONS_DIR = pathlib.Path(\"~/CoTFaithChecker/e_confirm_xy_yx/outputs/matched_vals_gt\").expanduser()\n",
    "HIDDEN_DIR      = pathlib.Path(\"~/CoTFaithChecker/h_hidden_space/outputs/f1_hint_xyyx/xyyx_deterministic/gt_lt_completions_1\").expanduser()\n"
   ]
  },
  {
   "cell_type": "code",
   "execution_count": 2,
   "metadata": {},
   "outputs": [
    {
     "name": "stdout",
     "output_type": "stream",
     "text": [
      "Raw counts (nulls skipped): Counter({'a_YES': 688, 'b_YES': 640, 'same_False': 545, 'same_True': 482, 'b_NO': 387, 'a_NO': 376})\n"
     ]
    }
   ],
   "source": [
    "# ─── Collect first-slot answers, skipping nulls ────────────────────────────────\n",
    "tally = Counter()\n",
    "files = COMPLETIONS_DIR.glob(\"*.json\")\n",
    "\n",
    "for fp in files:\n",
    "    with fp.open() as f:\n",
    "        data = json.load(f)\n",
    "        for row in data:\n",
    "            # a_answers ---------------------------------------------------------\n",
    "            a0 = row[\"a_answers\"][0]\n",
    "            if a0 in (\"YES\", \"NO\"):              # ignore None\n",
    "                tally[f\"a_{a0}\"] += 1\n",
    "\n",
    "            # b_answers ---------------------------------------------------------\n",
    "            b0 = row[\"b_answers\"][0]\n",
    "            if b0 in (\"YES\", \"NO\"):\n",
    "                tally[f\"b_{b0}\"] += 1\n",
    "\n",
    "            # same --------------------------------------------------------------\n",
    "            same0 = row[\"same\"][0]\n",
    "            if same0 in (True, False):\n",
    "                tally[f\"same_{same0}\"] += 1\n",
    "\n",
    "print(\"Raw counts (nulls skipped):\", tally)\n"
   ]
  },
  {
   "cell_type": "code",
   "execution_count": 3,
   "metadata": {},
   "outputs": [
    {
     "data": {
      "image/png": "[encoded data removed]",
      "text/plain": [
       "<Figure size 800x500 with 1 Axes>"
      ]
     },
     "metadata": {},
     "output_type": "display_data"
    }
   ],
   "source": [
    "# ─── Build the ordered bar-plot ────────────────────────────────────────────────\n",
    "groups = [(\"a_NO\",  \"a_YES\"),          # left-hand group\n",
    "          (\"b_NO\",  \"b_YES\"),          # middle group\n",
    "          (\"same_False\", \"same_True\")] # right-hand group\n",
    "\n",
    "bar_labels  = sum(groups, ())                      # (\"a_NO\",\"a_YES\", ... )\n",
    "bar_heights = [tally[k] for k in bar_labels]       # 6 heights in order\n",
    "\n",
    "fig, ax = plt.subplots(figsize=(8,5))\n",
    "x = np.arange(len(bar_labels))\n",
    "ax.bar(x, bar_heights)\n",
    "\n",
    "# cosmetics ---------------------------------------------------------------\n",
    "ax.set_xticks(x)\n",
    "ax.set_xticklabels([\"NO\",\"YES\",\"NO\",\"YES\",\"false\",\"true\"])\n",
    "for pos in (1.5, 3.5):           # vertical separators between groups\n",
    "    ax.axvline(pos, color='k', linewidth=1)\n",
    "\n",
    "ax.text(0.5, 0,  \"a_answers\",  ha='center', va='bottom', transform=ax.get_xaxis_transform())\n",
    "ax.text(2.5, 0,  \"b_answers\",  ha='center', va='bottom', transform=ax.get_xaxis_transform())\n",
    "ax.text(4.5, 0,  \"same\",       ha='center', va='bottom', transform=ax.get_xaxis_transform())\n",
    "\n",
    "ax.set_ylabel(\"count\")\n",
    "ax.set_title(\"Aggregated first answers over all files\")\n",
    "plt.tight_layout()\n"
   ]
  },
  {
   "cell_type": "code",
   "execution_count": 4,
   "metadata": {},
   "outputs": [
    {
     "name": "stdout",
     "output_type": "stream",
     "text": [
      "Loaded 1,064 answer entries\n"
     ]
    },
    {
     "name": "stderr",
     "output_type": "stream",
     "text": [
      "/tmp/ipykernel_24944/2437615969.py:42: FutureWarning: You are using `torch.load` with `weights_only=False` (the current default value), which uses the default pickle module implicitly. It is possible to construct malicious pickle data which will execute arbitrary code during unpickling (See https://github.com/pytorch/pytorch/blob/main/SECURITY.md#untrusted-models for more details). In a future release, the default value for `weights_only` will be flipped to `True`. This limits the functions that could be executed during unpickling. Arbitrary objects will no longer be allowed to be loaded via this mode unless they are explicitly allowlisted by the user via `torch.serialization.add_safe_globals`. We recommend you start setting `weights_only=True` for any use case where you don't have full control of the loaded file. Please open an issue on GitHub for any issues related to this experimental feature.\n",
      "  hstates = torch.load(pt, map_location=\"cpu\")[\"hidden_states\"]\n"
     ]
    },
    {
     "ename": "TypeError",
     "evalue": "list indices must be integers or slices, not str",
     "output_type": "error",
     "traceback": [
      "\u001b[0;31m---------------------------------------------------------------------------\u001b[0m",
      "\u001b[0;31mTypeError\u001b[0m                                 Traceback (most recent call last)",
      "Cell \u001b[0;32mIn[4], line 42\u001b[0m\n\u001b[1;32m     39\u001b[0m example_counts[\u001b[38;5;124m\"\u001b[39m\u001b[38;5;124mbehaved\u001b[39m\u001b[38;5;124m\"\u001b[39m      \u001b[38;5;28;01mif\u001b[39;00m label \u001b[38;5;28;01melse\u001b[39;00m \u001b[38;5;124m\"\u001b[39m\u001b[38;5;124malways_same\u001b[39m\u001b[38;5;124m\"\u001b[39m] \u001b[38;5;241m+\u001b[39m\u001b[38;5;241m=\u001b[39m \u001b[38;5;241m1\u001b[39m\n\u001b[1;32m     41\u001b[0m \u001b[38;5;66;03m# load activations\u001b[39;00m\n\u001b[0;32m---> 42\u001b[0m hstates \u001b[38;5;241m=\u001b[39m \u001b[43mtorch\u001b[49m\u001b[38;5;241;43m.\u001b[39;49m\u001b[43mload\u001b[49m\u001b[43m(\u001b[49m\u001b[43mpt\u001b[49m\u001b[43m,\u001b[49m\u001b[43m \u001b[49m\u001b[43mmap_location\u001b[49m\u001b[38;5;241;43m=\u001b[39;49m\u001b[38;5;124;43m\"\u001b[39;49m\u001b[38;5;124;43mcpu\u001b[39;49m\u001b[38;5;124;43m\"\u001b[39;49m\u001b[43m)\u001b[49m\u001b[43m[\u001b[49m\u001b[38;5;124;43m\"\u001b[39;49m\u001b[38;5;124;43mhidden_states\u001b[39;49m\u001b[38;5;124;43m\"\u001b[39;49m\u001b[43m]\u001b[49m\n\u001b[1;32m     43\u001b[0m \u001b[38;5;28;01mfor\u001b[39;00m layer_idx, h \u001b[38;5;129;01min\u001b[39;00m \u001b[38;5;28menumerate\u001b[39m(hstates):\n\u001b[1;32m     44\u001b[0m     X_by_layer[layer_idx]\u001b[38;5;241m.\u001b[39mappend(h\u001b[38;5;241m.\u001b[39mmean(\u001b[38;5;241m0\u001b[39m)\u001b[38;5;241m.\u001b[39mnumpy())     \u001b[38;5;66;03m# (dim,)\u001b[39;00m\n",
      "\u001b[0;31mTypeError\u001b[0m: list indices must be integers or slices, not str"
     ]
    }
   ],
   "source": [
    "# ── paths ──────────────────────────────────────────────────────────────────────\n",
    "COMPLETIONS_DIR = pathlib.Path(\n",
    "    \"~/CoTFaithChecker/e_confirm_xy_yx/outputs/matched_vals_gt\"\n",
    ").expanduser()\n",
    "HIDDEN_DIR = pathlib.Path(\n",
    "    \"~/CoTFaithChecker/h_hidden_space/outputs/f1_hint_xyyx/xyyx_deterministic/gt_lt_completions_1\"\n",
    ").expanduser()\n",
    "\n",
    "# ── 1.  Build a lookup:  (dataset_key, question_id) → FIRST answer (\"YES\"/\"NO\") ─\n",
    "answer_lookup = {}\n",
    "for fp in COMPLETIONS_DIR.glob(\"*.json\"):\n",
    "    dataset_key = \"_\".join(fp.stem.split(\"_\")[:2])          # e.g.  wm-book-length_gt\n",
    "    with fp.open() as f:\n",
    "        for obj in json.load(f):\n",
    "            ans = obj[\"a_answers\"][0]\n",
    "            if ans in (\"YES\", \"NO\"):                       # drop nulls\n",
    "                answer_lookup[(dataset_key, obj[\"question_id\"])] = ans\n",
    "\n",
    "print(f\"Loaded {len(answer_lookup):,} answer entries\")\n",
    "\n",
    "# ── 2.  Walk every *.pt, build X & y for every layer ───────────────────────────\n",
    "X_by_layer, y_by_layer = defaultdict(list), defaultdict(list)\n",
    "example_counts = Counter()\n",
    "\n",
    "for pt in HIDDEN_DIR.glob(\"*.pt\"):\n",
    "    parts = pt.stem.split(\"_\")\n",
    "    dataset_key = \"_\".join(parts[:2])      # wm-book-length_gt  OR  wm-book-length_lt\n",
    "    expected    = parts[2]                 # YES / NO\n",
    "    try:\n",
    "        qid = int(parts[3])\n",
    "    except ValueError:\n",
    "        continue                           # unexpected naming → skip\n",
    "\n",
    "    given = answer_lookup.get((dataset_key, qid))\n",
    "    if given not in (\"YES\", \"NO\"):\n",
    "        continue                           # no matching answer → skip\n",
    "\n",
    "    label = int(given == expected)         # 1 = behaved, 0 = mismatch\n",
    "    example_counts[\"behaved\"      if label else \"always_same\"] += 1\n",
    "\n",
    "    # load activations\n",
    "    hstates = torch.load(pt, map_location=\"cpu\")[\"hidden_states\"]\n",
    "    for layer_idx, h in enumerate(hstates):\n",
    "        X_by_layer[layer_idx].append(h.mean(0).numpy())     # (dim,)\n",
    "        y_by_layer[layer_idx].append(label)\n",
    "\n",
    "print(\"Example class counts:\", example_counts)\n",
    "\n",
    "# ── 3.  Sweep layers with a logistic‐regression probe ──────────────────────────\n",
    "scores, best_layer, best_score, best_clf = {}, None, -np.inf, None\n",
    "\n",
    "for layer, Xlist in X_by_layer.items():\n",
    "    y = np.array(y_by_layer[layer])\n",
    "    if len(np.unique(y)) < 2:                 # need both classes\n",
    "        continue\n",
    "\n",
    "    X = np.vstack(Xlist)\n",
    "    clf = make_pipeline(StandardScaler(), LogisticRegression(max_iter=1000, class_weight=\"balanced\"))\n",
    "    acc = cross_val_score(clf, X, y, cv=5, scoring=\"accuracy\").mean()\n",
    "    scores[layer] = acc\n",
    "\n",
    "    if acc > best_score:\n",
    "        best_layer, best_score, best_clf = layer, acc, clf\n",
    "\n",
    "if best_layer is None:\n",
    "    raise RuntimeError(\"No layer had ≥2 classes. Check the directory paths or filenames.\")\n",
    "\n",
    "print(\"\\nLayer  →  5-fold CV accuracy\")\n",
    "for layer, acc in sorted(scores.items()):\n",
    "    print(f\"{layer:>3} : {acc:.3f}\")\n",
    "print(f\"\\nBest = layer {best_layer}  (accuracy {best_score:.3f})\")\n",
    "\n",
    "# ── 4.  Fit on all data from the best layer & save probe ───────────────────────\n",
    "X_all = np.vstack(X_by_layer[best_layer])\n",
    "y_all = np.array(y_by_layer[best_layer])\n",
    "best_clf.fit(X_all, y_all)\n",
    "\n",
    "PROBE_PATH = pathlib.Path(\"linear_probe_best_layer.pt\")\n",
    "joblib.dump({\"layer\": best_layer, \"pipeline\": best_clf}, PROBE_PATH)\n",
    "print(f\"Probe saved ➜  {PROBE_PATH.resolve()}\")\n"
   ]
  },
  {
   "cell_type": "code",
   "execution_count": 7,
   "metadata": {},
   "outputs": [
    {
     "name": "stderr",
     "output_type": "stream",
     "text": [
      "/tmp/ipykernel_24944/2546815273.py:22: FutureWarning: You are using `torch.load` with `weights_only=False` (the current default value), which uses the default pickle module implicitly. It is possible to construct malicious pickle data which will execute arbitrary code during unpickling (See https://github.com/pytorch/pytorch/blob/main/SECURITY.md#untrusted-models for more details). In a future release, the default value for `weights_only` will be flipped to `True`. This limits the functions that could be executed during unpickling. Arbitrary objects will no longer be allowed to be loaded via this mode unless they are explicitly allowlisted by the user via `torch.serialization.add_safe_globals`. We recommend you start setting `weights_only=True` for any use case where you don't have full control of the loaded file. Please open an issue on GitHub for any issues related to this experimental feature.\n",
      "  raw = torch.load(pt, map_location=\"cpu\")\n"
     ]
    },
    {
     "name": "stdout",
     "output_type": "stream",
     "text": [
      "Example class counts: Counter({'behaved': 44, 'always_same': 44})\n"
     ]
    }
   ],
   "source": [
    "# ── 2.  Walk every *.pt activation file and build X, y ─────────────────────────\n",
    "X_by_layer, y_by_layer = defaultdict(list), defaultdict(list)\n",
    "example_counts = Counter()\n",
    "\n",
    "for pt in HIDDEN_DIR.glob(\"*.pt\"):\n",
    "    parts       = pt.stem.split(\"_\")\n",
    "    dataset_key = \"_\".join(parts[:2])          # wm-book-length_gt  /  wm-book-length_lt\n",
    "    expected    = parts[2]                     # YES / NO\n",
    "    try:\n",
    "        qid = int(parts[3])                    # the “…_1_…”\n",
    "    except ValueError:\n",
    "        continue                               # unexpected file name → skip\n",
    "\n",
    "    given = answer_lookup.get((dataset_key, qid))\n",
    "    if given not in (\"YES\", \"NO\"):\n",
    "        continue                               # no matching answer → skip\n",
    "\n",
    "    label = int(given == expected)             # 1 = behaved, 0 = always-same\n",
    "    example_counts[\"behaved\" if label else \"always_same\"] += 1\n",
    "\n",
    "    # ── load activations, tolerate both formats ───────────────────────────────\n",
    "    raw = torch.load(pt, map_location=\"cpu\")\n",
    "\n",
    "    if isinstance(raw, dict):                  # expected key names vary across dumps\n",
    "        for k in (\"hidden_states\", \"states\", \"activations\"):\n",
    "            if k in raw:\n",
    "                hstates = raw[k]\n",
    "                break\n",
    "        else:\n",
    "            raise KeyError(f\"No hidden states in {pt.name}\")\n",
    "    elif isinstance(raw, (list, tuple)):\n",
    "        hstates = raw\n",
    "    else:\n",
    "        raise TypeError(f\"Unrecognised activation type in {pt.name}: {type(raw)}\")\n",
    "\n",
    "    # ── convert each layer tensor → 1D feature vector ─────────────────────────\n",
    "    for layer_idx, h in enumerate(hstates):\n",
    "        if h.ndim == 3:                # (batch, seq, dim)  – average over batch & seq\n",
    "            feat = h.mean(dim=(0, 1)).numpy()\n",
    "        elif h.ndim == 2:              # (seq, dim)         – average over seq\n",
    "            feat = h.mean(dim=0).numpy()\n",
    "        else:\n",
    "            raise ValueError(f\"Tensor shape {tuple(h.shape)} not handled\")\n",
    "\n",
    "        X_by_layer[layer_idx].append(feat)\n",
    "        y_by_layer[layer_idx].append(label)\n",
    "\n",
    "print(\"Example class counts:\", example_counts)\n"
   ]
  },
  {
   "cell_type": "code",
   "execution_count": 9,
   "metadata": {},
   "outputs": [
    {
     "ename": "ValueError",
     "evalue": "need at least one array to concatenate",
     "output_type": "error",
     "traceback": [
      "\u001b[0;31m---------------------------------------------------------------------------\u001b[0m",
      "\u001b[0;31mValueError\u001b[0m                                Traceback (most recent call last)",
      "Cell \u001b[0;32mIn[9], line 2\u001b[0m\n\u001b[1;32m      1\u001b[0m \u001b[38;5;66;03m# ─── Retrain on *all* data from that layer & save the probe to disk ────────────\u001b[39;00m\n\u001b[0;32m----> 2\u001b[0m X_best \u001b[38;5;241m=\u001b[39m \u001b[43mnp\u001b[49m\u001b[38;5;241;43m.\u001b[39;49m\u001b[43mvstack\u001b[49m\u001b[43m(\u001b[49m\u001b[43mX_by_layer\u001b[49m\u001b[43m[\u001b[49m\u001b[43mbest_layer\u001b[49m\u001b[43m]\u001b[49m\u001b[43m)\u001b[49m\n\u001b[1;32m      3\u001b[0m y_best \u001b[38;5;241m=\u001b[39m np\u001b[38;5;241m.\u001b[39marray(y_by_layer[best_layer])\n\u001b[1;32m      5\u001b[0m best_clf\u001b[38;5;241m.\u001b[39mfit(X_best, y_best)\n",
      "File \u001b[0;32m/usr/local/lib/python3.10/dist-packages/numpy/core/shape_base.py:289\u001b[0m, in \u001b[0;36mvstack\u001b[0;34m(tup, dtype, casting)\u001b[0m\n\u001b[1;32m    287\u001b[0m \u001b[38;5;28;01mif\u001b[39;00m \u001b[38;5;129;01mnot\u001b[39;00m \u001b[38;5;28misinstance\u001b[39m(arrs, \u001b[38;5;28mlist\u001b[39m):\n\u001b[1;32m    288\u001b[0m     arrs \u001b[38;5;241m=\u001b[39m [arrs]\n\u001b[0;32m--> 289\u001b[0m \u001b[38;5;28;01mreturn\u001b[39;00m \u001b[43m_nx\u001b[49m\u001b[38;5;241;43m.\u001b[39;49m\u001b[43mconcatenate\u001b[49m\u001b[43m(\u001b[49m\u001b[43marrs\u001b[49m\u001b[43m,\u001b[49m\u001b[43m \u001b[49m\u001b[38;5;241;43m0\u001b[39;49m\u001b[43m,\u001b[49m\u001b[43m \u001b[49m\u001b[43mdtype\u001b[49m\u001b[38;5;241;43m=\u001b[39;49m\u001b[43mdtype\u001b[49m\u001b[43m,\u001b[49m\u001b[43m \u001b[49m\u001b[43mcasting\u001b[49m\u001b[38;5;241;43m=\u001b[39;49m\u001b[43mcasting\u001b[49m\u001b[43m)\u001b[49m\n",
      "\u001b[0;31mValueError\u001b[0m: need at least one array to concatenate"
     ]
    }
   ],
   "source": [
    "# ─── Retrain on *all* data from that layer & save the probe to disk ────────────\n",
    "X_best = np.vstack(X_by_layer[best_layer])\n",
    "y_best = np.array(y_by_layer[best_layer])\n",
    "\n",
    "best_clf.fit(X_best, y_best)\n",
    "PROBE_PATH = pathlib.Path(\"linear_probe_best_layer.pt\")\n",
    "joblib.dump(dict(layer=best_layer, sklearn_pipeline=best_clf), PROBE_PATH)\n",
    "\n",
    "print(f\"Saved probe for layer {best_layer} to {PROBE_PATH.resolve()}\")\n"
   ]
  }
 ],
 "metadata": {
  "kernelspec": {
   "display_name": "Python 3",
   "language": "python",
   "name": "python3"
  },
  "language_info": {
   "codemirror_mode": {
    "name": "ipython",
    "version": 3
   },
   "file_extension": ".py",
   "mimetype": "text/x-python",
   "name": "python",
   "nbconvert_exporter": "python",
   "pygments_lexer": "ipython3",
   "version": "3.10.12"
  }
 },
 "nbformat": 4,
 "nbformat_minor": 2
}
