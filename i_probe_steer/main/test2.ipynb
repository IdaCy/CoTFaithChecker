{
 "cells": [
  {
   "cell_type": "code",
   "execution_count": 1,
   "metadata": {},
   "outputs": [
    {
     "name": "stderr",
     "output_type": "stream",
     "text": [
      "/usr/local/lib/python3.10/dist-packages/IPython/core/magics/osm.py:417: UserWarning: This is now an optional IPython functionality, setting dhist requires you to install the `pickleshare` library.\n",
      "  self.shell.db['dhist'] = compress_dhist(dhist)[-100:]\n"
     ]
    },
    {
     "name": "stdout",
     "output_type": "stream",
     "text": [
      "/root/CoTFaithChecker\n"
     ]
    }
   ],
   "source": [
    "%cd ../..\n",
    "%pwd\n",
    "from __future__ import annotations\n",
    "import os, json, glob, re, math, random, itertools\n",
    "from pathlib import Path\n",
    "from collections import Counter, defaultdict\n",
    "\n",
    "import torch\n",
    "import joblib\n",
    "import numpy as np\n",
    "import matplotlib.pyplot as plt\n",
    "from sklearn.linear_model import LogisticRegression\n",
    "from sklearn.metrics import f1_score\n",
    "from sklearn.model_selection import train_test_split\n"
   ]
  },
  {
   "cell_type": "code",
   "execution_count": 2,
   "metadata": {},
   "outputs": [],
   "source": [
    "ANSWERS_DIR      = Path(\"e_confirm_xy_yx/outputs/matched_vals_gt\")\n",
    "ACTIVATIONS_DIR  = Path(\"h_hidden_space/outputs/f1_hint_xyyx/xyyx_deterministic\")\n",
    "PROBE_SAVE_DIR   = Path(\"linear_probes\"); PROBE_SAVE_DIR.mkdir(exist_ok=True)\n",
    "RANDOM_SEED      = 0\n",
    "torch.manual_seed(RANDOM_SEED); random.seed(RANDOM_SEED); np.random.seed(RANDOM_SEED)\n"
   ]
  },
  {
   "cell_type": "code",
   "execution_count": 3,
   "metadata": {},
   "outputs": [
    {
     "data": {
      "image/png": "[encoded data removed]",
      "text/plain": [
       "<Figure size 700x400 with 1 Axes>"
      ]
     },
     "metadata": {},
     "output_type": "display_data"
    }
   ],
   "source": [
    "def iter_answer_files(answer_dir: Path):\n",
    "    for fp in answer_dir.glob(\"*.json\"):\n",
    "        with open(fp) as f:\n",
    "            yield json.load(f), fp.name\n",
    "\n",
    "a_counter, b_counter, same_counter = Counter(), Counter(), Counter()\n",
    "\n",
    "for data, name in iter_answer_files(ANSWERS_DIR):\n",
    "    questions = data[\"questions\"] if isinstance(data, dict) else data\n",
    "\n",
    "    for q in questions:\n",
    "        a_counter[q[\"a_answers\"][0]]   += 1\n",
    "        b_counter[q[\"b_answers\"][0]]   += 1\n",
    "        same_counter[q[\"same\"][0]]     += 1\n",
    "\n",
    "for k in (\"YES\", \"NO\"):        # for a_ / b_\n",
    "    a_counter.setdefault(k, 0)\n",
    "    b_counter.setdefault(k, 0)\n",
    "for k in (True, False):\n",
    "    same_counter.setdefault(k, 0)\n",
    "\n",
    "fig, ax = plt.subplots(figsize=(7, 4))\n",
    "groups   = [\"A-answer\", \"B-answer\", \"Same\"]\n",
    "yes_vals = [a_counter[\"YES\"], b_counter[\"YES\"], same_counter[True]]\n",
    "no_vals  = [a_counter[\"NO\"],  b_counter[\"NO\"],  same_counter[False]]\n",
    "\n",
    "x = np.arange(len(groups))\n",
    "width = 0.35\n",
    "ax.bar(x - width/2, no_vals, width, label=\"NO\")\n",
    "ax.bar(x + width/2, yes_vals, width, label=\"YES / True\")\n",
    "ax.set_xticks(x); ax.set_xticklabels(groups)\n",
    "ax.set_ylabel(\"# answers\")\n",
    "ax.set_title(\"Accumulated answers per category\")\n",
    "ax.legend(); plt.tight_layout()\n"
   ]
  },
  {
   "cell_type": "code",
   "execution_count": 4,
   "metadata": {},
   "outputs": [
    {
     "name": "stderr",
     "output_type": "stream",
     "text": [
      "/usr/local/lib/python3.10/dist-packages/tqdm/auto.py:21: TqdmWarning: IProgress not found. Please update jupyter and ipywidgets. See https://ipywidgets.readthedocs.io/en/stable/user_install.html\n",
      "  from .autonotebook import tqdm as notebook_tqdm\n",
      "You are using the default legacy behaviour of the <class 'transformers.models.llama.tokenization_llama_fast.LlamaTokenizerFast'>. This is expected, and simply means that the `legacy` (previous) behavior will be used so nothing changes for you. If you want to use the new behaviour, set `legacy=False`. This should only be set if you understand what it means, and thoroughly read the reason why this was added as explained in https://github.com/huggingface/transformers/pull/24565 - if you loaded a llama tokenizer from a GGUF file you can ignore this message.\n"
     ]
    },
    {
     "name": "stdout",
     "output_type": "stream",
     "text": [
      "{'YES': 22483, 'NO': 11698}\n"
     ]
    }
   ],
   "source": [
    "TOKENIZER_NAME = \"huggyllama/llama-7b\"\n",
    "from transformers import AutoTokenizer\n",
    "tok = AutoTokenizer.from_pretrained(TOKENIZER_NAME)\n",
    "tok.pad_token = tok.eos_token\n",
    "\n",
    "ANSWER_TOKEN_IDS = {t: tok.encode(t, add_special_tokens=False)[0] for t in (\"YES\", \"NO\")}\n",
    "print(ANSWER_TOKEN_IDS)  # {'YES': 13023, 'NO': 19353}\n"
   ]
  },
  {
   "cell_type": "code",
   "execution_count": 5,
   "metadata": {},
   "outputs": [],
   "source": [
    "import re\n",
    "\n",
    "def parse_expected_from_fname(fname: str) -> str:\n",
    "    m = re.search(r\"_(?:gt|lt)_(YES|NO)_\", fname)\n",
    "    if not m:\n",
    "        raise ValueError(f\"Cannot parse YES/NO from {fname}\")\n",
    "    return m.group(1)\n"
   ]
  },
  {
   "cell_type": "code",
   "execution_count": null,
   "metadata": {},
   "outputs": [
    {
     "name": "stdout",
     "output_type": "stream",
     "text": [
      "Loading model to read out lm_head…\n"
     ]
    },
    {
     "name": "stderr",
     "output_type": "stream",
     "text": [
      "Loading checkpoint shards: 100%|██████████| 2/2 [00:10<00:00,  5.02s/it]\n"
     ]
    },
    {
     "name": "stdout",
     "output_type": "stream",
     "text": [
      "  ↳ done in 26.5s\n",
      "Processing 50 hidden-state files…\n"
     ]
    },
    {
     "name": "stderr",
     "output_type": "stream",
     "text": [
      "hidden.pt:   0%|          | 0/50 [00:00<?, ?it/s]/tmp/ipykernel_32449/3882286004.py:56: FutureWarning: You are using `torch.load` with `weights_only=False` (the current default value), which uses the default pickle module implicitly. It is possible to construct malicious pickle data which will execute arbitrary code during unpickling (See https://github.com/pytorch/pytorch/blob/main/SECURITY.md#untrusted-models for more details). In a future release, the default value for `weights_only` will be flipped to `True`. This limits the functions that could be executed during unpickling. Arbitrary objects will no longer be allowed to be loaded via this mode unless they are explicitly allowlisted by the user via `torch.serialization.add_safe_globals`. We recommend you start setting `weights_only=True` for any use case where you don't have full control of the loaded file. Please open an issue on GitHub for any issues related to this experimental feature.\n",
      "  batch_hidden: list[torch.Tensor] = torch.load(hid_path)    # list[n_layers] of (B,h)\n",
      "hidden.pt: 100%|██████████| 50/50 [00:01<00:00, 48.22it/s]"
     ]
    },
    {
     "name": "stdout",
     "output_type": "stream",
     "text": [
      "Finished collecting activations in 0.0 minutes\n",
      "  layer  0  →  1,264 samples\n",
      "  layer  1  →  1,264 samples\n",
      "  layer  2  →  1,264 samples\n",
      "  layer  3  →  1,264 samples\n",
      "  layer  4  →  1,264 samples\n"
     ]
    },
    {
     "name": "stderr",
     "output_type": "stream",
     "text": [
      "\n"
     ]
    }
   ],
   "source": [
    "import time, itertools, math, re, torch\n",
    "from pathlib import Path\n",
    "from collections import defaultdict\n",
    "from transformers import AutoModelForCausalLM\n",
    "\n",
    "MODEL_PATH  = \"huggyllama/llama-7b\"\n",
    "DEVICE  = torch.device(\"cuda\" if torch.cuda.is_available() else \"cpu\")\n",
    "MAX_FILES  = 50\n",
    "LOG_EVERY = 5\n",
    "\n",
    "print(\"Loading model to read out lm_head…\")\n",
    "t0 = time.time()\n",
    "_base_model = AutoModelForCausalLM.from_pretrained(\n",
    "    MODEL_PATH, torch_dtype=torch.float32, low_cpu_mem_usage=True\n",
    ").to(DEVICE).eval()\n",
    "print(f\"  ↳ done in {time.time()-t0:.1f}s\")\n",
    "\n",
    "W = _base_model.lm_head.weight.detach().cpu()          # (vocab, hdim)\n",
    "b = (_base_model.lm_head.bias.detach().cpu()\n",
    "     if _base_model.lm_head.bias is not None else None)\n",
    "\n",
    "yes_w = W[ANSWER_TOKEN_IDS[\"YES\"]]                     # (hdim,)\n",
    "no_w  = W[ANSWER_TOKEN_IDS[\"NO\"]]\n",
    "yes_b = b[ANSWER_TOKEN_IDS[\"YES\"]] if b is not None else 0.0\n",
    "no_b  = b[ANSWER_TOKEN_IDS[\"NO\"]]  if b is not None else 0.0\n",
    "\n",
    "def yes_no_from_hidden(h: torch.Tensor) -> str:\n",
    "    \"\"\"Return 'YES' or 'NO' by comparing lm-head logits.\"\"\"\n",
    "    yes_score = float(torch.dot(h, yes_w) + yes_b)\n",
    "    no_score  = float(torch.dot(h,  no_w) + no_b)\n",
    "    return \"YES\" if yes_score > no_score else \"NO\"\n",
    "\n",
    "def hidden_files() -> list[Path]:\n",
    "    \"\"\"Return sorted list of *_hidden.pt paths (optionally truncated).\"\"\"\n",
    "    paths = sorted(ACTIVATIONS_DIR.rglob(\"*_hidden.pt\"))\n",
    "    return paths if MAX_FILES is None else paths[:MAX_FILES]\n",
    "\n",
    "layer_buckets: dict[int, list[tuple[torch.Tensor, int]]] = defaultdict(list)\n",
    "\n",
    "all_paths = hidden_files()\n",
    "n_files   = len(all_paths)\n",
    "print(f\"Processing {n_files} hidden-state files…\")\n",
    "\n",
    "use_tqdm = False\n",
    "try:\n",
    "    from tqdm.auto import tqdm\n",
    "    use_tqdm = True\n",
    "except Exception:\n",
    "    pass\n",
    "\n",
    "iterator = tqdm(all_paths, desc=\"hidden.pt\") if use_tqdm else all_paths\n",
    "start = time.time()\n",
    "\n",
    "for idx, hid_path in enumerate(iterator, 1):\n",
    "    expected = parse_expected_from_fname(hid_path.name)    # YES / NO\n",
    "    batch_hidden: list[torch.Tensor] = torch.load(hid_path)    # list[n_layers] of (B,h)\n",
    "\n",
    "    last_layer = batch_hidden[-1]                     # (B, h)\n",
    "    preds = [yes_no_from_hidden(h.float()) for h in last_layer]\n",
    "\n",
    "    for L, layer_tensor in enumerate(batch_hidden):            # layer_tensor : (B, h)\n",
    "        for h_vec, pred in zip(layer_tensor, preds):\n",
    "            label = 1 if pred == expected else 0         # 1 = correct, 0 = wrong\n",
    "            layer_buckets[L].append((h_vec.float(), label))\n",
    "\n",
    "    if not use_tqdm and idx % LOG_EVERY == 0:\n",
    "        print(f\"  processed {idx}/{n_files} files …\")\n",
    "\n",
    "elapsed = time.time() - start\n",
    "print(f\"Finished collecting activations in {elapsed/60:.1f} minutes\")\n",
    "\n",
    "for L in sorted(layer_buckets)[:5]:\n",
    "    print(f\"  layer {L:2d}  →  {len(layer_buckets[L]):,} samples\")"
   ]
  },
  {
   "cell_type": "code",
   "execution_count": 7,
   "metadata": {},
   "outputs": [
    {
     "name": "stdout",
     "output_type": "stream",
     "text": [
      "Best layer =  6 F1 = 0.333\n"
     ]
    },
    {
     "data": {
      "text/plain": [
       "['linear_probes/linear_probe_layer6.joblib']"
      ]
     },
     "execution_count": 7,
     "metadata": {},
     "output_type": "execute_result"
    }
   ],
   "source": [
    "results = {}\n",
    "\n",
    "for L, pairs in layer_buckets.items():\n",
    "    X = torch.stack([p[0] for p in pairs]).numpy()\n",
    "    y = np.array([p[1] for p in pairs])\n",
    "\n",
    "    X_train, X_val, y_train, y_val = train_test_split(\n",
    "        X, y, test_size=0.2, random_state=RANDOM_SEED, stratify=y\n",
    "    )\n",
    "\n",
    "    probe = LogisticRegression(\n",
    "        penalty=\"l2\", solver=\"saga\", max_iter=10_000, n_jobs=-1, verbose=0\n",
    "    ).fit(X_train, y_train)\n",
    "\n",
    "    y_hat = probe.predict(X_val)\n",
    "    f1 = f1_score(y_val, y_hat)\n",
    "    results[L] = (f1, probe)\n",
    "\n",
    "best_layer, (best_f1, best_probe) = max(results.items(), key=lambda kv: kv[1][0])\n",
    "print(f\"Best layer = {best_layer:2d} F1 = {best_f1:.3f}\")\n",
    "joblib.dump(best_probe, PROBE_SAVE_DIR / f\"linear_probe_layer{best_layer}.joblib\")\n"
   ]
  },
  {
   "cell_type": "code",
   "execution_count": 8,
   "metadata": {},
   "outputs": [
    {
     "data": {
      "image/png": "[encoded data removed]",
      "text/plain": [
       "<Figure size 600x300 with 1 Axes>"
      ]
     },
     "metadata": {},
     "output_type": "display_data"
    }
   ],
   "source": [
    "plt.figure(figsize=(6,3))\n",
    "layers   = sorted(results)\n",
    "f1s      = [results[L][0] for L in layers]\n",
    "plt.plot(layers, f1s, marker=\"o\")\n",
    "plt.xlabel(\"Layer #\"); plt.ylabel(\"F1 on validation\"); plt.grid(True)\n",
    "plt.title(\"Which layer encodes answer correctness?\")\n",
    "plt.tight_layout()\n"
   ]
  }
 ],
 "metadata": {
  "kernelspec": {
   "display_name": "Python 3",
   "language": "python",
   "name": "python3"
  },
  "language_info": {
   "codemirror_mode": {
    "name": "ipython",
    "version": 3
   },
   "file_extension": ".py",
   "mimetype": "text/x-python",
   "name": "python",
   "nbconvert_exporter": "python",
   "pygments_lexer": "ipython3",
   "version": "3.10.12"
  }
 },
 "nbformat": 4,
 "nbformat_minor": 2
}
