{
 "cells": [
  {
   "cell_type": "code",
   "execution_count": null,
   "metadata": {},
   "outputs": [
    {
     "name": "stderr",
     "output_type": "stream",
     "text": [
      "/usr/local/lib/python3.10/dist-packages/IPython/core/magics/osm.py:417: UserWarning: This is now an optional IPython functionality, setting dhist requires you to install the `pickleshare` library.\n",
      "  self.shell.db['dhist'] = compress_dhist(dhist)[-100:]\n"
     ]
    },
    {
     "name": "stdout",
     "output_type": "stream",
     "text": [
      "/root/CoTFaithChecker\n"
     ]
    }
   ],
   "source": [
    "%cd ../..\n",
    "%pwd\n",
    "from __future__ import annotations\n",
    "import os, json, glob, re, math, random, itertools\n",
    "from pathlib import Path\n",
    "from collections import Counter, defaultdict\n",
    "\n",
    "import torch\n",
    "import joblib\n",
    "import numpy as np\n",
    "import matplotlib.pyplot as plt\n",
    "from sklearn.linear_model import LogisticRegression\n",
    "from sklearn.metrics import f1_score\n",
    "from sklearn.model_selection import train_test_split\n"
   ]
  },
  {
   "cell_type": "code",
   "execution_count": 2,
   "metadata": {},
   "outputs": [],
   "source": [
    "ANSWERS_DIR      = Path(\"e_confirm_xy_yx/outputs/matched_vals_gt\")       # all *.json files\n",
    "ACTIVATIONS_DIR  = Path(\"h_hidden_space/outputs/f1_hint_xyyx/xyyx_deterministic\")\n",
    "PROBE_SAVE_DIR   = Path(\"linear_probes\"); PROBE_SAVE_DIR.mkdir(exist_ok=True)\n",
    "RANDOM_SEED      = 0\n",
    "torch.manual_seed(RANDOM_SEED); random.seed(RANDOM_SEED); np.random.seed(RANDOM_SEED)\n"
   ]
  },
  {
   "cell_type": "code",
   "execution_count": 3,
   "metadata": {},
   "outputs": [
    {
     "data": {
      "image/png": "[encoded data removed]",
      "text/plain": [
       "<Figure size 700x400 with 1 Axes>"
      ]
     },
     "metadata": {},
     "output_type": "display_data"
    }
   ],
   "source": [
    "def iter_answer_files(answer_dir: Path):\n",
    "    for fp in answer_dir.glob(\"*.json\"):\n",
    "        with open(fp) as f:\n",
    "            yield json.load(f), fp.name\n",
    "\n",
    "a_counter, b_counter, same_counter = Counter(), Counter(), Counter()\n",
    "\n",
    "for data, name in iter_answer_files(ANSWERS_DIR):\n",
    "    # if the file is a dict with key \"questions\", grab that list; otherwise assume it's already a list\n",
    "    questions = data[\"questions\"] if isinstance(data, dict) else data\n",
    "\n",
    "    for q in questions:\n",
    "        a_counter[q[\"a_answers\"][0]]   += 1\n",
    "        b_counter[q[\"b_answers\"][0]]   += 1\n",
    "        same_counter[q[\"same\"][0]]     += 1\n",
    "\n",
    "for k in (\"YES\", \"NO\"):        # for a_ / b_\n",
    "    a_counter.setdefault(k, 0)\n",
    "    b_counter.setdefault(k, 0)\n",
    "for k in (True, False):        # for same_\n",
    "    same_counter.setdefault(k, 0)\n",
    "\n",
    "fig, ax = plt.subplots(figsize=(7, 4))\n",
    "groups   = [\"A-answer\", \"B-answer\", \"Same\"]\n",
    "yes_vals = [a_counter[\"YES\"], b_counter[\"YES\"], same_counter[True]]\n",
    "no_vals  = [a_counter[\"NO\"],  b_counter[\"NO\"],  same_counter[False]]\n",
    "\n",
    "x = np.arange(len(groups))\n",
    "width = 0.35\n",
    "ax.bar(x - width/2, no_vals, width, label=\"NO\")\n",
    "ax.bar(x + width/2, yes_vals, width, label=\"YES / True\")\n",
    "ax.set_xticks(x); ax.set_xticklabels(groups)\n",
    "ax.set_ylabel(\"# answers\")\n",
    "ax.set_title(\"Accumulated answers per category\")\n",
    "ax.legend(); plt.tight_layout()\n"
   ]
  },
  {
   "cell_type": "code",
   "execution_count": 4,
   "metadata": {},
   "outputs": [
    {
     "name": "stderr",
     "output_type": "stream",
     "text": [
      "/usr/local/lib/python3.10/dist-packages/tqdm/auto.py:21: TqdmWarning: IProgress not found. Please update jupyter and ipywidgets. See https://ipywidgets.readthedocs.io/en/stable/user_install.html\n",
      "  from .autonotebook import tqdm as notebook_tqdm\n",
      "You are using the default legacy behaviour of the <class 'transformers.models.llama.tokenization_llama_fast.LlamaTokenizerFast'>. This is expected, and simply means that the `legacy` (previous) behavior will be used so nothing changes for you. If you want to use the new behaviour, set `legacy=False`. This should only be set if you understand what it means, and thoroughly read the reason why this was added as explained in https://github.com/huggingface/transformers/pull/24565 - if you loaded a llama tokenizer from a GGUF file you can ignore this message.\n"
     ]
    },
    {
     "name": "stdout",
     "output_type": "stream",
     "text": [
      "{'YES': 22483, 'NO': 11698}\n"
     ]
    }
   ],
   "source": [
    "TOKENIZER_NAME = \"huggyllama/llama-7b\"\n",
    "from transformers import AutoTokenizer\n",
    "tok = AutoTokenizer.from_pretrained(TOKENIZER_NAME)\n",
    "tok.pad_token = tok.eos_token  # safety\n",
    "\n",
    "ANSWER_TOKEN_IDS = {t: tok.encode(t, add_special_tokens=False)[0] for t in (\"YES\", \"NO\")}\n",
    "print(ANSWER_TOKEN_IDS)  # {'YES': 13023, 'NO': 19353}  (numbers depend on tokenizer)\n"
   ]
  },
  {
   "cell_type": "code",
   "execution_count": null,
   "metadata": {},
   "outputs": [
    {
     "name": "stderr",
     "output_type": "stream",
     "text": [
      "Fetching 2 files: 100%|██████████| 2/2 [01:57<00:00, 58.65s/it] \n",
      "Loading checkpoint shards: 100%|██████████| 2/2 [00:07<00:00,  3.86s/it]\n"
     ]
    },
    {
     "ename": "NameError",
     "evalue": "name 'parse_expected_from_fname' is not defined",
     "output_type": "error",
     "traceback": [
      "\u001b[0;31m---------------------------------------------------------------------------\u001b[0m",
      "\u001b[0;31mNameError\u001b[0m                                 Traceback (most recent call last)",
      "Cell \u001b[0;32mIn[5], line 39\u001b[0m\n\u001b[1;32m     36\u001b[0m layer_buckets: \u001b[38;5;28mdict\u001b[39m[\u001b[38;5;28mint\u001b[39m, \u001b[38;5;28mlist\u001b[39m[\u001b[38;5;28mtuple\u001b[39m[torch\u001b[38;5;241m.\u001b[39mTensor, \u001b[38;5;28mint\u001b[39m]]] \u001b[38;5;241m=\u001b[39m defaultdict(\u001b[38;5;28mlist\u001b[39m)\n\u001b[1;32m     38\u001b[0m \u001b[38;5;28;01mfor\u001b[39;00m hid_path \u001b[38;5;129;01min\u001b[39;00m hidden_files():\n\u001b[0;32m---> 39\u001b[0m     expected \u001b[38;5;241m=\u001b[39m \u001b[43mparse_expected_from_fname\u001b[49m(hid_path\u001b[38;5;241m.\u001b[39mname)          \u001b[38;5;66;03m# \"YES\" / \"NO\"\u001b[39;00m\n\u001b[1;32m     40\u001b[0m     batch_hidden: \u001b[38;5;28mlist\u001b[39m[torch\u001b[38;5;241m.\u001b[39mTensor] \u001b[38;5;241m=\u001b[39m torch\u001b[38;5;241m.\u001b[39mload(hid_path)      \u001b[38;5;66;03m# list[n_layers] of (B,h)\u001b[39;00m\n\u001b[1;32m     42\u001b[0m     last_layer \u001b[38;5;241m=\u001b[39m batch_hidden[\u001b[38;5;241m-\u001b[39m\u001b[38;5;241m1\u001b[39m]                                \u001b[38;5;66;03m# (B, h)\u001b[39;00m\n",
      "\u001b[0;31mNameError\u001b[0m: name 'parse_expected_from_fname' is not defined"
     ]
    }
   ],
   "source": [
    "import itertools, math\n",
    "from pathlib import Path\n",
    "from collections import defaultdict\n",
    "import torch, re\n",
    "from transformers import AutoModelForCausalLM\n",
    "\n",
    "MODEL_PATH = \"huggyllama/llama-7b\"          # <-- edit to your checkpoint\n",
    "device = torch.device(\"cuda\" if torch.cuda.is_available() else \"cpu\")\n",
    "\n",
    "_base_model = AutoModelForCausalLM.from_pretrained(\n",
    "    MODEL_PATH, torch_dtype=torch.float32, low_cpu_mem_usage=True\n",
    ").to(device).eval()\n",
    "\n",
    "W = _base_model.lm_head.weight.detach().cpu()          # (vocab, hdim)\n",
    "b = _base_model.lm_head.bias.detach().cpu() if _base_model.lm_head.bias is not None else None\n",
    "\n",
    "yes_w = W[ANSWER_TOKEN_IDS[\"YES\"]]                     # (hdim,)\n",
    "no_w  = W[ANSWER_TOKEN_IDS[\"NO\"]]\n",
    "yes_b = b[ANSWER_TOKEN_IDS[\"YES\"]] if b is not None else 0.0\n",
    "no_b  = b[ANSWER_TOKEN_IDS[\"NO\"]]  if b is not None else 0.0\n",
    "\n",
    "def yes_no_from_hidden(h: torch.Tensor) -> str:\n",
    "    \"\"\"Return 'YES' or 'NO' by comparing lm-head scores.\"\"\"\n",
    "    yes_score = float(torch.dot(h, yes_w) + yes_b)\n",
    "    no_score  = float(torch.dot(h,  no_w) + no_b)\n",
    "    return \"YES\" if yes_score > no_score else \"NO\"\n",
    "\n",
    "def hidden_files():\n",
    "    return sorted(ACTIVATIONS_DIR.rglob(\"*_hidden.pt\"))\n",
    "\n",
    "layer_buckets: dict[int, list[tuple[torch.Tensor, int]]] = defaultdict(list)\n",
    "\n",
    "for hid_path in hidden_files():\n",
    "    expected = parse_expected_from_fname(hid_path.name)          # \"YES\" / \"NO\"\n",
    "    batch_hidden: list[torch.Tensor] = torch.load(hid_path)      # list[n_layers] of (B,h)\n",
    "\n",
    "    last_layer = batch_hidden[-1]                                # (B, h)\n",
    "    preds = [yes_no_from_hidden(h.float()) for h in last_layer]  # len B list\n",
    "\n",
    "    for L, layer_tensor in enumerate(batch_hidden):              # layer_tensor : (B, h)\n",
    "        for h_vec, pred in zip(layer_tensor, preds):\n",
    "            label = 1 if pred == expected else 0\n",
    "            layer_buckets[L].append((h_vec.float(), label))\n",
    "\n",
    "print(f\"Collected activations:\")\n",
    "for L in sorted(layer_buckets)[:4]:\n",
    "    print(f\"  layer {L:2d}  →  {len(layer_buckets[L])} samples\")\n"
   ]
  }
 ],
 "metadata": {
  "kernelspec": {
   "display_name": "Python 3",
   "language": "python",
   "name": "python3"
  },
  "language_info": {
   "codemirror_mode": {
    "name": "ipython",
    "version": 3
   },
   "file_extension": ".py",
   "mimetype": "text/x-python",
   "name": "python",
   "nbconvert_exporter": "python",
   "pygments_lexer": "ipython3",
   "version": "3.10.12"
  }
 },
 "nbformat": 4,
 "nbformat_minor": 2
}
