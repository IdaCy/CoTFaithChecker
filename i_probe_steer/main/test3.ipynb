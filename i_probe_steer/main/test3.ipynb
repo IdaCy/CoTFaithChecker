{
 "cells": [
  {
   "cell_type": "code",
   "execution_count": 1,
   "metadata": {},
   "outputs": [
    {
     "name": "stderr",
     "output_type": "stream",
     "text": [
      "/usr/local/lib/python3.10/dist-packages/IPython/core/magics/osm.py:417: UserWarning: This is now an optional IPython functionality, setting dhist requires you to install the `pickleshare` library.\n",
      "  self.shell.db['dhist'] = compress_dhist(dhist)[-100:]\n"
     ]
    },
    {
     "name": "stdout",
     "output_type": "stream",
     "text": [
      "/root/CoTFaithChecker\n"
     ]
    }
   ],
   "source": [
    "%cd ../..\n",
    "%pwd\n",
    "from __future__ import annotations\n",
    "import os, json, glob, re, math, random, itertools\n",
    "from pathlib import Path\n",
    "from collections import Counter, defaultdict\n",
    "\n",
    "import torch\n",
    "import joblib\n",
    "import numpy as np\n",
    "import matplotlib.pyplot as plt\n",
    "from sklearn.linear_model import LogisticRegression\n",
    "from sklearn.metrics import f1_score\n",
    "from sklearn.model_selection import train_test_split\n"
   ]
  },
  {
   "cell_type": "code",
   "execution_count": 2,
   "metadata": {},
   "outputs": [],
   "source": [
    "ANSWERS_DIR      = Path(\"e_confirm_xy_yx/outputs/matched_vals_gt\")\n",
    "ACTIVATIONS_DIR  = Path(\"h_hidden_space/outputs/f1_hint_xyyx/xyyx_deterministic\")\n",
    "PROBE_SAVE_DIR   = Path(\"linear_probes\"); PROBE_SAVE_DIR.mkdir(exist_ok=True)\n",
    "RANDOM_SEED      = 0\n",
    "torch.manual_seed(RANDOM_SEED); random.seed(RANDOM_SEED); np.random.seed(RANDOM_SEED)\n"
   ]
  },
  {
   "cell_type": "code",
   "execution_count": 3,
   "metadata": {},
   "outputs": [
    {
     "data": {
      "image/png": "[encoded data removed]",
      "text/plain": [
       "<Figure size 700x400 with 1 Axes>"
      ]
     },
     "metadata": {},
     "output_type": "display_data"
    }
   ],
   "source": [
    "def iter_answer_files(answer_dir: Path):\n",
    "    for fp in answer_dir.glob(\"*.json\"):\n",
    "        with open(fp) as f:\n",
    "            yield json.load(f), fp.name\n",
    "\n",
    "a_counter, b_counter, same_counter = Counter(), Counter(), Counter()\n",
    "\n",
    "for data, name in iter_answer_files(ANSWERS_DIR):\n",
    "    questions = data[\"questions\"] if isinstance(data, dict) else data\n",
    "\n",
    "    for q in questions:\n",
    "        a_counter[q[\"a_answers\"][0]]   += 1\n",
    "        b_counter[q[\"b_answers\"][0]]   += 1\n",
    "        same_counter[q[\"same\"][0]]     += 1\n",
    "\n",
    "for k in (\"YES\", \"NO\"):        # for a_ / b_\n",
    "    a_counter.setdefault(k, 0)\n",
    "    b_counter.setdefault(k, 0)\n",
    "for k in (True, False):\n",
    "    same_counter.setdefault(k, 0)\n",
    "\n",
    "fig, ax = plt.subplots(figsize=(7, 4))\n",
    "groups   = [\"A-answer\", \"B-answer\", \"Same\"]\n",
    "yes_vals = [a_counter[\"YES\"], b_counter[\"YES\"], same_counter[True]]\n",
    "no_vals  = [a_counter[\"NO\"],  b_counter[\"NO\"],  same_counter[False]]\n",
    "\n",
    "x = np.arange(len(groups))\n",
    "width = 0.35\n",
    "ax.bar(x - width/2, no_vals, width, label=\"NO\")\n",
    "ax.bar(x + width/2, yes_vals, width, label=\"YES / True\")\n",
    "ax.set_xticks(x); ax.set_xticklabels(groups)\n",
    "ax.set_ylabel(\"# answers\")\n",
    "ax.set_title(\"Accumulated answers per category\")\n",
    "ax.legend(); plt.tight_layout()\n"
   ]
  },
  {
   "cell_type": "code",
   "execution_count": 4,
   "metadata": {},
   "outputs": [
    {
     "name": "stderr",
     "output_type": "stream",
     "text": [
      "/usr/local/lib/python3.10/dist-packages/tqdm/auto.py:21: TqdmWarning: IProgress not found. Please update jupyter and ipywidgets. See https://ipywidgets.readthedocs.io/en/stable/user_install.html\n",
      "  from .autonotebook import tqdm as notebook_tqdm\n",
      "You are using the default legacy behaviour of the <class 'transformers.models.llama.tokenization_llama_fast.LlamaTokenizerFast'>. This is expected, and simply means that the `legacy` (previous) behavior will be used so nothing changes for you. If you want to use the new behaviour, set `legacy=False`. This should only be set if you understand what it means, and thoroughly read the reason why this was added as explained in https://github.com/huggingface/transformers/pull/24565 - if you loaded a llama tokenizer from a GGUF file you can ignore this message.\n"
     ]
    },
    {
     "name": "stdout",
     "output_type": "stream",
     "text": [
      "{'YES': 22483, 'NO': 11698}\n"
     ]
    }
   ],
   "source": [
    "TOKENIZER_NAME = \"huggyllama/llama-7b\"\n",
    "from transformers import AutoTokenizer\n",
    "tok = AutoTokenizer.from_pretrained(TOKENIZER_NAME)\n",
    "tok.pad_token = tok.eos_token\n",
    "\n",
    "ANSWER_TOKEN_IDS = {t: tok.encode(t, add_special_tokens=False)[0] for t in (\"YES\", \"NO\")}\n",
    "print(ANSWER_TOKEN_IDS)  # {'YES': 13023, 'NO': 19353}\n"
   ]
  },
  {
   "cell_type": "code",
   "execution_count": 5,
   "metadata": {},
   "outputs": [],
   "source": [
    "import re\n",
    "\n",
    "def parse_expected_from_fname(fname: str) -> str:\n",
    "    m = re.search(r\"_(?:gt|lt)_(YES|NO)_\", fname)\n",
    "    if not m:\n",
    "        raise ValueError(f\"Cannot parse YES/NO from {fname}\")\n",
    "    return m.group(1)\n"
   ]
  },
  {
   "cell_type": "code",
   "execution_count": 6,
   "metadata": {},
   "outputs": [
    {
     "name": "stdout",
     "output_type": "stream",
     "text": [
      "Loading model to read out lm_head…\n"
     ]
    },
    {
     "name": "stderr",
     "output_type": "stream",
     "text": [
      "Loading checkpoint shards: 100%|██████████| 2/2 [00:07<00:00,  3.90s/it]\n"
     ]
    },
    {
     "name": "stdout",
     "output_type": "stream",
     "text": [
      "  ↳ done in 13.6s\n",
      "Processing 5 hidden-state files…\n"
     ]
    },
    {
     "name": "stderr",
     "output_type": "stream",
     "text": [
      "hidden.pt:   0%|          | 0/5 [00:00<?, ?it/s]/tmp/ipykernel_37410/1308734137.py:56: FutureWarning: You are using `torch.load` with `weights_only=False` (the current default value), which uses the default pickle module implicitly. It is possible to construct malicious pickle data which will execute arbitrary code during unpickling (See https://github.com/pytorch/pytorch/blob/main/SECURITY.md#untrusted-models for more details). In a future release, the default value for `weights_only` will be flipped to `True`. This limits the functions that could be executed during unpickling. Arbitrary objects will no longer be allowed to be loaded via this mode unless they are explicitly allowlisted by the user via `torch.serialization.add_safe_globals`. We recommend you start setting `weights_only=True` for any use case where you don't have full control of the loaded file. Please open an issue on GitHub for any issues related to this experimental feature.\n",
      "  batch_hidden: list[torch.Tensor] = torch.load(hid_path)    # list[n_layers] of (B,h)\n",
      "hidden.pt: 100%|██████████| 5/5 [00:00<00:00, 61.29it/s]"
     ]
    },
    {
     "name": "stdout",
     "output_type": "stream",
     "text": [
      "Finished collecting activations in 0.0 minutes\n",
      "  layer  0  →  132 samples\n",
      "  layer  1  →  132 samples\n",
      "  layer  2  →  132 samples\n",
      "  layer  3  →  132 samples\n",
      "  layer  4  →  132 samples\n"
     ]
    },
    {
     "name": "stderr",
     "output_type": "stream",
     "text": [
      "\n"
     ]
    }
   ],
   "source": [
    "import time, itertools, math, re, torch\n",
    "from pathlib import Path\n",
    "from collections import defaultdict\n",
    "from transformers import AutoModelForCausalLM\n",
    "\n",
    "MODEL_PATH  = \"huggyllama/llama-7b\"\n",
    "DEVICE  = torch.device(\"cuda\" if torch.cuda.is_available() else \"cpu\")\n",
    "MAX_FILES  = 5\n",
    "LOG_EVERY = 1\n",
    "\n",
    "print(\"Loading model to read out lm_head…\")\n",
    "t0 = time.time()\n",
    "_base_model = AutoModelForCausalLM.from_pretrained(\n",
    "    MODEL_PATH, torch_dtype=torch.float32, low_cpu_mem_usage=True\n",
    ").to(DEVICE).eval()\n",
    "print(f\"  ↳ done in {time.time()-t0:.1f}s\")\n",
    "\n",
    "W = _base_model.lm_head.weight.detach().cpu()          # (vocab, hdim)\n",
    "b = (_base_model.lm_head.bias.detach().cpu()\n",
    "     if _base_model.lm_head.bias is not None else None)\n",
    "\n",
    "yes_w = W[ANSWER_TOKEN_IDS[\"YES\"]]                     # (hdim,)\n",
    "no_w  = W[ANSWER_TOKEN_IDS[\"NO\"]]\n",
    "yes_b = b[ANSWER_TOKEN_IDS[\"YES\"]] if b is not None else 0.0\n",
    "no_b  = b[ANSWER_TOKEN_IDS[\"NO\"]]  if b is not None else 0.0\n",
    "\n",
    "def yes_no_from_hidden(h: torch.Tensor) -> str:\n",
    "    \"\"\"Return 'YES' or 'NO' by comparing lm-head logits.\"\"\"\n",
    "    yes_score = float(torch.dot(h, yes_w) + yes_b)\n",
    "    no_score  = float(torch.dot(h,  no_w) + no_b)\n",
    "    return \"YES\" if yes_score > no_score else \"NO\"\n",
    "\n",
    "def hidden_files() -> list[Path]:\n",
    "    \"\"\"Return sorted list of *_hidden.pt paths (optionally truncated).\"\"\"\n",
    "    paths = sorted(ACTIVATIONS_DIR.rglob(\"*_hidden.pt\"))\n",
    "    return paths if MAX_FILES is None else paths[:MAX_FILES]\n",
    "\n",
    "layer_buckets: dict[int, list[tuple[torch.Tensor, int]]] = defaultdict(list)\n",
    "\n",
    "all_paths = hidden_files()\n",
    "n_files   = len(all_paths)\n",
    "print(f\"Processing {n_files} hidden-state files…\")\n",
    "\n",
    "use_tqdm = False\n",
    "try:\n",
    "    from tqdm.auto import tqdm\n",
    "    use_tqdm = True\n",
    "except Exception:\n",
    "    pass\n",
    "\n",
    "iterator = tqdm(all_paths, desc=\"hidden.pt\") if use_tqdm else all_paths\n",
    "start = time.time()\n",
    "\n",
    "for idx, hid_path in enumerate(iterator, 1):\n",
    "    expected = parse_expected_from_fname(hid_path.name)    # YES / NO\n",
    "    batch_hidden: list[torch.Tensor] = torch.load(hid_path)    # list[n_layers] of (B,h)\n",
    "\n",
    "    last_layer = batch_hidden[-1]                     # (B, h)\n",
    "    preds = [yes_no_from_hidden(h.float()) for h in last_layer]\n",
    "\n",
    "    for L, layer_tensor in enumerate(batch_hidden):            # layer_tensor : (B, h)\n",
    "        for h_vec, pred in zip(layer_tensor, preds):\n",
    "            label = 1 if pred == expected else 0         # 1 = correct, 0 = wrong\n",
    "            layer_buckets[L].append((h_vec.float(), label))\n",
    "\n",
    "    if not use_tqdm and idx % LOG_EVERY == 0:\n",
    "        print(f\"  processed {idx}/{n_files} files …\")\n",
    "\n",
    "elapsed = time.time() - start\n",
    "print(f\"Finished collecting activations in {elapsed/60:.1f} minutes\")\n",
    "\n",
    "for L in sorted(layer_buckets)[:5]:\n",
    "    print(f\"  layer {L:2d}  →  {len(layer_buckets[L]):,} samples\")"
   ]
  },
  {
   "cell_type": "code",
   "execution_count": 7,
   "metadata": {},
   "outputs": [
    {
     "name": "stdout",
     "output_type": "stream",
     "text": [
      "[00000] file=wm-book-length_gt_NO_1_6fda02e3_batch0_hidden.pt  batch_idx=0   expected=NO   emitted=YES  pYES=0.626  pNO=0.374\n",
      "[00001] file=wm-book-length_gt_NO_1_6fda02e3_batch0_hidden.pt  batch_idx=1   expected=NO   emitted=YES  pYES=0.639  pNO=0.361\n",
      "[00002] file=wm-book-length_gt_NO_1_6fda02e3_batch0_hidden.pt  batch_idx=2   expected=NO   emitted=YES  pYES=0.706  pNO=0.294\n",
      "[00003] file=wm-book-length_gt_NO_1_6fda02e3_batch0_hidden.pt  batch_idx=3   expected=NO   emitted=YES  pYES=0.711  pNO=0.289\n",
      "[00004] file=wm-book-length_gt_NO_1_6fda02e3_batch0_hidden.pt  batch_idx=4   expected=NO   emitted=YES  pYES=0.778  pNO=0.222\n",
      "[00005] file=wm-book-length_gt_NO_1_6fda02e3_batch0_hidden.pt  batch_idx=5   expected=NO   emitted=YES  pYES=0.606  pNO=0.394\n",
      "[00006] file=wm-book-length_gt_NO_1_6fda02e3_batch0_hidden.pt  batch_idx=6   expected=NO   emitted=YES  pYES=0.617  pNO=0.383\n",
      "[00007] file=wm-book-length_gt_NO_1_6fda02e3_batch0_hidden.pt  batch_idx=7   expected=NO   emitted=YES  pYES=0.641  pNO=0.359\n",
      "[00008] file=wm-book-length_gt_NO_1_6fda02e3_batch0_hidden.pt  batch_idx=8   expected=NO   emitted=YES  pYES=0.666  pNO=0.334\n",
      "[00009] file=wm-book-length_gt_NO_1_6fda02e3_batch0_hidden.pt  batch_idx=9   expected=NO   emitted=YES  pYES=0.609  pNO=0.391\n",
      "[00010] file=wm-book-length_gt_NO_1_6fda02e3_batch0_hidden.pt  batch_idx=10  expected=NO   emitted=YES  pYES=0.675  pNO=0.325\n",
      "[00011] file=wm-book-length_gt_NO_1_6fda02e3_batch0_hidden.pt  batch_idx=11  expected=NO   emitted=YES  pYES=0.637  pNO=0.363\n",
      "[00012] file=wm-book-length_gt_NO_1_6fda02e3_batch0_hidden.pt  batch_idx=12  expected=NO   emitted=YES  pYES=0.554  pNO=0.446\n",
      "[00013] file=wm-book-length_gt_NO_1_6fda02e3_batch0_hidden.pt  batch_idx=13  expected=NO   emitted=YES  pYES=0.568  pNO=0.432\n",
      "[00014] file=wm-book-length_gt_NO_1_6fda02e3_batch0_hidden.pt  batch_idx=14  expected=NO   emitted=YES  pYES=0.726  pNO=0.274\n",
      "[00015] file=wm-book-length_gt_NO_1_6fda02e3_batch0_hidden.pt  batch_idx=15  expected=NO   emitted=NO   pYES=0.473  pNO=0.527\n",
      "[00016] file=wm-book-length_gt_NO_1_6fda02e3_batch0_hidden.pt  batch_idx=16  expected=NO   emitted=YES  pYES=0.603  pNO=0.397\n",
      "[00017] file=wm-book-length_gt_NO_1_6fda02e3_batch0_hidden.pt  batch_idx=17  expected=NO   emitted=YES  pYES=0.649  pNO=0.351\n",
      "[00018] file=wm-book-length_gt_NO_1_6fda02e3_batch0_hidden.pt  batch_idx=18  expected=NO   emitted=YES  pYES=0.782  pNO=0.218\n",
      "[00019] file=wm-book-length_gt_NO_1_6fda02e3_batch0_hidden.pt  batch_idx=19  expected=NO   emitted=YES  pYES=0.621  pNO=0.379\n",
      "[00020] file=wm-book-length_gt_NO_1_6fda02e3_batch0_hidden.pt  batch_idx=20  expected=NO   emitted=YES  pYES=0.536  pNO=0.464\n",
      "[00021] file=wm-book-length_gt_NO_1_6fda02e3_batch0_hidden.pt  batch_idx=21  expected=NO   emitted=YES  pYES=0.588  pNO=0.412\n",
      "[00022] file=wm-book-length_gt_NO_1_6fda02e3_batch0_hidden.pt  batch_idx=22  expected=NO   emitted=YES  pYES=0.829  pNO=0.171\n",
      "[00023] file=wm-book-length_gt_NO_1_6fda02e3_batch0_hidden.pt  batch_idx=23  expected=NO   emitted=YES  pYES=0.622  pNO=0.378\n",
      "[00024] file=wm-book-length_gt_NO_1_6fda02e3_batch0_hidden.pt  batch_idx=24  expected=NO   emitted=YES  pYES=0.544  pNO=0.456\n",
      "[00025] file=wm-book-length_gt_NO_1_6fda02e3_batch0_hidden.pt  batch_idx=25  expected=NO   emitted=YES  pYES=0.709  pNO=0.291\n",
      "[00026] file=wm-book-length_gt_NO_1_6fda02e3_batch0_hidden.pt  batch_idx=26  expected=NO   emitted=YES  pYES=0.734  pNO=0.266\n",
      "[00027] file=wm-book-length_gt_NO_1_6fda02e3_batch0_hidden.pt  batch_idx=27  expected=NO   emitted=YES  pYES=0.606  pNO=0.394\n",
      "[00028] file=wm-book-length_gt_NO_1_6fda02e3_batch0_hidden.pt  batch_idx=28  expected=NO   emitted=YES  pYES=0.656  pNO=0.344\n",
      "[00029] file=wm-book-length_gt_NO_1_6fda02e3_batch0_hidden.pt  batch_idx=29  expected=NO   emitted=YES  pYES=0.600  pNO=0.400\n",
      "[00030] file=wm-book-length_gt_NO_1_6fda02e3_batch0_hidden.pt  batch_idx=30  expected=NO   emitted=YES  pYES=0.743  pNO=0.257\n",
      "[00031] file=wm-book-length_gt_NO_1_6fda02e3_batch0_hidden.pt  batch_idx=31  expected=NO   emitted=YES  pYES=0.511  pNO=0.489\n",
      "[00032] file=wm-book-length_gt_NO_1_6fda02e3_batch1_hidden.pt  batch_idx=0   expected=NO   emitted=YES  pYES=0.774  pNO=0.226\n",
      "[00033] file=wm-book-length_gt_NO_1_6fda02e3_batch1_hidden.pt  batch_idx=1   expected=NO   emitted=YES  pYES=0.735  pNO=0.265\n",
      "[00034] file=wm-book-length_gt_NO_1_6fda02e3_batch1_hidden.pt  batch_idx=2   expected=NO   emitted=YES  pYES=0.676  pNO=0.324\n",
      "[00035] file=wm-book-length_gt_NO_1_6fda02e3_batch1_hidden.pt  batch_idx=3   expected=NO   emitted=YES  pYES=0.715  pNO=0.285\n",
      "[00036] file=wm-book-length_gt_NO_1_6fda02e3_batch1_hidden.pt  batch_idx=4   expected=NO   emitted=YES  pYES=0.591  pNO=0.409\n",
      "[00037] file=wm-book-length_gt_NO_1_6fda02e3_batch1_hidden.pt  batch_idx=5   expected=NO   emitted=YES  pYES=0.717  pNO=0.283\n",
      "[00038] file=wm-book-length_gt_NO_1_6fda02e3_batch1_hidden.pt  batch_idx=6   expected=NO   emitted=YES  pYES=0.538  pNO=0.462\n",
      "[00039] file=wm-book-length_gt_NO_1_6fda02e3_batch1_hidden.pt  batch_idx=7   expected=NO   emitted=YES  pYES=0.821  pNO=0.179\n",
      "[00040] file=wm-book-length_gt_NO_1_6fda02e3_batch1_hidden.pt  batch_idx=8   expected=NO   emitted=YES  pYES=0.712  pNO=0.288\n",
      "[00041] file=wm-book-length_gt_NO_1_6fda02e3_batch1_hidden.pt  batch_idx=9   expected=NO   emitted=YES  pYES=0.658  pNO=0.342\n",
      "[00042] file=wm-book-length_gt_NO_1_6fda02e3_batch1_hidden.pt  batch_idx=10  expected=NO   emitted=YES  pYES=0.633  pNO=0.367\n",
      "[00043] file=wm-book-length_gt_NO_1_6fda02e3_batch1_hidden.pt  batch_idx=11  expected=NO   emitted=NO   pYES=0.437  pNO=0.563\n",
      "[00044] file=wm-book-length_gt_NO_1_6fda02e3_batch1_hidden.pt  batch_idx=12  expected=NO   emitted=NO   pYES=0.485  pNO=0.515\n",
      "[00045] file=wm-book-length_gt_NO_1_6fda02e3_batch1_hidden.pt  batch_idx=13  expected=NO   emitted=YES  pYES=0.645  pNO=0.355\n",
      "[00046] file=wm-book-length_gt_NO_1_6fda02e3_batch1_hidden.pt  batch_idx=14  expected=NO   emitted=YES  pYES=0.562  pNO=0.438\n",
      "[00047] file=wm-book-length_gt_NO_1_6fda02e3_batch1_hidden.pt  batch_idx=15  expected=NO   emitted=YES  pYES=0.603  pNO=0.397\n",
      "[00048] file=wm-book-length_gt_NO_1_6fda02e3_batch1_hidden.pt  batch_idx=16  expected=NO   emitted=YES  pYES=0.571  pNO=0.429\n",
      "[00049] file=wm-book-length_gt_NO_1_6fda02e3_batch1_hidden.pt  batch_idx=17  expected=NO   emitted=YES  pYES=0.775  pNO=0.225\n",
      "[00050] file=wm-book-length_gt_NO_1_6fda02e3_batch1_hidden.pt  batch_idx=18  expected=NO   emitted=YES  pYES=0.709  pNO=0.291\n",
      "[00051] file=wm-book-length_gt_NO_1_6fda02e3_batch1_hidden.pt  batch_idx=19  expected=NO   emitted=YES  pYES=0.739  pNO=0.261\n",
      "[00052] file=wm-book-length_gt_NO_1_6fda02e3_batch1_hidden.pt  batch_idx=20  expected=NO   emitted=YES  pYES=0.705  pNO=0.295\n",
      "[00053] file=wm-book-length_gt_NO_1_6fda02e3_batch1_hidden.pt  batch_idx=21  expected=NO   emitted=YES  pYES=0.608  pNO=0.392\n",
      "[00054] file=wm-book-length_gt_NO_1_6fda02e3_batch1_hidden.pt  batch_idx=22  expected=NO   emitted=YES  pYES=0.618  pNO=0.382\n",
      "[00055] file=wm-book-length_gt_NO_1_6fda02e3_batch1_hidden.pt  batch_idx=23  expected=NO   emitted=YES  pYES=0.639  pNO=0.361\n",
      "[00056] file=wm-book-length_gt_NO_1_6fda02e3_batch1_hidden.pt  batch_idx=24  expected=NO   emitted=NO   pYES=0.387  pNO=0.613\n",
      "[00057] file=wm-book-length_gt_NO_1_6fda02e3_batch1_hidden.pt  batch_idx=25  expected=NO   emitted=YES  pYES=0.762  pNO=0.238\n",
      "[00058] file=wm-book-length_gt_NO_1_6fda02e3_batch1_hidden.pt  batch_idx=26  expected=NO   emitted=YES  pYES=0.723  pNO=0.277\n",
      "[00059] file=wm-book-length_gt_NO_1_6fda02e3_batch1_hidden.pt  batch_idx=27  expected=NO   emitted=YES  pYES=0.680  pNO=0.320\n",
      "[00060] file=wm-book-length_gt_NO_1_6fda02e3_batch1_hidden.pt  batch_idx=28  expected=NO   emitted=YES  pYES=0.589  pNO=0.411\n",
      "[00061] file=wm-book-length_gt_NO_1_6fda02e3_batch1_hidden.pt  batch_idx=29  expected=NO   emitted=YES  pYES=0.621  pNO=0.379\n",
      "[00062] file=wm-book-length_gt_NO_1_6fda02e3_batch1_hidden.pt  batch_idx=30  expected=NO   emitted=YES  pYES=0.684  pNO=0.316\n",
      "[00063] file=wm-book-length_gt_NO_1_6fda02e3_batch1_hidden.pt  batch_idx=31  expected=NO   emitted=YES  pYES=0.716  pNO=0.284\n",
      "[00064] file=wm-book-length_gt_NO_1_6fda02e3_batch2_hidden.pt  batch_idx=0   expected=NO   emitted=YES  pYES=0.594  pNO=0.406\n",
      "[00065] file=wm-book-length_gt_NO_1_6fda02e3_batch2_hidden.pt  batch_idx=1   expected=NO   emitted=YES  pYES=0.715  pNO=0.285\n",
      "[00066] file=wm-book-length_gt_NO_1_6fda02e3_batch2_hidden.pt  batch_idx=2   expected=NO   emitted=YES  pYES=0.630  pNO=0.370\n",
      "[00067] file=wm-book-length_gt_NO_1_6fda02e3_batch2_hidden.pt  batch_idx=3   expected=NO   emitted=NO   pYES=0.455  pNO=0.545\n",
      "[00068] file=wm-book-length_gt_NO_1_6fda02e3_batch2_hidden.pt  batch_idx=4   expected=NO   emitted=YES  pYES=0.643  pNO=0.357\n",
      "[00069] file=wm-book-length_gt_NO_1_6fda02e3_batch2_hidden.pt  batch_idx=5   expected=NO   emitted=YES  pYES=0.688  pNO=0.312\n",
      "[00070] file=wm-book-length_gt_NO_1_6fda02e3_batch2_hidden.pt  batch_idx=6   expected=NO   emitted=YES  pYES=0.656  pNO=0.344\n",
      "[00071] file=wm-book-length_gt_NO_1_6fda02e3_batch2_hidden.pt  batch_idx=7   expected=NO   emitted=YES  pYES=0.676  pNO=0.324\n",
      "[00072] file=wm-book-length_gt_NO_1_6fda02e3_batch2_hidden.pt  batch_idx=8   expected=NO   emitted=YES  pYES=0.698  pNO=0.302\n",
      "[00073] file=wm-book-length_gt_NO_1_6fda02e3_batch2_hidden.pt  batch_idx=9   expected=NO   emitted=YES  pYES=0.729  pNO=0.271\n",
      "[00074] file=wm-book-length_gt_NO_1_6fda02e3_batch2_hidden.pt  batch_idx=10  expected=NO   emitted=YES  pYES=0.569  pNO=0.431\n",
      "[00075] file=wm-book-length_gt_NO_1_6fda02e3_batch2_hidden.pt  batch_idx=11  expected=NO   emitted=NO   pYES=0.398  pNO=0.602\n",
      "[00076] file=wm-book-length_gt_NO_1_6fda02e3_batch2_hidden.pt  batch_idx=12  expected=NO   emitted=YES  pYES=0.625  pNO=0.375\n",
      "[00077] file=wm-book-length_gt_NO_1_6fda02e3_batch2_hidden.pt  batch_idx=13  expected=NO   emitted=YES  pYES=0.673  pNO=0.327\n",
      "[00078] file=wm-book-length_gt_NO_1_6fda02e3_batch2_hidden.pt  batch_idx=14  expected=NO   emitted=YES  pYES=0.664  pNO=0.336\n",
      "[00079] file=wm-book-length_gt_NO_1_6fda02e3_batch2_hidden.pt  batch_idx=15  expected=NO   emitted=YES  pYES=0.623  pNO=0.377\n",
      "[00080] file=wm-book-length_gt_NO_1_6fda02e3_batch2_hidden.pt  batch_idx=16  expected=NO   emitted=YES  pYES=0.660  pNO=0.340\n",
      "[00081] file=wm-book-length_gt_NO_1_6fda02e3_batch2_hidden.pt  batch_idx=17  expected=NO   emitted=YES  pYES=0.639  pNO=0.361\n",
      "[00082] file=wm-book-length_gt_NO_1_6fda02e3_batch2_hidden.pt  batch_idx=18  expected=NO   emitted=YES  pYES=0.619  pNO=0.381\n",
      "[00083] file=wm-book-length_gt_NO_1_6fda02e3_batch2_hidden.pt  batch_idx=19  expected=NO   emitted=YES  pYES=0.515  pNO=0.485\n",
      "[00084] file=wm-book-length_gt_NO_1_6fda02e3_batch2_hidden.pt  batch_idx=20  expected=NO   emitted=YES  pYES=0.686  pNO=0.314\n",
      "[00085] file=wm-book-length_gt_NO_1_6fda02e3_batch2_hidden.pt  batch_idx=21  expected=NO   emitted=YES  pYES=0.730  pNO=0.270\n",
      "[00086] file=wm-book-length_gt_NO_1_6fda02e3_batch2_hidden.pt  batch_idx=22  expected=NO   emitted=YES  pYES=0.508  pNO=0.492\n",
      "[00087] file=wm-book-length_gt_NO_1_6fda02e3_batch2_hidden.pt  batch_idx=23  expected=NO   emitted=YES  pYES=0.751  pNO=0.249\n",
      "[00088] file=wm-book-length_gt_NO_1_6fda02e3_batch2_hidden.pt  batch_idx=24  expected=NO   emitted=YES  pYES=0.816  pNO=0.184\n",
      "[00089] file=wm-book-length_gt_NO_1_6fda02e3_batch2_hidden.pt  batch_idx=25  expected=NO   emitted=YES  pYES=0.520  pNO=0.480\n",
      "[00090] file=wm-book-length_gt_NO_1_6fda02e3_batch2_hidden.pt  batch_idx=26  expected=NO   emitted=YES  pYES=0.737  pNO=0.263\n",
      "[00091] file=wm-book-length_gt_NO_1_6fda02e3_batch2_hidden.pt  batch_idx=27  expected=NO   emitted=YES  pYES=0.653  pNO=0.347\n",
      "[00092] file=wm-book-length_gt_NO_1_6fda02e3_batch2_hidden.pt  batch_idx=28  expected=NO   emitted=YES  pYES=0.737  pNO=0.263\n",
      "[00093] file=wm-book-length_gt_NO_1_6fda02e3_batch2_hidden.pt  batch_idx=29  expected=NO   emitted=YES  pYES=0.667  pNO=0.333\n",
      "[00094] file=wm-book-length_gt_NO_1_6fda02e3_batch2_hidden.pt  batch_idx=30  expected=NO   emitted=YES  pYES=0.731  pNO=0.269\n",
      "[00095] file=wm-book-length_gt_NO_1_6fda02e3_batch2_hidden.pt  batch_idx=31  expected=NO   emitted=YES  pYES=0.590  pNO=0.410\n",
      "[00096] file=wm-book-length_gt_NO_1_6fda02e3_batch3_hidden.pt  batch_idx=0   expected=NO   emitted=YES  pYES=0.873  pNO=0.127\n",
      "[00097] file=wm-book-length_gt_NO_1_6fda02e3_batch3_hidden.pt  batch_idx=1   expected=NO   emitted=YES  pYES=0.607  pNO=0.393\n",
      "[00098] file=wm-book-length_gt_NO_1_6fda02e3_batch3_hidden.pt  batch_idx=2   expected=NO   emitted=YES  pYES=0.674  pNO=0.326\n",
      "[00099] file=wm-book-length_gt_NO_1_6fda02e3_batch3_hidden.pt  batch_idx=3   expected=NO   emitted=YES  pYES=0.748  pNO=0.252\n",
      "[00100] file=wm-book-length_gt_YES_1_49088327_batch0_hidden.pt  batch_idx=0   expected=YES  emitted=YES  pYES=0.723  pNO=0.277\n",
      "[00101] file=wm-book-length_gt_YES_1_49088327_batch0_hidden.pt  batch_idx=1   expected=YES  emitted=YES  pYES=0.716  pNO=0.284\n",
      "[00102] file=wm-book-length_gt_YES_1_49088327_batch0_hidden.pt  batch_idx=2   expected=YES  emitted=YES  pYES=0.698  pNO=0.302\n",
      "[00103] file=wm-book-length_gt_YES_1_49088327_batch0_hidden.pt  batch_idx=3   expected=YES  emitted=YES  pYES=0.751  pNO=0.249\n",
      "[00104] file=wm-book-length_gt_YES_1_49088327_batch0_hidden.pt  batch_idx=4   expected=YES  emitted=YES  pYES=0.670  pNO=0.330\n",
      "[00105] file=wm-book-length_gt_YES_1_49088327_batch0_hidden.pt  batch_idx=5   expected=YES  emitted=YES  pYES=0.611  pNO=0.389\n",
      "[00106] file=wm-book-length_gt_YES_1_49088327_batch0_hidden.pt  batch_idx=6   expected=YES  emitted=YES  pYES=0.656  pNO=0.344\n",
      "[00107] file=wm-book-length_gt_YES_1_49088327_batch0_hidden.pt  batch_idx=7   expected=YES  emitted=YES  pYES=0.643  pNO=0.357\n",
      "[00108] file=wm-book-length_gt_YES_1_49088327_batch0_hidden.pt  batch_idx=8   expected=YES  emitted=YES  pYES=0.610  pNO=0.390\n",
      "[00109] file=wm-book-length_gt_YES_1_49088327_batch0_hidden.pt  batch_idx=9   expected=YES  emitted=YES  pYES=0.787  pNO=0.213\n",
      "[00110] file=wm-book-length_gt_YES_1_49088327_batch0_hidden.pt  batch_idx=10  expected=YES  emitted=YES  pYES=0.584  pNO=0.416\n",
      "[00111] file=wm-book-length_gt_YES_1_49088327_batch0_hidden.pt  batch_idx=11  expected=YES  emitted=YES  pYES=0.672  pNO=0.328\n",
      "[00112] file=wm-book-length_gt_YES_1_49088327_batch0_hidden.pt  batch_idx=12  expected=YES  emitted=YES  pYES=0.623  pNO=0.377\n",
      "[00113] file=wm-book-length_gt_YES_1_49088327_batch0_hidden.pt  batch_idx=13  expected=YES  emitted=YES  pYES=0.666  pNO=0.334\n",
      "[00114] file=wm-book-length_gt_YES_1_49088327_batch0_hidden.pt  batch_idx=14  expected=YES  emitted=YES  pYES=0.595  pNO=0.405\n",
      "[00115] file=wm-book-length_gt_YES_1_49088327_batch0_hidden.pt  batch_idx=15  expected=YES  emitted=YES  pYES=0.675  pNO=0.325\n",
      "[00116] file=wm-book-length_gt_YES_1_49088327_batch0_hidden.pt  batch_idx=16  expected=YES  emitted=YES  pYES=0.595  pNO=0.405\n",
      "[00117] file=wm-book-length_gt_YES_1_49088327_batch0_hidden.pt  batch_idx=17  expected=YES  emitted=YES  pYES=0.502  pNO=0.498\n",
      "[00118] file=wm-book-length_gt_YES_1_49088327_batch0_hidden.pt  batch_idx=18  expected=YES  emitted=YES  pYES=0.685  pNO=0.315\n",
      "[00119] file=wm-book-length_gt_YES_1_49088327_batch0_hidden.pt  batch_idx=19  expected=YES  emitted=NO   pYES=0.463  pNO=0.537\n",
      "[00120] file=wm-book-length_gt_YES_1_49088327_batch0_hidden.pt  batch_idx=20  expected=YES  emitted=YES  pYES=0.633  pNO=0.367\n",
      "[00121] file=wm-book-length_gt_YES_1_49088327_batch0_hidden.pt  batch_idx=21  expected=YES  emitted=YES  pYES=0.887  pNO=0.113\n",
      "[00122] file=wm-book-length_gt_YES_1_49088327_batch0_hidden.pt  batch_idx=22  expected=YES  emitted=YES  pYES=0.804  pNO=0.196\n",
      "[00123] file=wm-book-length_gt_YES_1_49088327_batch0_hidden.pt  batch_idx=23  expected=YES  emitted=YES  pYES=0.762  pNO=0.238\n",
      "[00124] file=wm-book-length_gt_YES_1_49088327_batch0_hidden.pt  batch_idx=24  expected=YES  emitted=YES  pYES=0.597  pNO=0.403\n",
      "[00125] file=wm-book-length_gt_YES_1_49088327_batch0_hidden.pt  batch_idx=25  expected=YES  emitted=YES  pYES=0.602  pNO=0.398\n",
      "[00126] file=wm-book-length_gt_YES_1_49088327_batch0_hidden.pt  batch_idx=26  expected=YES  emitted=YES  pYES=0.675  pNO=0.325\n",
      "[00127] file=wm-book-length_gt_YES_1_49088327_batch0_hidden.pt  batch_idx=27  expected=YES  emitted=YES  pYES=0.576  pNO=0.424\n",
      "[00128] file=wm-book-length_gt_YES_1_49088327_batch0_hidden.pt  batch_idx=28  expected=YES  emitted=YES  pYES=0.667  pNO=0.333\n",
      "[00129] file=wm-book-length_gt_YES_1_49088327_batch0_hidden.pt  batch_idx=29  expected=YES  emitted=YES  pYES=0.696  pNO=0.304\n",
      "[00130] file=wm-book-length_gt_YES_1_49088327_batch0_hidden.pt  batch_idx=30  expected=YES  emitted=YES  pYES=0.685  pNO=0.315\n",
      "[00131] file=wm-book-length_gt_YES_1_49088327_batch0_hidden.pt  batch_idx=31  expected=YES  emitted=YES  pYES=0.713  pNO=0.287\n"
     ]
    },
    {
     "name": "stderr",
     "output_type": "stream",
     "text": [
      "/tmp/ipykernel_37410/3179735467.py:21: FutureWarning: You are using `torch.load` with `weights_only=False` (the current default value), which uses the default pickle module implicitly. It is possible to construct malicious pickle data which will execute arbitrary code during unpickling (See https://github.com/pytorch/pytorch/blob/main/SECURITY.md#untrusted-models for more details). In a future release, the default value for `weights_only` will be flipped to `True`. This limits the functions that could be executed during unpickling. Arbitrary objects will no longer be allowed to be loaded via this mode unless they are explicitly allowlisted by the user via `torch.serialization.add_safe_globals`. We recommend you start setting `weights_only=True` for any use case where you don't have full control of the loaded file. Please open an issue on GitHub for any issues related to this experimental feature.\n",
      "  batch_hidden: list[torch.Tensor] = torch.load(hid_path)\n"
     ]
    }
   ],
   "source": [
    "PRINT_FIRST_N     = 10    # show the first N samples\n",
    "LOW_CONF_THRESH   = 0.90  # also print any sample whose max-prob < this\n",
    "SHOW_LAYER        = -1    # which layer’s vector to inspect (−1 = last)\n",
    "\n",
    "sample_counter = 0\n",
    "\n",
    "def yes_no_logits(h: torch.Tensor) -> tuple[float, float]:\n",
    "    \"\"\"Return raw logits (YES, NO).\"\"\"\n",
    "    return (float(torch.dot(h, yes_w) + yes_b),\n",
    "            float(torch.dot(h,  no_w) + no_b))\n",
    "\n",
    "def softmax2(a: float, b: float) -> tuple[float, float]:\n",
    "    \"\"\"Stable soft-max for two numbers.\"\"\"\n",
    "    mx = max(a, b)\n",
    "    ea, eb = math.exp(a - mx), math.exp(b - mx)\n",
    "    denom   = ea + eb\n",
    "    return ea / denom, eb / denom            # (p_yes, p_no)\n",
    "\n",
    "for idx, hid_path in enumerate(all_paths, 1):\n",
    "    expected = parse_expected_from_fname(hid_path.name)         # \"YES\"/\"NO\"\n",
    "    batch_hidden: list[torch.Tensor] = torch.load(hid_path)\n",
    "    vecs     = batch_hidden[SHOW_LAYER]                         # (B, H)\n",
    "\n",
    "    for j, h_vec in enumerate(vecs):                            # loop over batch\n",
    "        s_yes, s_no = yes_no_logits(h_vec.float())\n",
    "        p_yes, p_no = softmax2(s_yes, s_no)\n",
    "        conf, emitted = (p_yes, \"YES\") if p_yes > p_no else (p_no, \"NO\")\n",
    "\n",
    "        # decide whether to print this sample\n",
    "        want_print = (sample_counter < PRINT_FIRST_N) or (conf < LOW_CONF_THRESH)\n",
    "        if want_print:\n",
    "            print(f\"[{sample_counter:05d}] file={hid_path.name}  \"\n",
    "                  f\"batch_idx={j:<2}  expected={expected:<3}  emitted={emitted:<3}  \"\n",
    "                  f\"pYES={p_yes:.3f}  pNO={p_no:.3f}\")\n",
    "        sample_counter += 1"
   ]
  },
  {
   "cell_type": "code",
   "execution_count": 8,
   "metadata": {},
   "outputs": [
    {
     "name": "stdout",
     "output_type": "stream",
     "text": [
      "\n",
      "=== Training probes for 33 layers (≤ 1000 samples/layer) ===\n"
     ]
    },
    {
     "name": "stderr",
     "output_type": "stream",
     "text": [
      "Layer:  15%|█▌        | 5/33 [00:08<00:59,  2.14s/it, layer=4, secs=3.2, valF1=0.000]"
     ]
    },
    {
     "name": "stdout",
     "output_type": "stream",
     "text": [
      "  ↳ layer  4 finished  |  val-F1 0.000  |  3.2s\n"
     ]
    },
    {
     "name": "stderr",
     "output_type": "stream",
     "text": [
      "Layer:  30%|███       | 10/33 [00:31<01:27,  3.79s/it, layer=9, secs=0.9, valF1=0.000]"
     ]
    },
    {
     "name": "stdout",
     "output_type": "stream",
     "text": [
      "  ↳ layer  9 finished  |  val-F1 0.000  |  0.9s\n"
     ]
    },
    {
     "name": "stderr",
     "output_type": "stream",
     "text": [
      "Layer:  45%|████▌     | 15/33 [00:43<00:41,  2.31s/it, layer=14, secs=1.6, valF1=0.000]"
     ]
    },
    {
     "name": "stdout",
     "output_type": "stream",
     "text": [
      "  ↳ layer 14 finished  |  val-F1 0.000  |  1.6s\n"
     ]
    },
    {
     "name": "stderr",
     "output_type": "stream",
     "text": [
      "Layer:  61%|██████    | 20/33 [00:58<00:42,  3.28s/it, layer=19, secs=4.4, valF1=0.000]"
     ]
    },
    {
     "name": "stdout",
     "output_type": "stream",
     "text": [
      "  ↳ layer 19 finished  |  val-F1 0.000  |  4.4s\n"
     ]
    },
    {
     "name": "stderr",
     "output_type": "stream",
     "text": [
      "Layer:  76%|███████▌  | 25/33 [01:28<00:47,  5.94s/it, layer=24, secs=7.3, valF1=0.000]"
     ]
    },
    {
     "name": "stdout",
     "output_type": "stream",
     "text": [
      "  ↳ layer 24 finished  |  val-F1 0.000  |  7.3s\n"
     ]
    },
    {
     "name": "stderr",
     "output_type": "stream",
     "text": [
      "Layer:  91%|█████████ | 30/33 [02:15<00:27,  9.24s/it, layer=29, secs=10.7, valF1=0.000]"
     ]
    },
    {
     "name": "stdout",
     "output_type": "stream",
     "text": [
      "  ↳ layer 29 finished  |  val-F1 0.000  |  10.7s\n"
     ]
    },
    {
     "name": "stderr",
     "output_type": "stream",
     "text": [
      "Layer: 100%|██████████| 33/33 [02:55<00:00,  5.33s/it, layer=32, secs=16.4, valF1=0.167]"
     ]
    },
    {
     "name": "stdout",
     "output_type": "stream",
     "text": [
      "Total probe training time: 2.9 min\n",
      "\n",
      "Best layer = 30   (F1 = 0.167)\n",
      "Probe saved → linear_probes/linear_probe_layer30.joblib\n"
     ]
    },
    {
     "name": "stderr",
     "output_type": "stream",
     "text": [
      "\n"
     ]
    }
   ],
   "source": [
    "import time, random, numpy as np, torch\n",
    "from tqdm.auto import tqdm\n",
    "from sklearn.linear_model import LogisticRegression\n",
    "from sklearn.metrics import f1_score\n",
    "from sklearn.model_selection import train_test_split\n",
    "\n",
    "MAX_SAMPLES_PER_LAYER = 1_000          # ← subsample cap (None = all)\n",
    "PRINT_EVERY_LAYERS    = 5              # ← full line every k layers\n",
    "sk_verbose            = 0              # 0 = silent, 1 = spammy\n",
    "\n",
    "results   = {}\n",
    "layer_ids = sorted(layer_buckets)\n",
    "\n",
    "print(f\"\\n=== Training probes for {len(layer_ids)} layers \"\n",
    "      f\"(≤ {MAX_SAMPLES_PER_LAYER or 'all'} samples/layer) ===\")\n",
    "\n",
    "bar = tqdm(layer_ids, desc=\"Layer\", leave=True)\n",
    "t_global = time.time()\n",
    "\n",
    "for i, L in enumerate(bar, 1):\n",
    "    pairs = layer_buckets[L]\n",
    "\n",
    "    # ── optional subsample ────────────────────────────────────────\n",
    "    if MAX_SAMPLES_PER_LAYER is not None and len(pairs) > MAX_SAMPLES_PER_LAYER:\n",
    "        pairs = random.sample(pairs, MAX_SAMPLES_PER_LAYER)\n",
    "\n",
    "    X = torch.stack([p[0] for p in pairs]).numpy()\n",
    "    y = np.array([p[1] for p in pairs])\n",
    "\n",
    "    X_tr, X_val, y_tr, y_val = train_test_split(\n",
    "        X, y, test_size=0.2, random_state=RANDOM_SEED, stratify=y\n",
    "    )\n",
    "\n",
    "    t0 = time.time()\n",
    "    probe = LogisticRegression(\n",
    "        penalty=\"l2\",\n",
    "        solver=\"saga\",\n",
    "        max_iter=10_000,\n",
    "        n_jobs=-1,\n",
    "        verbose=sk_verbose,      # <-- silence scikit-learn\n",
    "    ).fit(X_tr, y_tr)\n",
    "    f1 = f1_score(y_val, probe.predict(X_val))\n",
    "    dt = time.time() - t0\n",
    "\n",
    "    results[L] = (f1, probe)\n",
    "\n",
    "    # update bar text instead of printing a new line\n",
    "    bar.set_postfix(layer=L, valF1=f\"{f1:.3f}\", secs=f\"{dt:.1f}\")\n",
    "\n",
    "    # optional coarse summary every k layers\n",
    "    if i % PRINT_EVERY_LAYERS == 0:\n",
    "        print(f\"  ↳ layer {L:2d} finished  |  val-F1 {f1:.3f}  |  {dt:.1f}s\")\n",
    "\n",
    "bar.close()\n",
    "print(f\"Total probe training time: {(time.time()-t_global)/60:.1f} min\")\n",
    "\n",
    "# ── pick best layer & save probe ─────────────────────────────────\n",
    "best_layer, (best_f1, best_probe) = max(results.items(), key=lambda kv: kv[1][0])\n",
    "print(f\"\\nBest layer = {best_layer}   (F1 = {best_f1:.3f})\")\n",
    "\n",
    "outfile = PROBE_SAVE_DIR / f\"linear_probe_layer{best_layer}.joblib\"\n",
    "joblib.dump(best_probe, outfile)\n",
    "print(f\"Probe saved → {outfile}\")"
   ]
  },
  {
   "cell_type": "code",
   "execution_count": 9,
   "metadata": {},
   "outputs": [
    {
     "data": {
      "image/png": "[encoded data removed]",
      "text/plain": [
       "<Figure size 600x300 with 1 Axes>"
      ]
     },
     "metadata": {},
     "output_type": "display_data"
    }
   ],
   "source": [
    "plt.figure(figsize=(6,3))\n",
    "layers   = sorted(results)\n",
    "f1s      = [results[L][0] for L in layers]\n",
    "plt.plot(layers, f1s, marker=\"o\")\n",
    "plt.xlabel(\"Layer #\"); plt.ylabel(\"F1 on validation\"); plt.grid(True)\n",
    "plt.title(\"Which layer encodes answer correctness?\")\n",
    "plt.tight_layout()"
   ]
  }
 ],
 "metadata": {
  "kernelspec": {
   "display_name": "Python 3",
   "language": "python",
   "name": "python3"
  },
  "language_info": {
   "codemirror_mode": {
    "name": "ipython",
    "version": 3
   },
   "file_extension": ".py",
   "mimetype": "text/x-python",
   "name": "python",
   "nbconvert_exporter": "python",
   "pygments_lexer": "ipython3",
   "version": "3.10.12"
  }
 },
 "nbformat": 4,
 "nbformat_minor": 2
}
