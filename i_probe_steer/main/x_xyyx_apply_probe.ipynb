{
 "cells": [
  {
   "cell_type": "code",
   "execution_count": 1,
   "metadata": {},
   "outputs": [
    {
     "name": "stderr",
     "output_type": "stream",
     "text": [
      "/usr/local/lib/python3.10/dist-packages/IPython/core/magics/osm.py:417: UserWarning: This is now an optional IPython functionality, setting dhist requires you to install the `pickleshare` library.\n",
      "  self.shell.db['dhist'] = compress_dhist(dhist)[-100:]\n"
     ]
    },
    {
     "name": "stdout",
     "output_type": "stream",
     "text": [
      "/root/CoTFaithChecker\n"
     ]
    },
    {
     "name": "stderr",
     "output_type": "stream",
     "text": [
      "/usr/local/lib/python3.10/dist-packages/tqdm/auto.py:21: TqdmWarning: IProgress not found. Please update jupyter and ipywidgets. See https://ipywidgets.readthedocs.io/en/stable/user_install.html\n",
      "  from .autonotebook import tqdm as notebook_tqdm\n",
      "Loading checkpoint shards: 100%|██████████| 2/2 [00:00<00:00, 41.42it/s]\n"
     ]
    },
    {
     "name": "stdout",
     "output_type": "stream",
     "text": [
      "probe ‖w‖ = 5.613587856292725   intercept = 0.07921282947063446\n"
     ]
    }
   ],
   "source": [
    "# Jupyter Cell 1  – imports & basic objects\n",
    "%cd ../..\n",
    "%pwd\n",
    "\n",
    "from pathlib import Path\n",
    "import torch, joblib, numpy as np\n",
    "from transformers import AutoModelForCausalLM, AutoTokenizer\n",
    "from tqdm.auto import tqdm\n",
    "import matplotlib.pyplot as plt\n",
    "\n",
    "MODEL_PATH = \"deepseek-ai/DeepSeek-R1-Distill-Llama-8B\"\n",
    "PROBE_PATH = Path(\"linear_probes/realyesno_NoneQ/linear_probe_layer14.joblib\")\n",
    "\n",
    "device     = \"cuda\" if torch.cuda.is_available() else \"cpu\"\n",
    "tokenizer  = AutoTokenizer.from_pretrained(MODEL_PATH, padding_side=\"left\")\n",
    "if tokenizer.pad_token is None:\n",
    "    tokenizer.pad_token = tokenizer.eos_token\n",
    "\n",
    "model = AutoModelForCausalLM.from_pretrained(\n",
    "    MODEL_PATH, torch_dtype=torch.bfloat16, low_cpu_mem_usage=True\n",
    ").to(device).eval()\n",
    "\n",
    "probe       = joblib.load(PROBE_PATH)\n",
    "w_probe     = torch.from_numpy(probe.coef_[0]).to(device).float()   # **raw weight**\n",
    "intercept   = float(probe.intercept_[0])\n",
    "best_layer  = len(model.model.layers) - 1\n",
    "\n",
    "print(\"probe ‖w‖ =\", w_probe.norm().item(), \"  intercept =\", intercept)\n"
   ]
  },
  {
   "cell_type": "code",
   "execution_count": 2,
   "metadata": {},
   "outputs": [
    {
     "name": "stdout",
     "output_type": "stream",
     "text": [
      "‖w_lm‖ = 0.9835094213485718\n",
      "Hook registered on layer 31\n"
     ]
    }
   ],
   "source": [
    "# ★ NEW Cell 2  -----------------------------------------------------------\n",
    "# 1. YES–NO logit direction from lm_head\n",
    "# replace both occurrences\n",
    "id_yes = tokenizer.encode(\" YES\", add_special_tokens=False)[0]   # leading␠space\n",
    "id_no  = tokenizer.encode(\" NO\",  add_special_tokens=False)[0]\n",
    "\n",
    "W      = model.lm_head.weight.data.to(torch.float32)      # (vocab, H)\n",
    "w_lm   = (W[id_yes] - W[id_no]).to(device)                # YES minus NO\n",
    "w_lm_norm_sq = w_lm.pow(2).sum()\n",
    "\n",
    "print(\"‖w_lm‖ =\", w_lm.norm().item())\n",
    "\n",
    "# 2. hook factory – shift the YES–NO logit gap by β logit-units\n",
    "def make_steer_hook(beta_logit: float):\n",
    "    \"\"\"\n",
    "    Δh = (beta_logit / ‖w_lm‖²) · w_lm   ⇒   logitYES−logitNO += beta_logit\n",
    "    \"\"\"\n",
    "    delta = (beta_logit / w_lm_norm_sq) * w_lm          # (H,)\n",
    "\n",
    "    def _hook(mod, inp, out):\n",
    "        h = out[0] if isinstance(out, tuple) else out   # (B,seq,H)\n",
    "        h[:, -1, :] += delta.to(h.dtype)                # nudge last token\n",
    "        if isinstance(out, tuple):\n",
    "            return (h,) + out[1:]\n",
    "        return h\n",
    "    return _hook\n",
    "\n",
    "# neutral hook\n",
    "handle = model.model.layers[best_layer].register_forward_hook(\n",
    "    make_steer_hook(beta_logit=0.0)\n",
    ")\n",
    "print(f\"Hook registered on layer {best_layer}\")\n"
   ]
  },
  {
   "cell_type": "code",
   "execution_count": 3,
   "metadata": {},
   "outputs": [],
   "source": [
    "# Jupyter Cell 3 – single-step generation helper\n",
    "\n",
    "answer_tokens = {\n",
    "    \"YES\": id_yes,\n",
    "    \"NO\" : id_no,\n",
    "}\n",
    "\n",
    "\n",
    "def model_yes_no(prompts, max_new_tokens=1):\n",
    "    enc = tokenizer(prompts, return_tensors=\"pt\", padding=True).to(device)\n",
    "    with torch.no_grad():\n",
    "        out = model.generate(\n",
    "            **enc,\n",
    "            max_new_tokens=max_new_tokens,\n",
    "            do_sample=False,\n",
    "            return_dict_in_generate=True,\n",
    "        )\n",
    "    first = out.sequences[:, enc.input_ids.size(1)]\n",
    "    return [\"YES\" if t.item() == answer_tokens[\"YES\"] else \"NO\" for t in first]\n"
   ]
  },
  {
   "cell_type": "code",
   "execution_count": 4,
   "metadata": {},
   "outputs": [
    {
     "name": "stdout",
     "output_type": "stream",
     "text": [
      "balanced sample size = 128 | YES: 63 | NO : 65\n"
     ]
    }
   ],
   "source": [
    "# Jupyter Cell 4 — build 64 YES + 64 NO prompts\n",
    "import json, random, itertools\n",
    "from pathlib import Path\n",
    "\n",
    "root = Path(\"data/chainscope/questions_json/linked\")\n",
    "yes_files = list((root/\"gt_YES_1\").glob(\"*.json\"))[:2]\n",
    "no_files  = list((root/\"gt_NO_1\" ).glob(\"*.json\"))[:2]\n",
    "\n",
    "def load_prompts(flist, answer):\n",
    "    out = []\n",
    "    for fp in flist:\n",
    "        with open(fp) as f:\n",
    "            qs = json.load(f)[\"questions\"]\n",
    "        for q in qs:\n",
    "            out.append((q[\"q_str\"], answer))\n",
    "    return out\n",
    "\n",
    "batch = load_prompts(yes_files, \"YES\") + load_prompts(no_files, \"NO\")\n",
    "random.shuffle(batch)\n",
    "prompts, ground_truth = zip(*batch[:128])   # 64 YES + 64 NO\n",
    "print(\"balanced sample size =\", len(prompts),\n",
    "      \"| YES:\", ground_truth.count(\"YES\"),\n",
    "      \"| NO :\", ground_truth.count(\"NO\"))\n"
   ]
  },
  {
   "cell_type": "code",
   "execution_count": 5,
   "metadata": {},
   "outputs": [
    {
     "name": "stderr",
     "output_type": "stream",
     "text": [
      "/usr/local/lib/python3.10/dist-packages/transformers/generation/configuration_utils.py:628: UserWarning: `do_sample` is set to `False`. However, `temperature` is set to `0.6` -- this flag is only used in sample-based generation modes. You should set `do_sample=True` or unset `temperature`.\n",
      "  warnings.warn(\n",
      "/usr/local/lib/python3.10/dist-packages/transformers/generation/configuration_utils.py:633: UserWarning: `do_sample` is set to `False`. However, `top_p` is set to `0.95` -- this flag is only used in sample-based generation modes. You should set `do_sample=True` or unset `top_p`.\n",
      "  warnings.warn(\n",
      "Setting `pad_token_id` to `eos_token_id`:128001 for open-end generation.\n"
     ]
    },
    {
     "name": "stderr",
     "output_type": "stream",
     "text": [
      "Setting `pad_token_id` to `eos_token_id`:128001 for open-end generation.\n"
     ]
    },
    {
     "name": "stdout",
     "output_type": "stream",
     "text": [
      "Δlogit=-2.0  acc=0.508\n",
      "Δlogit=-1.5  acc=0.508\n"
     ]
    },
    {
     "name": "stderr",
     "output_type": "stream",
     "text": [
      "Setting `pad_token_id` to `eos_token_id`:128001 for open-end generation.\n",
      "Setting `pad_token_id` to `eos_token_id`:128001 for open-end generation.\n",
      "Setting `pad_token_id` to `eos_token_id`:128001 for open-end generation.\n"
     ]
    },
    {
     "name": "stdout",
     "output_type": "stream",
     "text": [
      "Δlogit=-1.0  acc=0.508\n",
      "Δlogit=-0.5  acc=0.508\n"
     ]
    },
    {
     "name": "stderr",
     "output_type": "stream",
     "text": [
      "Setting `pad_token_id` to `eos_token_id`:128001 for open-end generation.\n"
     ]
    },
    {
     "name": "stdout",
     "output_type": "stream",
     "text": [
      "Δlogit=+0.0  acc=0.508\n",
      "Δlogit=+0.5  acc=0.508\n"
     ]
    },
    {
     "name": "stderr",
     "output_type": "stream",
     "text": [
      "Setting `pad_token_id` to `eos_token_id`:128001 for open-end generation.\n",
      "Setting `pad_token_id` to `eos_token_id`:128001 for open-end generation.\n",
      "Setting `pad_token_id` to `eos_token_id`:128001 for open-end generation.\n"
     ]
    },
    {
     "name": "stdout",
     "output_type": "stream",
     "text": [
      "Δlogit=+1.0  acc=0.508\n",
      "Δlogit=+1.5  acc=0.508\n",
      "Δlogit=+2.0  acc=0.508\n"
     ]
    },
    {
     "data": {
      "image/png": "[encoded data removed]",
      "text/plain": [
       "<Figure size 640x480 with 1 Axes>"
      ]
     },
     "metadata": {},
     "output_type": "display_data"
    }
   ],
   "source": [
    "def accuracy(preds, refs):\n",
    "    return sum(p == r for p, r in zip(preds, refs)) / len(refs)\n",
    "    \n",
    "\n",
    "alphas = np.linspace(-2, 2,  nine := 9)   # try negative and positive pushes\n",
    "accs   = []\n",
    "\n",
    "for a in alphas:\n",
    "    handle.remove()\n",
    "    handle = model.model.layers[best_layer].register_forward_hook(\n",
    "        make_steer_hook(beta_logit=a)\n",
    "    )\n",
    "    accs.append(accuracy(model_yes_no(prompts), ground_truth))\n",
    "    print(f\"Δlogit={a:+.1f}  acc={accs[-1]:.3f}\")\n",
    "\n",
    "plt.plot(alphas, accs, marker=\"o\"); plt.grid(True)\n",
    "plt.xlabel(\"logit shift α\"); plt.ylabel(\"accuracy\")\n",
    "plt.title(\"Probe-steering with logit-scaled Δh\")\n",
    "plt.show()\n"
   ]
  },
  {
   "cell_type": "code",
   "execution_count": 8,
   "metadata": {},
   "outputs": [
    {
     "name": "stderr",
     "output_type": "stream",
     "text": [
      "Setting `pad_token_id` to `eos_token_id`:128001 for open-end generation.\n",
      "Setting `pad_token_id` to `eos_token_id`:128001 for open-end generation.\n"
     ]
    },
    {
     "name": "stdout",
     "output_type": "stream",
     "text": [
      "['NO']\n",
      "['NO']\n"
     ]
    }
   ],
   "source": [
    "handle.remove()\n",
    "handle = model.model.layers[best_layer].register_forward_hook(\n",
    "    make_steer_hook(beta_logit=+2.0)\n",
    ")\n",
    "print(model_yes_no([\"Is 2+2 equal to 5?\"]))   # expect \" NO\"\n",
    "handle.remove()\n",
    "print(model_yes_no([\"Is 2+2 equal to 5?\"]))   # should be back to baseline\n"
   ]
  },
  {
   "cell_type": "code",
   "execution_count": 6,
   "metadata": {},
   "outputs": [
    {
     "name": "stderr",
     "output_type": "stream",
     "text": [
      "Setting `pad_token_id` to `eos_token_id`:128001 for open-end generation.\n"
     ]
    },
    {
     "name": "stderr",
     "output_type": "stream",
     "text": [
      "Setting `pad_token_id` to `eos_token_id`:128001 for open-end generation.\n"
     ]
    }
   ],
   "source": [
    "# Jupyter Cell 6 – spot-check which questions flip\n",
    "\n",
    "alpha = 2.0\n",
    "handle.remove()\n",
    "handle = model.model.layers[best_layer].register_forward_hook(make_steer_hook(alpha))\n",
    "\n",
    "preds_steer = model_yes_no(prompts)\n",
    "handle.remove()                                         # disable steering\n",
    "preds_base  = model_yes_no(prompts)\n",
    "\n",
    "for i,(pB,pS,gt) in enumerate(zip(preds_base, preds_steer, ground_truth)):\n",
    "    if pB != pS:\n",
    "        print(f\"{i:3d} | GT={gt} | base={pB} -> steer={pS}\")\n",
    "        print(prompts[i].splitlines()[-1][:120], \"…\")\n",
    "        print(\"-\"*60)\n"
   ]
  },
  {
   "cell_type": "code",
   "execution_count": 7,
   "metadata": {},
   "outputs": [
    {
     "name": "stderr",
     "output_type": "stream",
     "text": [
      "/tmp/ipykernel_44898/100140189.py:1: FutureWarning: You are using `torch.load` with `weights_only=False` (the current default value), which uses the default pickle module implicitly. It is possible to construct malicious pickle data which will execute arbitrary code during unpickling (See https://github.com/pytorch/pytorch/blob/main/SECURITY.md#untrusted-models for more details). In a future release, the default value for `weights_only` will be flipped to `True`. This limits the functions that could be executed during unpickling. Arbitrary objects will no longer be allowed to be loaded via this mode unless they are explicitly allowlisted by the user via `torch.serialization.add_safe_globals`. We recommend you start setting `weights_only=True` for any use case where you don't have full control of the loaded file. Please open an issue on GitHub for any issues related to this experimental feature.\n",
      "  hidden = torch.load(\"h_hidden_space/???.pt\")[best_layer]  # (B,H)\n"
     ]
    },
    {
     "ename": "FileNotFoundError",
     "evalue": "[Errno 2] No such file or directory: 'h_hidden_space/???.pt'",
     "output_type": "error",
     "traceback": [
      "\u001b[0;31m---------------------------------------------------------------------------\u001b[0m",
      "\u001b[0;31mFileNotFoundError\u001b[0m                         Traceback (most recent call last)",
      "Cell \u001b[0;32mIn[7], line 1\u001b[0m\n\u001b[0;32m----> 1\u001b[0m hidden \u001b[38;5;241m=\u001b[39m \u001b[43mtorch\u001b[49m\u001b[38;5;241;43m.\u001b[39;49m\u001b[43mload\u001b[49m\u001b[43m(\u001b[49m\u001b[38;5;124;43m\"\u001b[39;49m\u001b[38;5;124;43mh_hidden_space/???.pt\u001b[39;49m\u001b[38;5;124;43m\"\u001b[39;49m\u001b[43m)\u001b[49m[best_layer]  \u001b[38;5;66;03m# (B,H)\u001b[39;00m\n\u001b[1;32m      2\u001b[0m logits \u001b[38;5;241m=\u001b[39m (hidden \u001b[38;5;241m@\u001b[39m probe\u001b[38;5;241m.\u001b[39mcoef_[\u001b[38;5;241m0\u001b[39m] \u001b[38;5;241m+\u001b[39m probe\u001b[38;5;241m.\u001b[39mintercept_[\u001b[38;5;241m0\u001b[39m])\u001b[38;5;241m.\u001b[39mcpu()\u001b[38;5;241m.\u001b[39mnumpy()\n\u001b[1;32m      3\u001b[0m pred   \u001b[38;5;241m=\u001b[39m (logits \u001b[38;5;241m>\u001b[39m \u001b[38;5;241m0\u001b[39m)   \u001b[38;5;66;03m# 1 = “correct”, 0 = “wrong & same”\u001b[39;00m\n",
      "File \u001b[0;32m/usr/local/lib/python3.10/dist-packages/torch/serialization.py:1319\u001b[0m, in \u001b[0;36mload\u001b[0;34m(f, map_location, pickle_module, weights_only, mmap, **pickle_load_args)\u001b[0m\n\u001b[1;32m   1316\u001b[0m \u001b[38;5;28;01mif\u001b[39;00m \u001b[38;5;124m\"\u001b[39m\u001b[38;5;124mencoding\u001b[39m\u001b[38;5;124m\"\u001b[39m \u001b[38;5;129;01mnot\u001b[39;00m \u001b[38;5;129;01min\u001b[39;00m pickle_load_args\u001b[38;5;241m.\u001b[39mkeys():\n\u001b[1;32m   1317\u001b[0m     pickle_load_args[\u001b[38;5;124m\"\u001b[39m\u001b[38;5;124mencoding\u001b[39m\u001b[38;5;124m\"\u001b[39m] \u001b[38;5;241m=\u001b[39m \u001b[38;5;124m\"\u001b[39m\u001b[38;5;124mutf-8\u001b[39m\u001b[38;5;124m\"\u001b[39m\n\u001b[0;32m-> 1319\u001b[0m \u001b[38;5;28;01mwith\u001b[39;00m \u001b[43m_open_file_like\u001b[49m\u001b[43m(\u001b[49m\u001b[43mf\u001b[49m\u001b[43m,\u001b[49m\u001b[43m \u001b[49m\u001b[38;5;124;43m\"\u001b[39;49m\u001b[38;5;124;43mrb\u001b[39;49m\u001b[38;5;124;43m\"\u001b[39;49m\u001b[43m)\u001b[49m \u001b[38;5;28;01mas\u001b[39;00m opened_file:\n\u001b[1;32m   1320\u001b[0m     \u001b[38;5;28;01mif\u001b[39;00m _is_zipfile(opened_file):\n\u001b[1;32m   1321\u001b[0m         \u001b[38;5;66;03m# The zipfile reader is going to advance the current file position.\u001b[39;00m\n\u001b[1;32m   1322\u001b[0m         \u001b[38;5;66;03m# If we want to actually tail call to torch.jit.load, we need to\u001b[39;00m\n\u001b[1;32m   1323\u001b[0m         \u001b[38;5;66;03m# reset back to the original position.\u001b[39;00m\n\u001b[1;32m   1324\u001b[0m         orig_position \u001b[38;5;241m=\u001b[39m opened_file\u001b[38;5;241m.\u001b[39mtell()\n",
      "File \u001b[0;32m/usr/local/lib/python3.10/dist-packages/torch/serialization.py:659\u001b[0m, in \u001b[0;36m_open_file_like\u001b[0;34m(name_or_buffer, mode)\u001b[0m\n\u001b[1;32m    657\u001b[0m \u001b[38;5;28;01mdef\u001b[39;00m\u001b[38;5;250m \u001b[39m\u001b[38;5;21m_open_file_like\u001b[39m(name_or_buffer, mode):\n\u001b[1;32m    658\u001b[0m     \u001b[38;5;28;01mif\u001b[39;00m _is_path(name_or_buffer):\n\u001b[0;32m--> 659\u001b[0m         \u001b[38;5;28;01mreturn\u001b[39;00m \u001b[43m_open_file\u001b[49m\u001b[43m(\u001b[49m\u001b[43mname_or_buffer\u001b[49m\u001b[43m,\u001b[49m\u001b[43m \u001b[49m\u001b[43mmode\u001b[49m\u001b[43m)\u001b[49m\n\u001b[1;32m    660\u001b[0m     \u001b[38;5;28;01melse\u001b[39;00m:\n\u001b[1;32m    661\u001b[0m         \u001b[38;5;28;01mif\u001b[39;00m \u001b[38;5;124m\"\u001b[39m\u001b[38;5;124mw\u001b[39m\u001b[38;5;124m\"\u001b[39m \u001b[38;5;129;01min\u001b[39;00m mode:\n",
      "File \u001b[0;32m/usr/local/lib/python3.10/dist-packages/torch/serialization.py:640\u001b[0m, in \u001b[0;36m_open_file.__init__\u001b[0;34m(self, name, mode)\u001b[0m\n\u001b[1;32m    639\u001b[0m \u001b[38;5;28;01mdef\u001b[39;00m\u001b[38;5;250m \u001b[39m\u001b[38;5;21m__init__\u001b[39m(\u001b[38;5;28mself\u001b[39m, name, mode):\n\u001b[0;32m--> 640\u001b[0m     \u001b[38;5;28msuper\u001b[39m()\u001b[38;5;241m.\u001b[39m\u001b[38;5;21m__init__\u001b[39m(\u001b[38;5;28;43mopen\u001b[39;49m\u001b[43m(\u001b[49m\u001b[43mname\u001b[49m\u001b[43m,\u001b[49m\u001b[43m \u001b[49m\u001b[43mmode\u001b[49m\u001b[43m)\u001b[49m)\n",
      "\u001b[0;31mFileNotFoundError\u001b[0m: [Errno 2] No such file or directory: 'h_hidden_space/???.pt'"
     ]
    }
   ],
   "source": [
    "hidden = torch.load(\"h_hidden_space/???.pt\")[best_layer]  # (B,H)\n",
    "logits = (hidden @ probe.coef_[0] + probe.intercept_[0]).cpu().numpy()\n",
    "pred   = (logits > 0)   # 1 = “correct”, 0 = “wrong & same”\n"
   ]
  }
 ],
 "metadata": {
  "kernelspec": {
   "display_name": "Python 3",
   "language": "python",
   "name": "python3"
  },
  "language_info": {
   "codemirror_mode": {
    "name": "ipython",
    "version": 3
   },
   "file_extension": ".py",
   "mimetype": "text/x-python",
   "name": "python",
   "nbconvert_exporter": "python",
   "pygments_lexer": "ipython3",
   "version": "3.10.12"
  }
 },
 "nbformat": 4,
 "nbformat_minor": 2
}
