{
 "cells": [
  {
   "cell_type": "code",
   "execution_count": 1,
   "metadata": {},
   "outputs": [
    {
     "name": "stdout",
     "output_type": "stream",
     "text": [
      "/root/CoTFaithChecker\n"
     ]
    },
    {
     "name": "stderr",
     "output_type": "stream",
     "text": [
      "/usr/local/lib/python3.10/dist-packages/IPython/core/magics/osm.py:417: UserWarning: This is now an optional IPython functionality, setting dhist requires you to install the `pickleshare` library.\n",
      "  self.shell.db['dhist'] = compress_dhist(dhist)[-100:]\n"
     ]
    },
    {
     "data": {
      "text/plain": [
       "'/root/CoTFaithChecker'"
      ]
     },
     "execution_count": 1,
     "metadata": {},
     "output_type": "execute_result"
    }
   ],
   "source": [
    "%cd ../..\n",
    "%pwd"
   ]
  },
  {
   "cell_type": "code",
   "execution_count": 2,
   "metadata": {},
   "outputs": [
    {
     "name": "stdout",
     "output_type": "stream",
     "text": [
      "h_hidden_space/outputs/f1_hint_xyyx/hints/mmlu/DeepSeek-R1-Distill-Llama-8B/induced_urgency:\n",
      "\u001b[0m\u001b[01;34m500_captures\u001b[0m/\n",
      "\n",
      "h_hidden_space/outputs/f1_hint_xyyx/hints/mmlu/DeepSeek-R1-Distill-Llama-8B/none:\n",
      "\u001b[01;34m500_captures\u001b[0m/\n",
      "\n",
      "h_hidden_space/outputs/f1_hint_xyyx/hints/mmlu/DeepSeek-R1-Distill-Llama-8B/sycophancy:\n",
      "\u001b[01;34m500_captures\u001b[0m/\n",
      "\n",
      "h_hidden_space/outputs/f1_hint_xyyx/hints/mmlu/DeepSeek-R1-Distill-Llama-8B/unethical_information:\n",
      "\u001b[01;34m500_captures\u001b[0m/\n"
     ]
    }
   ],
   "source": [
    "%ls h_hidden_space/outputs/f1_hint_xyyx/hints/mmlu/DeepSeek-R1-Distill-Llama-8B/*"
   ]
  },
  {
   "cell_type": "code",
   "execution_count": 3,
   "metadata": {},
   "outputs": [],
   "source": [
    "import os, pickle, datetime, re\n",
    "from pathlib import Path\n",
    "\n",
    "import torch, numpy as np\n",
    "from tqdm import tqdm\n",
    "from sklearn.linear_model import LogisticRegression\n",
    "from sklearn.model_selection import StratifiedKFold, cross_val_score\n",
    "from sklearn.preprocessing import StandardScaler\n",
    "\n",
    "ROOT = Path(\"i_probe_steer/extractions/hints/mmlu/DeepSeek-R1-Distill-Llama-8B\")\n",
    "ROOT2 = Path(\"h_hidden_space/outputs/f1_hint_xyyx/hints/mmlu/DeepSeek-R1-Distill-Llama-8B/sycophancy\")\n",
    "DIR_NONE        = ROOT / \"none/500_captures\"\n",
    "DIR_unverb  = ROOT2 / \"500_captures\"\n",
    "\n",
    "def list_pt(directory):\n",
    "    return sorted(str(p) for p in directory.glob(\"*.pt\"))\n",
    "\n",
    "files_none  = list_pt(DIR_NONE)\n",
    "files_sync  = list_pt(DIR_unverb)\n",
    "assert files_none and files_sync, \"No .pt files found ! check paths\"\n"
   ]
  },
  {
   "cell_type": "code",
   "execution_count": 4,
   "metadata": {},
   "outputs": [],
   "source": [
    "pointer_re = re.compile(br\"^version https://git-lfs.github.com/spec/\")\n",
    "def safe_torch_load(fname):\n",
    "    with open(fname, \"rb\") as f:\n",
    "        if pointer_re.match(f.read(80)):\n",
    "            print(f\"{Path(fname).name}: Git-LFS pointer, skipping\")\n",
    "            return None\n",
    "    return torch.load(fname, map_location=\"cpu\")\n"
   ]
  },
  {
   "cell_type": "code",
   "execution_count": null,
   "metadata": {},
   "outputs": [
    {
     "name": "stdout",
     "output_type": "stream",
     "text": [
      "Detected 33 layers, hidden size = 4096\n"
     ]
    },
    {
     "name": "stderr",
     "output_type": "stream",
     "text": [
      "/tmp/ipykernel_82406/1195087584.py:7: FutureWarning: You are using `torch.load` with `weights_only=False` (the current default value), which uses the default pickle module implicitly. It is possible to construct malicious pickle data which will execute arbitrary code during unpickling (See https://github.com/pytorch/pytorch/blob/main/SECURITY.md#untrusted-models for more details). In a future release, the default value for `weights_only` will be flipped to `True`. This limits the functions that could be executed during unpickling. Arbitrary objects will no longer be allowed to be loaded via this mode unless they are explicitly allowlisted by the user via `torch.serialization.add_safe_globals`. We recommend you start setting `weights_only=True` for any use case where you don't have full control of the loaded file. Please open an issue on GitHub for any issues related to this experimental feature.\n",
      "  return torch.load(fname, map_location=\"cpu\")\n"
     ]
    }
   ],
   "source": [
    "def dict_to_list(d):\n",
    "    return [d[f\"layer_{i}\"] for i in range(len(d))]\n",
    "def normalise_batch(obj):\n",
    "    if isinstance(obj, dict):\n",
    "        return dict_to_list(obj)\n",
    "    elif isinstance(obj, (list, tuple)):\n",
    "        return list(obj)\n",
    "    raise TypeError(f\"Unexpected batch type: {type(obj)}\")\n",
    "\n",
    "sample = None\n",
    "for fp in files_none + files_sync:\n",
    "    raw = safe_torch_load(fp)\n",
    "    if raw is not None:\n",
    "        sample = normalise_batch(raw)\n",
    "        break\n",
    "\n",
    "assert sample is not None, \"No real .pt blobs present – run `git lfs pull`\"\n",
    "N_LAYERS     = len(sample)\n",
    "HIDDEN_SIZE  = sample[0].shape[-1]\n",
    "print(f\"Detected {N_LAYERS} layers, hidden size = {HIDDEN_SIZE}\")\n",
    "\n"
   ]
  },
  {
   "cell_type": "code",
   "execution_count": 6,
   "metadata": {},
   "outputs": [
    {
     "name": "stderr",
     "output_type": "stream",
     "text": [
      "label=0:   0%|          | 0/16 [00:00<?, ?it/s]/tmp/ipykernel_82406/1195087584.py:7: FutureWarning: You are using `torch.load` with `weights_only=False` (the current default value), which uses the default pickle module implicitly. It is possible to construct malicious pickle data which will execute arbitrary code during unpickling (See https://github.com/pytorch/pytorch/blob/main/SECURITY.md#untrusted-models for more details). In a future release, the default value for `weights_only` will be flipped to `True`. This limits the functions that could be executed during unpickling. Arbitrary objects will no longer be allowed to be loaded via this mode unless they are explicitly allowlisted by the user via `torch.serialization.add_safe_globals`. We recommend you start setting `weights_only=True` for any use case where you don't have full control of the loaded file. Please open an issue on GitHub for any issues related to this experimental feature.\n",
      "  return torch.load(fname, map_location=\"cpu\")\n",
      "label=0: 100%|██████████| 16/16 [00:00<00:00, 85.17it/s]\n",
      "label=1: 100%|██████████| 16/16 [00:00<00:00, 96.93it/s]\n"
     ]
    },
    {
     "name": "stdout",
     "output_type": "stream",
     "text": [
      "Total samples: 990\n"
     ]
    }
   ],
   "source": [
    "layer_blobs = {L: [] for L in range(N_LAYERS)}\n",
    "labels      = []\n",
    "\n",
    "def add_files(file_list, lab):\n",
    "    for fp in tqdm(file_list, desc=f\"label={lab}\"):\n",
    "        raw = safe_torch_load(fp)\n",
    "        if raw is None:\n",
    "            continue\n",
    "        batch = normalise_batch(raw)\n",
    "        B = batch[0].shape[0]\n",
    "        for L, h in enumerate(batch):\n",
    "            layer_blobs[L].append(h.float().numpy())\n",
    "        labels.extend([lab]*B)\n",
    "\n",
    "add_files(files_none,  0)   # 0 = none\n",
    "add_files(files_sync,  1)   # 1 = unverb\n",
    "\n",
    "assert labels, \"No usable data loaded.\"\n",
    "labels = np.asarray(labels, dtype=np.int8)\n",
    "print(\"Total samples:\", len(labels))\n",
    "\n",
    "layer_X = {L: np.concatenate(layer_blobs[L], axis=0) for L in layer_blobs}\n",
    "del layer_blobs\n",
    "\n",
    "scalers = {}\n",
    "for L in range(N_LAYERS):\n",
    "    scaler = StandardScaler()\n",
    "    layer_X[L] = scaler.fit_transform(layer_X[L])\n",
    "    scalers[L] = scaler"
   ]
  },
  {
   "cell_type": "code",
   "execution_count": 7,
   "metadata": {},
   "outputs": [
    {
     "name": "stdout",
     "output_type": "stream",
     "text": [
      "\n",
      "Cross-validation accuracy:\n"
     ]
    },
    {
     "name": "stdout",
     "output_type": "stream",
     "text": [
      "layer  0:  0.665\n",
      "layer  1:  0.977\n",
      "layer  2:  0.981\n",
      "layer  3:  0.992\n",
      "layer  4:  0.993\n",
      "layer  5:  0.993\n",
      "layer  6:  0.994\n",
      "layer  7:  0.996\n",
      "layer  8:  0.999\n",
      "layer  9:  0.999\n",
      "layer 10:  0.999\n",
      "layer 11:  0.999\n",
      "layer 12:  0.999\n",
      "layer 13:  1.000\n",
      "layer 14:  1.000\n",
      "layer 15:  1.000\n",
      "layer 16:  1.000\n",
      "layer 17:  1.000\n",
      "layer 18:  0.999\n",
      "layer 19:  0.999\n",
      "layer 20:  0.998\n",
      "layer 21:  0.998\n",
      "layer 22:  0.998\n",
      "layer 23:  0.998\n",
      "layer 24:  0.998\n",
      "layer 25:  0.999\n",
      "layer 26:  0.998\n",
      "layer 27:  0.998\n",
      "layer 28:  0.998\n",
      "layer 29:  0.997\n",
      "layer 30:  0.997\n",
      "layer 31:  0.998\n",
      "layer 32:  0.997\n",
      "\\First highest layer = 13  (acc = 1.000)\n",
      "\n",
      "Probe saved to i_probe_steer/extractions/hints/mmlu/DeepSeek-R1-Distill-Llama-8B/unverb_probe_layer13.pkl\n"
     ]
    }
   ],
   "source": [
    "\n",
    "cv = StratifiedKFold(n_splits=5, shuffle=True, random_state=0)\n",
    "layer_scores = []\n",
    "\n",
    "print(\"\\nCross-validation accuracy:\")\n",
    "for L in range(N_LAYERS):\n",
    "    clf = LogisticRegression(penalty=\"l2\", C=1.0, max_iter=1000, n_jobs=-1)\n",
    "    acc = cross_val_score(clf, layer_X[L], labels, cv=cv, scoring=\"accuracy\").mean()\n",
    "    print(f\"layer {L:2d}:  {acc:.3f}\")\n",
    "    layer_scores.append(acc)\n",
    "\n",
    "best_layer = int(np.argmax(layer_scores))\n",
    "print(f\"\\First highest layer = {best_layer}  (acc = {layer_scores[best_layer]:.3f})\")\n",
    "\n",
    "# final fit on the best layer, save probe + Δµ\n",
    "X_best  = layer_X[best_layer]\n",
    "clf_best = LogisticRegression(penalty=\"l2\", C=1.0, max_iter=1000, n_jobs=-1).fit(X_best, labels)\n",
    "\n",
    "mu_none = X_best[labels == 0].mean(axis=0)\n",
    "mu_sync = X_best[labels == 1].mean(axis=0)\n",
    "delta_mu = mu_sync - mu_none\n",
    "\n",
    "OUT = ROOT / f\"unverb_probe_layer{best_layer}.pkl\"\n",
    "with open(OUT, \"wb\") as f:\n",
    "    pickle.dump(\n",
    "        dict(\n",
    "            layer       = best_layer,\n",
    "            weights     = clf_best.coef_[0].astype(np.float32),\n",
    "            intercept   = float(clf_best.intercept_[0]),\n",
    "            delta_mu    = delta_mu.astype(np.float32),\n",
    "            hidden_size = HIDDEN_SIZE,\n",
    "            created     = datetime.datetime.now().isoformat(timespec=\"seconds\"),\n",
    "            acc_cv      = float(layer_scores[best_layer]),\n",
    "            note        = \"0 = none, 1 = unverb; StandardScaler applied.\",\n",
    "        ),\n",
    "        f,\n",
    "    )\n",
    "print(f\"\\nProbe saved to {OUT.relative_to(Path('.'))}\")\n"
   ]
  }
 ],
 "metadata": {
  "kernelspec": {
   "display_name": "Python 3",
   "language": "python",
   "name": "python3"
  },
  "language_info": {
   "codemirror_mode": {
    "name": "ipython",
    "version": 3
   },
   "file_extension": ".py",
   "mimetype": "text/x-python",
   "name": "python",
   "nbconvert_exporter": "python",
   "pygments_lexer": "ipython3",
   "version": "3.10.12"
  }
 },
 "nbformat": 4,
 "nbformat_minor": 2
}
