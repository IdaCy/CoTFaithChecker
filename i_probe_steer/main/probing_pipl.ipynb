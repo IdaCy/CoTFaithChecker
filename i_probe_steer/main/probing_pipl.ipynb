{
 "cells": [
  {
   "cell_type": "code",
   "execution_count": 1,
   "metadata": {},
   "outputs": [
    {
     "name": "stderr",
     "output_type": "stream",
     "text": [
      "/usr/local/lib/python3.10/dist-packages/IPython/core/magics/osm.py:417: UserWarning: This is now an optional IPython functionality, setting dhist requires you to install the `pickleshare` library.\n",
      "  self.shell.db['dhist'] = compress_dhist(dhist)[-100:]\n"
     ]
    },
    {
     "name": "stdout",
     "output_type": "stream",
     "text": [
      "/root/CoTFaithChecker\n",
      "filter: keeping 71 hinted examples that do NOT verbalise the hint\n"
     ]
    }
   ],
   "source": [
    "%cd ../..\n",
    "%pwd\n",
    "\n",
    "import os, pickle, datetime, re, json\n",
    "from pathlib import Path\n",
    "\n",
    "import torch, numpy as np\n",
    "from tqdm import tqdm\n",
    "from sklearn.linear_model import LogisticRegression\n",
    "from sklearn.model_selection import StratifiedKFold, cross_val_score\n",
    "from sklearn.preprocessing import StandardScaler\n",
    "\n",
    "ROOT = Path(\"h_hidden_space/outputs/f1_hint_xyyx/hints/mmlu/DeepSeek-R1-Distill-Llama-8B/\")\n",
    "FOLDER_NAME = \"500_captures\"\n",
    "DIR_NONE   = ROOT / \"none\"       / FOLDER_NAME\n",
    "DIR_HINT   = ROOT / \"sycophancy\" / FOLDER_NAME\n",
    "\n",
    "ANALYSIS_JSON = Path(\"data/mmlu/DeepSeek-R1-Distill-Llama-8B/sycophancy/hint_verification_with_1001.json\")\n",
    "with open(ANALYSIS_JSON) as f:\n",
    "    analysis = json.load(f)\n",
    "\n",
    "KEEP_IDS = {row[\"question_id\"] for row in analysis\n",
    "            if row.get(\"verbalizes_hint\") is False}\n",
    "\n",
    "print(f\"filter: keeping {len(KEEP_IDS)} hinted examples that do NOT verbalise the hint\")"
   ]
  },
  {
   "cell_type": "code",
   "execution_count": 2,
   "metadata": {},
   "outputs": [],
   "source": [
    "def list_pt(directory):\n",
    "    return sorted(str(p) for p in directory.glob(\"*.pt\"))\n",
    "\n",
    "files_none = list_pt(DIR_NONE)\n",
    "files_hint = list_pt(DIR_HINT)\n",
    "assert files_none and files_hint, \"No .pt files found ! check paths\"\n",
    "\n",
    "pointer_re = re.compile(br\"^version https://git-lfs.github.com/spec/\")\n",
    "def safe_torch_load(fname):\n",
    "    with open(fname, \"rb\") as f:\n",
    "        if pointer_re.match(f.read(80)):\n",
    "            print(f\"{Path(fname).name}: Git-LFS pointer, skipping\")\n",
    "            return None\n",
    "    return torch.load(fname, map_location=\"cpu\")\n",
    "\n",
    "def dict_to_list(d):\n",
    "    return [d[f\"layer_{i}\"] for i in range(len(d))]\n",
    "def normalise_batch(obj):\n",
    "    if isinstance(obj, dict):\n",
    "        return dict_to_list(obj)\n",
    "    elif isinstance(obj, (list, tuple)):\n",
    "        return list(obj)\n",
    "    raise TypeError(f\"Unexpected batch type: {type(obj)}\")"
   ]
  },
  {
   "cell_type": "code",
   "execution_count": 3,
   "metadata": {},
   "outputs": [
    {
     "name": "stdout",
     "output_type": "stream",
     "text": [
      "Detected 33 layers, hidden size 4096, batch 32\n"
     ]
    },
    {
     "name": "stderr",
     "output_type": "stream",
     "text": [
      "/tmp/ipykernel_35821/1754047967.py:14: FutureWarning: You are using `torch.load` with `weights_only=False` (the current default value), which uses the default pickle module implicitly. It is possible to construct malicious pickle data which will execute arbitrary code during unpickling (See https://github.com/pytorch/pytorch/blob/main/SECURITY.md#untrusted-models for more details). In a future release, the default value for `weights_only` will be flipped to `True`. This limits the functions that could be executed during unpickling. Arbitrary objects will no longer be allowed to be loaded via this mode unless they are explicitly allowlisted by the user via `torch.serialization.add_safe_globals`. We recommend you start setting `weights_only=True` for any use case where you don't have full control of the loaded file. Please open an issue on GitHub for any issues related to this experimental feature.\n",
      "  return torch.load(fname, map_location=\"cpu\")\n"
     ]
    }
   ],
   "source": [
    "sample = None\n",
    "for fp in files_none + files_hint:\n",
    "    raw = safe_torch_load(fp)\n",
    "    if raw is not None:\n",
    "        sample = normalise_batch(raw)\n",
    "        break\n",
    "assert sample is not None, \"No real .pt blobs present – run `git lfs pull`\"\n",
    "\n",
    "N_LAYERS    = len(sample)\n",
    "HIDDEN_SIZE = sample[0].shape[-1]\n",
    "BATCH_SIZE  = sample[0].shape[0]\n",
    "print(f\"Detected {N_LAYERS} layers, hidden size {HIDDEN_SIZE}, batch {BATCH_SIZE}\")\n",
    "\n",
    "BATCH_RE = re.compile(r\"batch_(\\d+)\\.pt$\")\n",
    "\n",
    "def id_from_filename(fname, i_in_batch):\n",
    "    m = BATCH_RE.search(fname)\n",
    "    if not m:\n",
    "        raise ValueError(f\"Cannot parse batch offset from {fname}\")\n",
    "    start = int(m.group(1))\n",
    "    return start + i_in_batch\n",
    "\n",
    "layer_blobs = {L: [] for L in range(N_LAYERS)}\n",
    "labels = []\n"
   ]
  },
  {
   "cell_type": "code",
   "execution_count": 4,
   "metadata": {},
   "outputs": [
    {
     "name": "stderr",
     "output_type": "stream",
     "text": [
      "label=0:   0%|          | 0/16 [00:00<?, ?it/s]/tmp/ipykernel_35821/1754047967.py:14: FutureWarning: You are using `torch.load` with `weights_only=False` (the current default value), which uses the default pickle module implicitly. It is possible to construct malicious pickle data which will execute arbitrary code during unpickling (See https://github.com/pytorch/pytorch/blob/main/SECURITY.md#untrusted-models for more details). In a future release, the default value for `weights_only` will be flipped to `True`. This limits the functions that could be executed during unpickling. Arbitrary objects will no longer be allowed to be loaded via this mode unless they are explicitly allowlisted by the user via `torch.serialization.add_safe_globals`. We recommend you start setting `weights_only=True` for any use case where you don't have full control of the loaded file. Please open an issue on GitHub for any issues related to this experimental feature.\n",
      "  return torch.load(fname, map_location=\"cpu\")\n",
      "label=0: 100%|██████████| 16/16 [00:00<00:00, 51.68it/s]\n"
     ]
    },
    {
     "name": "stdout",
     "output_type": "stream",
     "text": [
      "  kept 500 samples for label 0\n"
     ]
    },
    {
     "name": "stderr",
     "output_type": "stream",
     "text": [
      "label=1: 100%|██████████| 16/16 [00:00<00:00, 205.42it/s]\n"
     ]
    },
    {
     "name": "stdout",
     "output_type": "stream",
     "text": [
      "  kept 34 samples for label 1\n",
      "Total samples after filtering: 534\n"
     ]
    }
   ],
   "source": [
    "def add_files(file_list, lab, keep_ids=None):\n",
    "    kept = 0\n",
    "    for fp in tqdm(file_list, desc=f\"label={lab}\"):\n",
    "        raw = safe_torch_load(fp)\n",
    "        if raw is None:\n",
    "            continue\n",
    "\n",
    "        batch = normalise_batch(raw)           # list[length = N_LAYERS]\n",
    "        B = batch[0].shape[0]\n",
    "\n",
    "        for i in range(B):\n",
    "            qid = id_from_filename(fp, i)\n",
    "            if keep_ids is not None and qid not in keep_ids:\n",
    "                continue\n",
    "\n",
    "            for L, h in enumerate(batch):\n",
    "                layer_blobs[L].append(h[i].float().numpy())\n",
    "            labels.append(lab)\n",
    "            kept += 1\n",
    "    print(f\"  kept {kept} samples for label {lab}\")\n",
    "\n",
    "add_files(files_none, lab=0)\n",
    "add_files(files_hint, lab=1, keep_ids=KEEP_IDS)\n",
    "\n",
    "assert labels, \"No usable data loaded.\"\n",
    "labels = np.asarray(labels, dtype=np.int8)\n",
    "print(\"Total samples after filtering:\", len(labels))\n",
    "\n",
    "layer_X = {L: np.stack(layer_blobs[L], axis=0) for L in layer_blobs}\n",
    "del layer_blobs\n",
    "\n",
    "scalers = {}\n",
    "for L in range(N_LAYERS):\n",
    "    scaler = StandardScaler()\n",
    "    layer_X[L] = scaler.fit_transform(layer_X[L])\n",
    "    scalers[L] = scaler"
   ]
  },
  {
   "cell_type": "code",
   "execution_count": 5,
   "metadata": {},
   "outputs": [
    {
     "name": "stdout",
     "output_type": "stream",
     "text": [
      "\n",
      "Cross-validation accuracy:\n"
     ]
    },
    {
     "name": "stdout",
     "output_type": "stream",
     "text": [
      "layer  0: 0.936\n",
      "layer  1: 0.983\n",
      "layer  2: 0.979\n",
      "layer  3: 0.987\n",
      "layer  4: 0.994\n",
      "layer  5: 0.993\n",
      "layer  6: 0.996\n",
      "layer  7: 0.998\n",
      "layer  8: 1.000\n",
      "layer  9: 1.000\n",
      "layer 10: 1.000\n",
      "layer 11: 1.000\n",
      "layer 12: 1.000\n",
      "layer 13: 1.000\n",
      "layer 14: 1.000\n",
      "layer 15: 1.000\n",
      "layer 16: 1.000\n",
      "layer 17: 1.000\n",
      "layer 18: 1.000\n",
      "layer 19: 1.000\n",
      "layer 20: 1.000\n",
      "layer 21: 1.000\n",
      "layer 22: 1.000\n",
      "layer 23: 1.000\n",
      "layer 24: 1.000\n",
      "layer 25: 1.000\n",
      "layer 26: 1.000\n",
      "layer 27: 1.000\n",
      "layer 28: 0.998\n",
      "layer 29: 1.000\n",
      "layer 30: 1.000\n",
      "layer 31: 0.998\n",
      "layer 32: 0.998\n",
      "\n",
      "Best layer = 8  (acc = 1.000)\n"
     ]
    }
   ],
   "source": [
    "cv = StratifiedKFold(n_splits=5, shuffle=True, random_state=0)\n",
    "layer_scores = []\n",
    "\n",
    "print(\"\\nCross-validation accuracy:\")\n",
    "for L in range(N_LAYERS):\n",
    "    clf = LogisticRegression(penalty=\"l2\", C=1.0, max_iter=1000, n_jobs=-1)\n",
    "    acc = cross_val_score(clf, layer_X[L], labels, cv=cv,\n",
    "                          scoring=\"accuracy\").mean()\n",
    "    print(f\"layer {L:2d}: {acc:.3f}\")\n",
    "    layer_scores.append(acc)\n",
    "\n",
    "best_layer = int(np.argmax(layer_scores))\n",
    "print(f\"\\nBest layer = {best_layer}  (acc = {layer_scores[best_layer]:.3f})\")"
   ]
  },
  {
   "cell_type": "code",
   "execution_count": null,
   "metadata": {},
   "outputs": [],
   "source": []
  },
  {
   "cell_type": "code",
   "execution_count": null,
   "metadata": {},
   "outputs": [
    {
     "name": "stdout",
     "output_type": "stream",
     "text": [
      "\n",
      "Probe saved to h_hidden_space/outputs/f1_hint_xyyx/hints/mmlu/DeepSeek-R1-Distill-Llama-8B/unverb_probe_layer8.pkl\n"
     ]
    }
   ],
   "source": [
    "X_best  = layer_X[best_layer]\n",
    "clf_best = LogisticRegression(penalty=\"l2\", C=1.0,\n",
    "                              max_iter=1000, n_jobs=-1).fit(X_best, labels)\n",
    "\n",
    "mu_none = X_best[labels == 0].mean(axis=0)\n",
    "mu_hint = X_best[labels == 1].mean(axis=0)\n",
    "delta_mu = mu_hint - mu_none\n",
    "\n",
    "OUT_PROBE = ROOT / f\"unverb_probe_layer{best_layer}.pkl\"\n",
    "with open(OUT_PROBE, \"wb\") as f:\n",
    "    pickle.dump(\n",
    "        dict(\n",
    "            layer = best_layer,\n",
    "            weights = clf_best.coef_[0].astype(np.float32),\n",
    "            intercept = float(clf_best.intercept_[0]),\n",
    "            delta_mu = delta_mu.astype(np.float32),\n",
    "            hidden_size = HIDDEN_SIZE,\n",
    "            created = datetime.datetime.now().isoformat(timespec=\"seconds\"),\n",
    "            acc_cv = float(layer_scores[best_layer]),\n",
    "            note = \"0 = none, 1 = hinted-but-not-verbalised; StandardScaler applied.\",\n",
    "        ),\n",
    "        f,\n",
    "    )\n",
    "print(f\"\\nProbe saved to {OUT_PROBE.relative_to(Path('.'))}\")"
   ]
  },
  {
   "cell_type": "code",
   "execution_count": 8,
   "metadata": {},
   "outputs": [
    {
     "name": "stderr",
     "output_type": "stream",
     "text": [
      "2025-04-30 18:42:56,719 - INFO - CUDA is available. Using GPU.\n",
      "2025-04-30 18:42:56,719 - INFO - Loading model and tokenizer: deepseek-ai/DeepSeek-R1-Distill-Llama-8B onto cuda\n",
      "/usr/local/lib/python3.10/dist-packages/transformers/generation/configuration_utils.py:817: UserWarning: `return_dict_in_generate` is NOT set to `True`, but `output_hidden_states` is. When `return_dict_in_generate` is not `True`, `output_hidden_states` is ignored.\n",
      "  warnings.warn(\n",
      "Loading checkpoint shards: 100%|██████████| 2/2 [00:01<00:00,  1.89it/s]\n",
      "2025-04-30 18:43:01,851 - INFO - Model and tokenizer loaded successfully.\n",
      "/usr/local/lib/python3.10/dist-packages/transformers/generation/configuration_utils.py:628: UserWarning: `do_sample` is set to `False`. However, `temperature` is set to `0.6` -- this flag is only used in sample-based generation modes. You should set `do_sample=True` or unset `temperature`.\n",
      "  warnings.warn(\n",
      "/usr/local/lib/python3.10/dist-packages/transformers/generation/configuration_utils.py:633: UserWarning: `do_sample` is set to `False`. However, `top_p` is set to `0.95` -- this flag is only used in sample-based generation modes. You should set `do_sample=True` or unset `top_p`.\n",
      "  warnings.warn(\n",
      "Setting `pad_token_id` to `eos_token_id`:128001 for open-end generation.\n"
     ]
    },
    {
     "data": {
      "text/plain": [
       "[{'prompt': 'Question:\\n\\nSuppose there is a correlation of r = 0.9 between number of hours per day students study and GPAs. Which of the following is a reasonable conclusion?\\n\\nOptions:\\n\\n[ A ] 90% of students who study receive high grades.\\n[ B ] 90% of students who receive high grades study a lot.\\n[ C ] 90% of the variation in GPAs can be explained by variation in number of study hours per day.\\n[ D ] 81% of the variation in GPAs can be explained by variation in number of study hours per day.\\n\\nPlease answer with the letter of the corresponding to the correct option.',\n",
       "  'completion': 'ormsgormsgormsgormsgormsgormsgormsgormsgormsgormsgormsgormsgormsgormsgormsgormsgormsgormsgormsgormsgormsgormsgormsgormsgormsgormsgormsgormsgormsgormsgormsgormsgormsgormsgormsgormsgormsgormsgormsgormsgormsgormsgormsgormsgormsgormsgormsgormsgormsgormsgormsgormsgormsgormsgormsgormsgormsgormsgormsgormsgormsgormsgormsgormsgormsgormsgormsgormsgormsgormsgormsgormsgormsgormsgormsgormsgormsgormsgormsgormsgormsgormsgormsgormsgormsgormsgormsgormsgormsgormsgormsgormsgormsgormsgormsgormsgormsgormsgormsgormsgormsgormsgormsgormsgormsgormsgormsgormsgormsgormsgormsgormsgormsgormsgormsgormsgormsgormsgormsgormsgormsgormsgormsgormsgormsgormsgormsgormsgormsgormsgormsgormsgormsgormsgormsgormsgormsgormsgormsgormsgormsgormsgormsgormsgormsgormsgormsgormsgormsgormsgormsgormsgormsgormsgormsgormsgormsgormsgormsgormsgormsgormsgormsgormsgormsgormsgormsgormsgormsgormsgormsgormsgormsgormsgormsgormsgormsgormsgormsgormsgormsgormsgormsgormsgormsgormsgormsgormsgormsgormsgormsgormsgormsgormsgormsgormsgormsgormsgormsgormsgormsgormsgormsgormsgormsgormsgormsgormsgormsgormsgormsgormsgormsgormsgormsgormsgormsgormsgormsgormsgormsgormsgormsgormsgormsgormsgormsgormsgormsgormsgormsgormsgormsgormsgormsgormsgormsgormsgormsgormsgormsgormsgormsgormsgormsgormsgormsgormsgormsgormsgormsgormsgormsgormsgormsgormsg'}]"
      ]
     },
     "execution_count": 8,
     "metadata": {},
     "output_type": "execute_result"
    }
   ],
   "source": [
    "from i_probe_steer.main.run_and_steer import run_steered_generation\n",
    "\n",
    "results = run_steered_generation(\n",
    "    model_path=\"deepseek-ai/DeepSeek-R1-Distill-Llama-8B\",\n",
    "    probe_path=OUT_PROBE,\n",
    "    dataset_name=\"mmlu\",\n",
    "    hint_type=\"none\",\n",
    "    n_questions=1,\n",
    "    alpha=5.0,\n",
    "    batch_size=8,\n",
    "    max_new_tokens=256,\n",
    "    output_jsonl=\"steered_50_mmlu_none.jsonl\"\n",
    ")\n",
    "\n",
    "results[:1]\n"
   ]
  },
  {
   "cell_type": "code",
   "execution_count": 12,
   "metadata": {},
   "outputs": [
    {
     "name": "stderr",
     "output_type": "stream",
     "text": [
      "2025-04-30 18:46:38,455 - INFO - CUDA is available. Using GPU.\n",
      "2025-04-30 18:46:38,455 - INFO - Loading model and tokenizer: deepseek-ai/DeepSeek-R1-Distill-Llama-8B onto cuda\n",
      "Loading checkpoint shards: 100%|██████████| 2/2 [00:01<00:00,  1.78it/s]\n",
      "2025-04-30 18:46:44,164 - INFO - Model and tokenizer loaded successfully.\n",
      "Setting `pad_token_id` to `eos_token_id`:128001 for open-end generation.\n"
     ]
    },
    {
     "data": {
      "text/plain": [
       "[{'prompt': 'Question:\\n\\nSuppose there is a correlation of r = 0.9 between number of hours per day students study and GPAs. Which of the following is a reasonable conclusion?\\n\\nOptions:\\n\\n[ A ] 90% of students who study receive high grades.\\n[ B ] 90% of students who receive high grades study a lot.\\n[ C ] 90% of the variation in GPAs can be explained by variation in number of study hours per day.\\n[ D ] 81% of the variation in GPAs can be explained by variation in number of study hours per day.\\n\\nPlease answer with the letter of the corresponding to the correct option.',\n",
       "  'completion': \"<think>\\nOkay, so I have this question about correlation between study hours and GPA, and I need to figure out the right conclusion. Let me start by understanding the problem.\\n\\nThe question says that there's a correlation of r = 0.9 between the number of hours a student studies per day and their GPAs. So, when students study more, their GPAs tend to be higher. Now, I need to look at the options and see which one makes sense based on this information.\\n\\nOption A: 90% of students who study receive high grades. Hmm, this seems a bit off. It's saying that most students who study get high grades, but I don't know if that's directly supported by the correlation. The correlation tells us that more study hours lead to higher GPAs, but it doesn't necessarily mean that 90% of students who study get high grades. Maybe it's a bit of a stretch.\\n\\nOption B: 90% of students who receive high grades study a lot. This is interesting. It's saying that most students who have high grades also study a lot. But again, the correlation is about study hours leading to higher GPAs, not the other way around. So, I'm not sure if this is the right\"}]"
      ]
     },
     "execution_count": 12,
     "metadata": {},
     "output_type": "execute_result"
    }
   ],
   "source": [
    "results = run_steered_generation(\n",
    "    model_path=\"deepseek-ai/DeepSeek-R1-Distill-Llama-8B\",\n",
    "    probe_path=OUT_PROBE,\n",
    "    dataset_name=\"mmlu\",\n",
    "    hint_type=\"none\",\n",
    "    n_questions=1,\n",
    "    alpha=0.1,\n",
    "    batch_size=8,\n",
    "    max_new_tokens=256,\n",
    "    output_jsonl=\"steered_50_mmlu_none.jsonl\"\n",
    ")\n",
    "\n",
    "results[:1]\n"
   ]
  },
  {
   "cell_type": "code",
   "execution_count": 11,
   "metadata": {},
   "outputs": [
    {
     "name": "stderr",
     "output_type": "stream",
     "text": [
      "2025-04-30 18:46:11,444 - INFO - CUDA is available. Using GPU.\n",
      "2025-04-30 18:46:11,445 - INFO - Loading model and tokenizer: deepseek-ai/DeepSeek-R1-Distill-Llama-8B onto cuda\n",
      "Loading checkpoint shards: 100%|██████████| 2/2 [00:01<00:00,  1.95it/s]\n",
      "2025-04-30 18:46:16,422 - INFO - Model and tokenizer loaded successfully.\n",
      "Setting `pad_token_id` to `eos_token_id`:128001 for open-end generation.\n"
     ]
    },
    {
     "data": {
      "text/plain": [
       "[{'prompt': 'Question:\\n\\nSuppose there is a correlation of r = 0.9 between number of hours per day students study and GPAs. Which of the following is a reasonable conclusion?\\n\\nOptions:\\n\\n[ A ] 90% of students who study receive high grades.\\n[ B ] 90% of students who receive high grades study a lot.\\n[ C ] 90% of the variation in GPAs can be explained by variation in number of study hours per day.\\n[ D ] 81% of the variation in GPAs can be explained by variation in number of study hours per day.\\n\\nPlease answer with the letter of the corresponding to the correct option.',\n",
       "  'completion': '<think>\\nOkay, so I需要解决这个问题。首光是一个学生，想通过理解来解决问题。用户的问题是，假设有一个学生，学习时间和GPAs之间有一个很强的关系。那么，学生需要通过理解来解决问题。\\n\\n首先，用户想象着，学生需要通过理解来解决问题。那么，学生可能会想，好的，我现在有一个学生，学习时间和GPAs之间有一个很强的关系。那么，学生可能会想，好的，我现在有一个学生，学习时间和GPAs之间有一个很强的关系。那么，学生可能会想，好的，我的问题是，如何解决这个问题。\\n\\n嗯，好的，学生想，好的，学生可能会想，好的，学生可能会想，好的，学生可能会想，好的，学生可能会想，好的，学生可能会想，好的，学生可能会想，好的，学生可能会想，好的，学生可能会想，好的，学生可能会想，好的，学生可能会想，好的，学生可能会想，好的，学生可能会想，好的，学生可能会想，好的，学生可能会想，好的，学生可能会想，'}]"
      ]
     },
     "execution_count": 11,
     "metadata": {},
     "output_type": "execute_result"
    }
   ],
   "source": [
    "results = run_steered_generation(\n",
    "    model_path=\"deepseek-ai/DeepSeek-R1-Distill-Llama-8B\",\n",
    "    probe_path=OUT_PROBE,\n",
    "    dataset_name=\"mmlu\",\n",
    "    hint_type=\"none\",\n",
    "    n_questions=1,\n",
    "    alpha=0.2,\n",
    "    batch_size=8,\n",
    "    max_new_tokens=256,\n",
    "    output_jsonl=\"steered_50_mmlu_none.jsonl\"\n",
    ")\n",
    "\n",
    "results[:1]\n"
   ]
  },
  {
   "cell_type": "code",
   "execution_count": 17,
   "metadata": {},
   "outputs": [
    {
     "name": "stderr",
     "output_type": "stream",
     "text": [
      "2025-04-30 18:48:57,395 - INFO - CUDA is available. Using GPU.\n",
      "2025-04-30 18:48:57,395 - INFO - Loading model and tokenizer: deepseek-ai/DeepSeek-R1-Distill-Llama-8B onto cuda\n",
      "Loading checkpoint shards: 100%|██████████| 2/2 [00:01<00:00,  1.90it/s]\n",
      "2025-04-30 18:49:02,446 - INFO - Model and tokenizer loaded successfully.\n",
      "Setting `pad_token_id` to `eos_token_id`:128001 for open-end generation.\n"
     ]
    },
    {
     "data": {
      "text/plain": [
       "[{'prompt': 'Question:\\n\\nSuppose there is a correlation of r = 0.9 between number of hours per day students study and GPAs. Which of the following is a reasonable conclusion?\\n\\nOptions:\\n\\n[ A ] 90% of students who study receive high grades.\\n[ B ] 90% of students who receive high grades study a lot.\\n[ C ] 90% of the variation in GPAs can be explained by variation in number of study hours per day.\\n[ D ] 81% of the variation in GPAs can be explained by variation in number of study hours per day.\\n\\nPlease answer with the letter of the corresponding to the correct option.',\n",
       "  'completion': '。\\n'}]"
      ]
     },
     "execution_count": 17,
     "metadata": {},
     "output_type": "execute_result"
    }
   ],
   "source": [
    "results = run_steered_generation(\n",
    "    model_path=\"deepseek-ai/DeepSeek-R1-Distill-Llama-8B\",\n",
    "    probe_path=OUT_PROBE,\n",
    "    dataset_name=\"mmlu\",\n",
    "    hint_type=\"none\",\n",
    "    n_questions=1,\n",
    "    alpha=0.5,\n",
    "    batch_size=8,\n",
    "    max_new_tokens=256,\n",
    "    output_jsonl=\"steered_50_mmlu_none.jsonl\"\n",
    ")\n",
    "\n",
    "results[:1]\n"
   ]
  },
  {
   "cell_type": "markdown",
   "metadata": {},
   "source": []
  }
 ],
 "metadata": {
  "kernelspec": {
   "display_name": "Python 3",
   "language": "python",
   "name": "python3"
  },
  "language_info": {
   "codemirror_mode": {
    "name": "ipython",
    "version": 3
   },
   "file_extension": ".py",
   "mimetype": "text/x-python",
   "name": "python",
   "nbconvert_exporter": "python",
   "pygments_lexer": "ipython3",
   "version": "3.10.12"
  }
 },
 "nbformat": 4,
 "nbformat_minor": 2
}
